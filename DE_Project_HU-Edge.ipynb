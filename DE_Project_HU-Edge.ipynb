{
  "cells": [
    {
      "cell_type": "code",
      "source": [
        "# products_df\r\n",
        "# transactions_df\r\n",
        "# customers_df"
      ],
      "outputs": [
        {
          "output_type": "display_data",
          "data": {
            "application/vnd.livy.statement-meta+json": {
              "spark_pool": "taxprocessing",
              "session_id": "9",
              "statement_id": 2,
              "statement_ids": [
                2
              ],
              "state": "finished",
              "livy_statement_state": "available",
              "queued_time": "2024-06-16T05:56:30.7008092Z",
              "session_start_time": "2024-06-16T05:56:30.7407666Z",
              "execution_start_time": "2024-06-16T05:57:36.5123171Z",
              "execution_finish_time": "2024-06-16T05:57:36.6892073Z",
              "spark_jobs": null,
              "parent_msg_id": "83b16a99-030e-4b9c-8dd0-6091987a9c8f"
            },
            "text/plain": "StatementMeta(taxprocessing, 9, 2, Finished, Available)"
          },
          "metadata": {}
        }
      ],
      "execution_count": 84,
      "metadata": {
        "jupyter": {
          "source_hidden": false,
          "outputs_hidden": false
        },
        "nteract": {
          "transient": {
            "deleting": false
          }
        }
      }
    },
    {
      "cell_type": "code",
      "source": [
        "from pyspark.sql import SparkSession\r\n",
        "from pyspark.sql.functions import *\r\n",
        "from pyspark.sql.types import *\r\n",
        "\r\n",
        "# Path to the JDBC driver JAR file in ADLS\r\n",
        "jdbc_driver_path = \"abfss://mycontainer@adlsgen21507.dfs.core.windows.net/synapse/workspaces/spark-notebook-taxprocessing/mssql-jdbc-12.6.2.jre11.jar\"\r\n",
        "\r\n",
        "# Initialize SparkSession with the JDBC driver JAR\r\n",
        "spark = SparkSession.builder \\\r\n",
        "    .appName(\"tax-processing\") \\\r\n",
        "    .config(\"spark.jars\", jdbc_driver_path) \\\r\n",
        "    .getOrCreate()\r\n",
        "\r\n",
        "df1 = spark.read.load('abfss://mycontainer@adlsgen21507.dfs.core.windows.net/transactions.csv', format='csv', header=True,inferSchma = True)\r\n",
        "display(df1.limit(10))"
      ],
      "outputs": [
        {
          "output_type": "display_data",
          "data": {
            "application/vnd.livy.statement-meta+json": {
              "spark_pool": "taxprocessing",
              "session_id": "9",
              "statement_id": 3,
              "statement_ids": [
                3
              ],
              "state": "finished",
              "livy_statement_state": "available",
              "queued_time": "2024-06-16T05:56:31.0865728Z",
              "session_start_time": null,
              "execution_start_time": "2024-06-16T05:57:36.882002Z",
              "execution_finish_time": "2024-06-16T05:57:47.6478122Z",
              "spark_jobs": null,
              "parent_msg_id": "7bc6749a-247f-41bf-b288-8d11d78fe308"
            },
            "text/plain": "StatementMeta(taxprocessing, 9, 3, Finished, Available)"
          },
          "metadata": {}
        },
        {
          "output_type": "display_data",
          "data": {
            "application/vnd.synapse.widget-view+json": {
              "widget_id": "1ae371c2-833f-4b36-b2bc-ca88fd6dee63",
              "widget_type": "Synapse.DataFrame"
            },
            "text/plain": "SynapseWidget(Synapse.DataFrame, 1ae371c2-833f-4b36-b2bc-ca88fd6dee63)"
          },
          "metadata": {}
        }
      ],
      "execution_count": 85,
      "metadata": {
        "collapsed": false
      }
    },
    {
      "cell_type": "code",
      "source": [
        "df1.printSchema() "
      ],
      "outputs": [
        {
          "output_type": "display_data",
          "data": {
            "application/vnd.livy.statement-meta+json": {
              "spark_pool": "taxprocessing",
              "session_id": "9",
              "statement_id": 4,
              "statement_ids": [
                4
              ],
              "state": "finished",
              "livy_statement_state": "available",
              "queued_time": "2024-06-16T05:56:31.8190924Z",
              "session_start_time": null,
              "execution_start_time": "2024-06-16T05:57:47.7848415Z",
              "execution_finish_time": "2024-06-16T05:57:47.9627541Z",
              "spark_jobs": null,
              "parent_msg_id": "f26f9ca7-b1da-48f1-94cf-39e9cec51415"
            },
            "text/plain": "StatementMeta(taxprocessing, 9, 4, Finished, Available)"
          },
          "metadata": {}
        },
        {
          "output_type": "stream",
          "name": "stdout",
          "text": [
            "root\n |-- transaction_id: string (nullable = true)\n |-- customer_id: string (nullable = true)\n |-- date: string (nullable = true)\n |-- items: string (nullable = true)\n\n"
          ]
        }
      ],
      "execution_count": 86,
      "metadata": {
        "jupyter": {
          "source_hidden": false,
          "outputs_hidden": false
        },
        "nteract": {
          "transient": {
            "deleting": false
          }
        }
      }
    },
    {
      "cell_type": "code",
      "source": [
        "StructTypeSchema = StructType([\r\n",
        "    StructField(\"product_id\", StringType(), True),  # Optional field\r\n",
        "    StructField(\"quantity\", IntegerType(), True),   # Optional field (corrected typo)\r\n",
        "    StructField(\"price\", StringType(), True)       # Optional field\r\n",
        "])\r\n",
        "df1 = df1.withColumn('propStruct', from_json(df1.items,StructTypeSchema))\r\n",
        "\r\n",
        "df1.show() "
      ],
      "outputs": [
        {
          "output_type": "display_data",
          "data": {
            "application/vnd.livy.statement-meta+json": {
              "spark_pool": "taxprocessing",
              "session_id": "9",
              "statement_id": 5,
              "statement_ids": [
                5
              ],
              "state": "finished",
              "livy_statement_state": "available",
              "queued_time": "2024-06-16T05:56:32.5234209Z",
              "session_start_time": null,
              "execution_start_time": "2024-06-16T05:57:48.1203458Z",
              "execution_finish_time": "2024-06-16T05:57:48.7131542Z",
              "spark_jobs": null,
              "parent_msg_id": "d592f328-3660-4c0d-a9dd-ff67ce649721"
            },
            "text/plain": "StatementMeta(taxprocessing, 9, 5, Finished, Available)"
          },
          "metadata": {}
        },
        {
          "output_type": "stream",
          "name": "stdout",
          "text": [
            "+--------------------+-----------+----------+--------------------+--------------------+\n|      transaction_id|customer_id|      date|               items|          propStruct|\n+--------------------+-----------+----------+--------------------+--------------------+\n|K-12722-FUR-FU-10...|    K-12722|2022-07-30|{'product_id': 'F...|{FUR-FU-10004665,...|\n|K-12722-OFF-AR-10...|    K-12722|2022-09-26|{'product_id': 'O...|{OFF-AR-10002053,...|\n|K-12722-TEC-PH-10...|    K-12722|2023-06-20|{'product_id': 'T...|{TEC-PH-10001459,...|\n|WB-64368-OFF-BI-1...|   WB-64368|2022-10-21|{'product_id': 'O...|{OFF-BI-10003655,...|\n|WB-64368-OFF-LA-1...|   WB-64368|2024-04-23|{'product_id': 'O...|{OFF-LA-10002381,...|\n|WB-64368-OFF-PA-1...|   WB-64368|2022-08-11|{'product_id': 'O...|{OFF-PA-10003129,...|\n|J-14825-FUR-BO-10...|    J-14825|2023-06-18|{'product_id': 'F...|{FUR-BO-10000468,...|\n|J-14825-TEC-MA-10...|    J-14825|2023-04-20|{'product_id': 'T...|{TEC-MA-10001031,...|\n|J-14825-OFF-PA-10...|    J-14825|2022-09-10|{'product_id': 'O...|{OFF-PA-10002230,...|\n|J-14825-OFF-AR-10...|    J-14825|2021-09-17|{'product_id': 'O...|{OFF-AR-10003958,...|\n|J-14825-FUR-FU-10...|    J-14825|2021-12-03|{'product_id': 'F...|{FUR-FU-10001588,...|\n|A-30388-FUR-CH-10...|    A-30388|2024-05-01|{'product_id': 'F...|{FUR-CH-10004997,...|\n|A-30388-OFF-BI-10...|    A-30388|2021-09-03|{'product_id': 'O...|{OFF-BI-10003718,...|\n|A-30388-FUR-BO-10...|    A-30388|2023-12-28|{'product_id': 'F...|{FUR-BO-10003034,...|\n|AP-31244-FUR-TA-1...|   AP-31244|2023-01-07|{'product_id': 'F...|{FUR-TA-10000577,...|\n|AP-31244-TEC-PH-1...|   AP-31244|2022-09-07|{'product_id': 'T...|{TEC-PH-10002200,...|\n|AP-31244-TEC-AC-1...|   AP-31244|2022-01-25|{'product_id': 'T...|{TEC-AC-10003289,...|\n|AP-31244-TEC-MA-1...|   AP-31244|2024-04-01|{'product_id': 'T...|{TEC-MA-10001148,...|\n|K-79252-OFF-BI-10...|    K-79252|2022-12-26|{'product_id': 'O...|{OFF-BI-10003694,...|\n|K-79252-TEC-PH-10...|    K-79252|2022-04-28|{'product_id': 'T...|{TEC-PH-10002817,...|\n+--------------------+-----------+----------+--------------------+--------------------+\nonly showing top 20 rows\n\n"
          ]
        }
      ],
      "execution_count": 87,
      "metadata": {
        "jupyter": {
          "source_hidden": false,
          "outputs_hidden": false
        },
        "nteract": {
          "transient": {
            "deleting": false
          }
        }
      }
    },
    {
      "cell_type": "code",
      "source": [
        "df1.printSchema()"
      ],
      "outputs": [
        {
          "output_type": "display_data",
          "data": {
            "application/vnd.livy.statement-meta+json": {
              "spark_pool": "taxprocessing",
              "session_id": "9",
              "statement_id": 6,
              "statement_ids": [
                6
              ],
              "state": "finished",
              "livy_statement_state": "available",
              "queued_time": "2024-06-16T05:56:33.0150534Z",
              "session_start_time": null,
              "execution_start_time": "2024-06-16T05:57:48.8542396Z",
              "execution_finish_time": "2024-06-16T05:57:49.0226602Z",
              "spark_jobs": null,
              "parent_msg_id": "56c448fa-cb83-477e-befc-53fe2e3d279c"
            },
            "text/plain": "StatementMeta(taxprocessing, 9, 6, Finished, Available)"
          },
          "metadata": {}
        },
        {
          "output_type": "stream",
          "name": "stdout",
          "text": [
            "root\n |-- transaction_id: string (nullable = true)\n |-- customer_id: string (nullable = true)\n |-- date: string (nullable = true)\n |-- items: string (nullable = true)\n |-- propStruct: struct (nullable = true)\n |    |-- product_id: string (nullable = true)\n |    |-- quantity: integer (nullable = true)\n |    |-- price: string (nullable = true)\n\n"
          ]
        }
      ],
      "execution_count": 88,
      "metadata": {
        "jupyter": {
          "source_hidden": false,
          "outputs_hidden": false
        },
        "nteract": {
          "transient": {
            "deleting": false
          }
        }
      }
    },
    {
      "cell_type": "code",
      "source": [
        "transactions_df = df1.select(col('transaction_id'),col('customer_id'),col('date'),col('propStruct.product_id').alias('product_id'),col('propStruct.quantity').alias('quantity'),col('propStruct.price').alias('price'))"
      ],
      "outputs": [
        {
          "output_type": "display_data",
          "data": {
            "application/vnd.livy.statement-meta+json": {
              "spark_pool": "taxprocessing",
              "session_id": "9",
              "statement_id": 7,
              "statement_ids": [
                7
              ],
              "state": "finished",
              "livy_statement_state": "available",
              "queued_time": "2024-06-16T05:56:33.5031746Z",
              "session_start_time": null,
              "execution_start_time": "2024-06-16T05:57:49.1724181Z",
              "execution_finish_time": "2024-06-16T05:57:49.3547893Z",
              "spark_jobs": null,
              "parent_msg_id": "a2cd698b-50f8-46ef-83e0-6bc53f523e43"
            },
            "text/plain": "StatementMeta(taxprocessing, 9, 7, Finished, Available)"
          },
          "metadata": {}
        }
      ],
      "execution_count": 89,
      "metadata": {
        "jupyter": {
          "source_hidden": false,
          "outputs_hidden": false
        },
        "nteract": {
          "transient": {
            "deleting": false
          }
        }
      }
    },
    {
      "cell_type": "code",
      "source": [
        "transactions_df.show() "
      ],
      "outputs": [
        {
          "output_type": "display_data",
          "data": {
            "application/vnd.livy.statement-meta+json": {
              "spark_pool": "taxprocessing",
              "session_id": "9",
              "statement_id": 8,
              "statement_ids": [
                8
              ],
              "state": "finished",
              "livy_statement_state": "available",
              "queued_time": "2024-06-16T05:56:33.7968676Z",
              "session_start_time": null,
              "execution_start_time": "2024-06-16T05:57:49.5015824Z",
              "execution_finish_time": "2024-06-16T05:57:50.0697678Z",
              "spark_jobs": null,
              "parent_msg_id": "581ac292-c340-4058-9024-69cf0148cd19"
            },
            "text/plain": "StatementMeta(taxprocessing, 9, 8, Finished, Available)"
          },
          "metadata": {}
        },
        {
          "output_type": "stream",
          "name": "stdout",
          "text": [
            "+--------------------+-----------+----------+---------------+--------+--------+\n|      transaction_id|customer_id|      date|     product_id|quantity|   price|\n+--------------------+-----------+----------+---------------+--------+--------+\n|K-12722-FUR-FU-10...|    K-12722|2022-07-30|FUR-FU-10004665|       3|   $94.2|\n|K-12722-OFF-AR-10...|    K-12722|2022-09-26|OFF-AR-10002053|       2|  $16.02|\n|K-12722-TEC-PH-10...|    K-12722|2023-06-20|TEC-PH-10001459|       2| $164.88|\n|WB-64368-OFF-BI-1...|   WB-64368|2022-10-21|OFF-BI-10003655|       5|  $16.34|\n|WB-64368-OFF-LA-1...|   WB-64368|2024-04-23|OFF-LA-10002381|       3| $242.94|\n|WB-64368-OFF-PA-1...|   WB-64368|2022-08-11|OFF-PA-10003129|       2|   $32.4|\n|J-14825-FUR-BO-10...|    J-14825|2023-06-18|FUR-BO-10000468|       1| $13.494|\n|J-14825-TEC-MA-10...|    J-14825|2023-04-20|TEC-MA-10001031|       3| $12.224|\n|J-14825-OFF-PA-10...|    J-14825|2022-09-10|OFF-PA-10002230|       2|  $191.6|\n|J-14825-OFF-AR-10...|    J-14825|2021-09-17|OFF-AR-10003958|       4| $54.368|\n|J-14825-FUR-FU-10...|    J-14825|2021-12-03|FUR-FU-10001588|       3|   $7.36|\n|A-30388-FUR-CH-10...|    A-30388|2024-05-01|FUR-CH-10004997|       3|  $9.408|\n|A-30388-OFF-BI-10...|    A-30388|2021-09-03|OFF-BI-10003718|       5|$225.296|\n|A-30388-FUR-BO-10...|    A-30388|2023-12-28|FUR-BO-10003034|       5| $30.345|\n|AP-31244-FUR-TA-1...|   AP-31244|2023-01-07|FUR-TA-10000577|       5|  $19.76|\n|AP-31244-TEC-PH-1...|   AP-31244|2022-09-07|TEC-PH-10002200|       4|    $7.7|\n|AP-31244-TEC-AC-1...|   AP-31244|2022-01-25|TEC-AC-10003289|       2| $731.94|\n|AP-31244-TEC-MA-1...|   AP-31244|2024-04-01|TEC-MA-10001148|       4| $839.43|\n|K-79252-OFF-BI-10...|    K-79252|2022-12-26|OFF-BI-10003694|       3| $161.94|\n|K-79252-TEC-PH-10...|    K-79252|2022-04-28|TEC-PH-10002817|       3|$206.991|\n+--------------------+-----------+----------+---------------+--------+--------+\nonly showing top 20 rows\n\n"
          ]
        }
      ],
      "execution_count": 90,
      "metadata": {
        "jupyter": {
          "source_hidden": false,
          "outputs_hidden": false
        },
        "nteract": {
          "transient": {
            "deleting": false
          }
        }
      }
    },
    {
      "cell_type": "code",
      "source": [
        "transactions_df = transactions_df.withColumn(\"price\",regexp_replace(\"price\",\"\\\\$\",\"\").cast('float'))\\\r\n",
        "                    .withColumn(\"Sales\", expr('quantity * price'))"
      ],
      "outputs": [
        {
          "output_type": "display_data",
          "data": {
            "application/vnd.livy.statement-meta+json": {
              "spark_pool": "taxprocessing",
              "session_id": "9",
              "statement_id": 9,
              "statement_ids": [
                9
              ],
              "state": "finished",
              "livy_statement_state": "available",
              "queued_time": "2024-06-16T05:56:34.0996148Z",
              "session_start_time": null,
              "execution_start_time": "2024-06-16T05:57:50.2117059Z",
              "execution_finish_time": "2024-06-16T05:57:50.3857956Z",
              "spark_jobs": null,
              "parent_msg_id": "171eaa5c-5103-409a-b9ed-3c63180317be"
            },
            "text/plain": "StatementMeta(taxprocessing, 9, 9, Finished, Available)"
          },
          "metadata": {}
        }
      ],
      "execution_count": 91,
      "metadata": {
        "jupyter": {
          "source_hidden": false,
          "outputs_hidden": false
        },
        "nteract": {
          "transient": {
            "deleting": false
          }
        }
      }
    },
    {
      "cell_type": "code",
      "source": [
        "transactions_df.printSchema()"
      ],
      "outputs": [
        {
          "output_type": "display_data",
          "data": {
            "application/vnd.livy.statement-meta+json": {
              "spark_pool": "taxprocessing",
              "session_id": "9",
              "statement_id": 10,
              "statement_ids": [
                10
              ],
              "state": "finished",
              "livy_statement_state": "available",
              "queued_time": "2024-06-16T05:56:34.3828481Z",
              "session_start_time": null,
              "execution_start_time": "2024-06-16T05:57:50.7074696Z",
              "execution_finish_time": "2024-06-16T05:57:50.8852906Z",
              "spark_jobs": null,
              "parent_msg_id": "e51cd9a3-c752-48ec-88d4-8488f8e8ffe9"
            },
            "text/plain": "StatementMeta(taxprocessing, 9, 10, Finished, Available)"
          },
          "metadata": {}
        },
        {
          "output_type": "stream",
          "name": "stdout",
          "text": [
            "root\n |-- transaction_id: string (nullable = true)\n |-- customer_id: string (nullable = true)\n |-- date: string (nullable = true)\n |-- product_id: string (nullable = true)\n |-- quantity: integer (nullable = true)\n |-- price: float (nullable = true)\n |-- Sales: float (nullable = true)\n\n"
          ]
        }
      ],
      "execution_count": 92,
      "metadata": {
        "jupyter": {
          "source_hidden": false,
          "outputs_hidden": false
        },
        "nteract": {
          "transient": {
            "deleting": false
          }
        }
      }
    },
    {
      "cell_type": "code",
      "source": [
        "transactions_df.show(10)"
      ],
      "outputs": [
        {
          "output_type": "display_data",
          "data": {
            "application/vnd.livy.statement-meta+json": {
              "spark_pool": "taxprocessing",
              "session_id": "9",
              "statement_id": 11,
              "statement_ids": [
                11
              ],
              "state": "finished",
              "livy_statement_state": "available",
              "queued_time": "2024-06-16T05:56:35.0952499Z",
              "session_start_time": null,
              "execution_start_time": "2024-06-16T05:57:51.0381083Z",
              "execution_finish_time": "2024-06-16T05:57:51.6127308Z",
              "spark_jobs": null,
              "parent_msg_id": "6bfa5654-3448-4570-8029-c6108e3dcf76"
            },
            "text/plain": "StatementMeta(taxprocessing, 9, 11, Finished, Available)"
          },
          "metadata": {}
        },
        {
          "output_type": "stream",
          "name": "stdout",
          "text": [
            "+--------------------+-----------+----------+---------------+--------+------+---------+\n|      transaction_id|customer_id|      date|     product_id|quantity| price|    Sales|\n+--------------------+-----------+----------+---------------+--------+------+---------+\n|K-12722-FUR-FU-10...|    K-12722|2022-07-30|FUR-FU-10004665|       3|  94.2|282.59998|\n|K-12722-OFF-AR-10...|    K-12722|2022-09-26|OFF-AR-10002053|       2| 16.02|    32.04|\n|K-12722-TEC-PH-10...|    K-12722|2023-06-20|TEC-PH-10001459|       2|164.88|   329.76|\n|WB-64368-OFF-BI-1...|   WB-64368|2022-10-21|OFF-BI-10003655|       5| 16.34|     81.7|\n|WB-64368-OFF-LA-1...|   WB-64368|2024-04-23|OFF-LA-10002381|       3|242.94|   728.82|\n|WB-64368-OFF-PA-1...|   WB-64368|2022-08-11|OFF-PA-10003129|       2|  32.4|     64.8|\n|J-14825-FUR-BO-10...|    J-14825|2023-06-18|FUR-BO-10000468|       1|13.494|   13.494|\n|J-14825-TEC-MA-10...|    J-14825|2023-04-20|TEC-MA-10001031|       3|12.224|   36.672|\n|J-14825-OFF-PA-10...|    J-14825|2022-09-10|OFF-PA-10002230|       2| 191.6|    383.2|\n|J-14825-OFF-AR-10...|    J-14825|2021-09-17|OFF-AR-10003958|       4|54.368|  217.472|\n+--------------------+-----------+----------+---------------+--------+------+---------+\nonly showing top 10 rows\n\n"
          ]
        }
      ],
      "execution_count": 93,
      "metadata": {
        "jupyter": {
          "source_hidden": false,
          "outputs_hidden": false
        },
        "nteract": {
          "transient": {
            "deleting": false
          }
        }
      }
    },
    {
      "cell_type": "markdown",
      "source": [
        "### Total Sales By Transactions"
      ],
      "metadata": {
        "nteract": {
          "transient": {
            "deleting": false
          }
        }
      }
    },
    {
      "cell_type": "code",
      "source": [
        "total_sales_by_transaction = transactions_df \\\r\n",
        "    .groupBy(col('transaction_id')) \\\r\n",
        "    .agg(sum(col('Sales')).alias('total_sales')) \\\r\n",
        "    .orderBy(col('total_sales'), ascending = False) \\\r\n",
        "    .select('transaction_id', 'total_sales')"
      ],
      "outputs": [
        {
          "output_type": "display_data",
          "data": {
            "application/vnd.livy.statement-meta+json": {
              "spark_pool": "taxprocessing",
              "session_id": "9",
              "statement_id": 12,
              "statement_ids": [
                12
              ],
              "state": "finished",
              "livy_statement_state": "available",
              "queued_time": "2024-06-16T05:56:36.0765046Z",
              "session_start_time": null,
              "execution_start_time": "2024-06-16T05:57:51.7568268Z",
              "execution_finish_time": "2024-06-16T05:57:51.9287237Z",
              "spark_jobs": null,
              "parent_msg_id": "e3ef9562-d4a7-4699-87a4-c1f7526cacba"
            },
            "text/plain": "StatementMeta(taxprocessing, 9, 12, Finished, Available)"
          },
          "metadata": {}
        }
      ],
      "execution_count": 94,
      "metadata": {
        "jupyter": {
          "source_hidden": false,
          "outputs_hidden": false
        },
        "nteract": {
          "transient": {
            "deleting": false
          }
        }
      }
    },
    {
      "cell_type": "code",
      "source": [
        "total_sales_by_transaction.show(50)"
      ],
      "outputs": [
        {
          "output_type": "display_data",
          "data": {
            "application/vnd.livy.statement-meta+json": {
              "spark_pool": "taxprocessing",
              "session_id": "9",
              "statement_id": 13,
              "statement_ids": [
                13
              ],
              "state": "finished",
              "livy_statement_state": "available",
              "queued_time": "2024-06-16T05:56:37.089733Z",
              "session_start_time": null,
              "execution_start_time": "2024-06-16T05:57:52.0950572Z",
              "execution_finish_time": "2024-06-16T05:57:57.5278518Z",
              "spark_jobs": null,
              "parent_msg_id": "51004a86-377c-4515-9ebd-460ae10634b3"
            },
            "text/plain": "StatementMeta(taxprocessing, 9, 13, Finished, Available)"
          },
          "metadata": {}
        },
        {
          "output_type": "stream",
          "name": "stdout",
          "text": [
            "+--------------------+------------+\n|      transaction_id| total_sales|\n+--------------------+------------+\n|AP-85302-FUR-FU-1...|113192.40625|\n|AP-77154-FUR-FU-1...|113192.40625|\n|HP-67453-FUR-FU-1...|113192.40625|\n|MP-25617-FUR-FU-1...|113192.40625|\n|O-72939-FUR-FU-10...|113192.40625|\n|HP-12914-FUR-FU-1...|113192.40625|\n|WB-78345-FUR-FU-1...|113192.40625|\n|MP-43972-FUR-FU-1...|113192.40625|\n|M-37810-FUR-FU-10...|113192.40625|\n|T-98316-FUR-FU-10...|113192.40625|\n|G-76821-FUR-FU-10...|113192.40625|\n|UP-14755-FUR-FU-1...|113192.40625|\n|AP-24050-FUR-FU-1...|113192.40625|\n|O-66967-FUR-FU-10...|113192.40625|\n|N-87419-FUR-FU-10...|113192.40625|\n|K-16342-FUR-FU-10...|113192.40625|\n|UP-40869-FUR-FU-1...|113192.40625|\n|R-78076-FUR-FU-10...|113192.40625|\n|P-24194-FUR-FU-10...|113192.40625|\n|R-32598-FUR-FU-10...|113192.40625|\n|M-60435-FUR-FU-10...|90553.921875|\n|WB-50343-FUR-FU-1...|90553.921875|\n|J-32318-FUR-FU-10...|90553.921875|\n|J-69369-FUR-FU-10...|90553.921875|\n|UP-49535-FUR-FU-1...|90553.921875|\n|G-67661-FUR-FU-10...|90553.921875|\n|K-98841-FUR-FU-10...|90553.921875|\n|T-41777-FUR-FU-10...|90553.921875|\n|G-67544-FUR-FU-10...|90553.921875|\n|WB-43875-FUR-FU-1...|90553.921875|\n|A-63581-FUR-FU-10...|90553.921875|\n|K-36825-FUR-FU-10...|90553.921875|\n|A-97847-FUR-FU-10...|90553.921875|\n|R-84717-FUR-FU-10...|90553.921875|\n|J-53368-FUR-FU-10...|90553.921875|\n|K-48428-FUR-FU-10...|90553.921875|\n|UP-22920-FUR-FU-1...|90553.921875|\n|A-39788-FUR-FU-10...|90553.921875|\n|TN-75005-FUR-FU-1...|90553.921875|\n|B-86491-FUR-FU-10...|90553.921875|\n|K-21972-FUR-FU-10...|90553.921875|\n|AP-40038-FUR-FU-1...|90553.921875|\n|O-90917-FUR-FU-10...|90553.921875|\n|HP-10373-FUR-FU-1...|  67915.4375|\n|P-46736-FUR-FU-10...|  67915.4375|\n|AP-79081-FUR-FU-1...|  67915.4375|\n|J-75114-FUR-FU-10...|  67915.4375|\n|O-67927-FUR-FU-10...|  67915.4375|\n|WB-63181-FUR-FU-1...|  67915.4375|\n|UP-69566-FUR-FU-1...|  67915.4375|\n+--------------------+------------+\nonly showing top 50 rows\n\n"
          ]
        }
      ],
      "execution_count": 95,
      "metadata": {
        "jupyter": {
          "source_hidden": false,
          "outputs_hidden": false
        },
        "nteract": {
          "transient": {
            "deleting": false
          }
        }
      }
    },
    {
      "cell_type": "code",
      "source": [
        "products_df = spark.read.load('abfss://mycontainer@adlsgen21507.dfs.core.windows.net/products (1).csv', format='csv', header=True,inferSchma = True)\r\n",
        "display(products_df.limit(10))"
      ],
      "outputs": [
        {
          "output_type": "display_data",
          "data": {
            "application/vnd.livy.statement-meta+json": {
              "spark_pool": "taxprocessing",
              "session_id": "9",
              "statement_id": 14,
              "statement_ids": [
                14
              ],
              "state": "finished",
              "livy_statement_state": "available",
              "queued_time": "2024-06-16T05:56:38.0907625Z",
              "session_start_time": null,
              "execution_start_time": "2024-06-16T05:57:57.6693313Z",
              "execution_finish_time": "2024-06-16T05:57:59.5880625Z",
              "spark_jobs": null,
              "parent_msg_id": "ba13abfa-e3c9-4a9d-bf1c-853415a1b4e2"
            },
            "text/plain": "StatementMeta(taxprocessing, 9, 14, Finished, Available)"
          },
          "metadata": {}
        },
        {
          "output_type": "display_data",
          "data": {
            "application/vnd.synapse.widget-view+json": {
              "widget_id": "220df194-420e-47e5-bf40-29fae4504a25",
              "widget_type": "Synapse.DataFrame"
            },
            "text/plain": "SynapseWidget(Synapse.DataFrame, 220df194-420e-47e5-bf40-29fae4504a25)"
          },
          "metadata": {}
        }
      ],
      "execution_count": 96,
      "metadata": {
        "jupyter": {
          "source_hidden": false,
          "outputs_hidden": false
        },
        "nteract": {
          "transient": {
            "deleting": false
          }
        },
        "collapsed": false
      }
    },
    {
      "cell_type": "code",
      "source": [
        "# Scale the random values to be between 0.15 and 0.42\r\n",
        "\r\n",
        "random_size = 7.24\r\n",
        "\r\n",
        "products_df = products_df.withColumn(\"tax_percentage\",rand() * random_size) \\\r\n",
        "                .withColumn(\"price\",regexp_replace(\"price\",\"\\\\$\",\"\").cast('float'))\r\n",
        "\r\n",
        "products_df.show(10) "
      ],
      "outputs": [
        {
          "output_type": "display_data",
          "data": {
            "application/vnd.livy.statement-meta+json": {
              "spark_pool": "taxprocessing",
              "session_id": "9",
              "statement_id": 15,
              "statement_ids": [
                15
              ],
              "state": "finished",
              "livy_statement_state": "available",
              "queued_time": "2024-06-16T05:56:39.0934397Z",
              "session_start_time": null,
              "execution_start_time": "2024-06-16T05:57:59.7382831Z",
              "execution_finish_time": "2024-06-16T05:58:00.3061023Z",
              "spark_jobs": null,
              "parent_msg_id": "42b0d99c-81bd-4248-aeac-2366d147ad00"
            },
            "text/plain": "StatementMeta(taxprocessing, 9, 15, Finished, Available)"
          },
          "metadata": {}
        },
        {
          "output_type": "stream",
          "name": "stdout",
          "text": [
            "+---------------+--------------------+--------------------+-------+------------------+\n|     product_id|         description|          attributes|  price|    tax_percentage|\n+---------------+--------------------+--------------------+-------+------------------+\n|FUR-BO-10000112|Bush Birmingham C...|{'product_categor...|   46.0|0.6255698915787462|\n|FUR-BO-10000330|Sauder Camden Cou...|{'product_categor...|1024.38|6.0233799587951555|\n|FUR-BO-10000362|Sauder Inglewood ...|{'product_categor...| 17.216|3.2057056733911056|\n|FUR-BO-10000468|O'Sullivan 2-Shel...|{'product_categor...| 13.494| 2.267389661472281|\n|FUR-BO-10000711|Hon Metal Bookcas...|{'product_categor...|  91.36|1.5886114570735634|\n|FUR-BO-10000780|O'Sullivan Planta...|{'product_categor...|  104.8|  6.92059361511338|\n|FUR-BO-10001337|O'Sullivan Living...|{'product_categor...|  14.94|0.7627121867047044|\n|FUR-BO-10001519|O'Sullivan 3-Shel...|{'product_categor...| 263.88| 3.081862475839149|\n|FUR-BO-10001567|Bush Westfield Co...|{'product_categor...|   28.4| 6.893117817970634|\n|FUR-BO-10001601|Sauder Mission Li...|{'product_categor...| 60.984|1.7475649972059464|\n+---------------+--------------------+--------------------+-------+------------------+\nonly showing top 10 rows\n\n"
          ]
        }
      ],
      "execution_count": 97,
      "metadata": {
        "jupyter": {
          "source_hidden": false,
          "outputs_hidden": false
        },
        "nteract": {
          "transient": {
            "deleting": false
          }
        }
      }
    },
    {
      "cell_type": "markdown",
      "source": [
        "#### Total Tax per transaction"
      ],
      "metadata": {
        "nteract": {
          "transient": {
            "deleting": false
          }
        }
      }
    },
    {
      "cell_type": "code",
      "source": [
        "# joining on 2 condititons for unique product id.\r\n",
        "tax_per_transaction = transactions_df.join(products_df,how='inner',on = (products_df[\"product_id\"] == transactions_df[\"product_id\"]) & (products_df[\"price\"] == transactions_df[\"price\"]))"
      ],
      "outputs": [
        {
          "output_type": "display_data",
          "data": {
            "application/vnd.livy.statement-meta+json": {
              "spark_pool": "taxprocessing",
              "session_id": "9",
              "statement_id": 16,
              "statement_ids": [
                16
              ],
              "state": "finished",
              "livy_statement_state": "available",
              "queued_time": "2024-06-16T05:56:40.0874337Z",
              "session_start_time": null,
              "execution_start_time": "2024-06-16T05:58:00.4803248Z",
              "execution_finish_time": "2024-06-16T05:58:00.6493015Z",
              "spark_jobs": null,
              "parent_msg_id": "2ec83e91-55a9-419e-9cc0-d3947d4bebdd"
            },
            "text/plain": "StatementMeta(taxprocessing, 9, 16, Finished, Available)"
          },
          "metadata": {}
        }
      ],
      "execution_count": 98,
      "metadata": {
        "jupyter": {
          "source_hidden": false,
          "outputs_hidden": false
        },
        "nteract": {
          "transient": {
            "deleting": false
          }
        }
      }
    },
    {
      "cell_type": "code",
      "source": [
        "tax_per_transaction = tax_per_transaction.withColumn(\"total_tax_amount\",expr('tax_percentage * quantity'))"
      ],
      "outputs": [
        {
          "output_type": "display_data",
          "data": {
            "application/vnd.livy.statement-meta+json": {
              "spark_pool": "taxprocessing",
              "session_id": "9",
              "statement_id": 17,
              "statement_ids": [
                17
              ],
              "state": "finished",
              "livy_statement_state": "available",
              "queued_time": "2024-06-16T05:56:41.0941796Z",
              "session_start_time": null,
              "execution_start_time": "2024-06-16T05:58:00.8004212Z",
              "execution_finish_time": "2024-06-16T05:58:00.9758299Z",
              "spark_jobs": null,
              "parent_msg_id": "24d2c625-e981-437f-a7a9-41ff2115c3a0"
            },
            "text/plain": "StatementMeta(taxprocessing, 9, 17, Finished, Available)"
          },
          "metadata": {}
        }
      ],
      "execution_count": 99,
      "metadata": {
        "jupyter": {
          "source_hidden": false,
          "outputs_hidden": false
        },
        "nteract": {
          "transient": {
            "deleting": false
          }
        }
      }
    },
    {
      "cell_type": "code",
      "source": [
        "tax_per_transaction.show(10) "
      ],
      "outputs": [
        {
          "output_type": "display_data",
          "data": {
            "application/vnd.livy.statement-meta+json": {
              "spark_pool": "taxprocessing",
              "session_id": "9",
              "statement_id": 18,
              "statement_ids": [
                18
              ],
              "state": "finished",
              "livy_statement_state": "available",
              "queued_time": "2024-06-16T05:56:42.0792586Z",
              "session_start_time": null,
              "execution_start_time": "2024-06-16T05:58:01.1167407Z",
              "execution_finish_time": "2024-06-16T05:58:02.2990068Z",
              "spark_jobs": null,
              "parent_msg_id": "a5037550-b7a4-47ac-b3b6-b9a6b4f30fa3"
            },
            "text/plain": "StatementMeta(taxprocessing, 9, 18, Finished, Available)"
          },
          "metadata": {}
        },
        {
          "output_type": "stream",
          "name": "stdout",
          "text": [
            "+--------------------+-----------+----------+---------------+--------+------+---------+---------------+--------------------+--------------------+------+------------------+------------------+\n|      transaction_id|customer_id|      date|     product_id|quantity| price|    Sales|     product_id|         description|          attributes| price|    tax_percentage|  total_tax_amount|\n+--------------------+-----------+----------+---------------+--------+------+---------+---------------+--------------------+--------------------+------+------------------+------------------+\n|K-12722-FUR-FU-10...|    K-12722|2022-07-30|FUR-FU-10004665|       3|  94.2|282.59998|FUR-FU-10004665|3M Polarizing Tas...|{'product_categor...|  94.2| 0.736568189408735| 2.209704568226205|\n|K-12722-OFF-AR-10...|    K-12722|2022-09-26|OFF-AR-10002053|       2| 16.02|    32.04|OFF-AR-10002053|Premium Writing P...|{'product_categor...| 16.02|5.5961898935971215|11.192379787194243|\n|K-12722-TEC-PH-10...|    K-12722|2023-06-20|TEC-PH-10001459|       2|164.88|   329.76|TEC-PH-10001459|Samsung Galaxy Me...|{'product_categor...|164.88|2.0375681203024065| 4.075136240604813|\n|WB-64368-OFF-BI-1...|   WB-64368|2022-10-21|OFF-BI-10003655|       5| 16.34|     81.7|OFF-BI-10003655|Durable Pressboar...|{'product_categor...| 16.34| 4.395477959732918| 21.97738979866459|\n|WB-64368-OFF-LA-1...|   WB-64368|2024-04-23|OFF-LA-10002381|       3|242.94|   728.82|OFF-LA-10002381|           Avery 497|{'product_categor...|242.94| 5.202636777053115|15.607910331159346|\n|WB-64368-OFF-PA-1...|   WB-64368|2022-08-11|OFF-PA-10003129|       2|  32.4|     64.8|OFF-PA-10003129|Tops White Comput...|{'product_categor...|  32.4|2.2446352135331136| 4.489270427066227|\n|J-14825-FUR-BO-10...|    J-14825|2023-06-18|FUR-BO-10000468|       1|13.494|   13.494|FUR-BO-10000468|O'Sullivan 2-Shel...|{'product_categor...|13.494| 2.267389661472281| 2.267389661472281|\n|J-14825-TEC-MA-10...|    J-14825|2023-04-20|TEC-MA-10001031|       3|12.224|   36.672|TEC-MA-10001031|Socket Bluetooth ...|{'product_categor...|12.224|0.8796561075553009|2.6389683226659026|\n|J-14825-OFF-PA-10...|    J-14825|2022-09-10|OFF-PA-10002230|       2| 191.6|    383.2|OFF-PA-10002230|          Xerox 1897|{'product_categor...| 191.6| 6.552620870719358|13.105241741438716|\n|J-14825-OFF-AR-10...|    J-14825|2021-09-17|OFF-AR-10003958|       4|54.368|  217.472|OFF-AR-10003958|          Newell 337|{'product_categor...|54.368|6.0972537021348305|24.389014808539322|\n+--------------------+-----------+----------+---------------+--------+------+---------+---------------+--------------------+--------------------+------+------------------+------------------+\nonly showing top 10 rows\n\n"
          ]
        }
      ],
      "execution_count": 100,
      "metadata": {
        "jupyter": {
          "source_hidden": false,
          "outputs_hidden": false
        },
        "nteract": {
          "transient": {
            "deleting": false
          }
        }
      }
    },
    {
      "cell_type": "code",
      "source": [
        "tax_per_transactions1 = tax_per_transaction"
      ],
      "outputs": [
        {
          "output_type": "display_data",
          "data": {
            "application/vnd.livy.statement-meta+json": {
              "spark_pool": "taxprocessing",
              "session_id": "9",
              "statement_id": 19,
              "statement_ids": [
                19
              ],
              "state": "finished",
              "livy_statement_state": "available",
              "queued_time": "2024-06-16T05:56:43.0863397Z",
              "session_start_time": null,
              "execution_start_time": "2024-06-16T05:58:02.4530857Z",
              "execution_finish_time": "2024-06-16T05:58:02.6343494Z",
              "spark_jobs": null,
              "parent_msg_id": "b8497e51-2f34-4018-aa18-08f238eb9ba8"
            },
            "text/plain": "StatementMeta(taxprocessing, 9, 19, Finished, Available)"
          },
          "metadata": {}
        }
      ],
      "execution_count": 101,
      "metadata": {
        "jupyter": {
          "source_hidden": false,
          "outputs_hidden": false
        },
        "nteract": {
          "transient": {
            "deleting": false
          }
        }
      }
    },
    {
      "cell_type": "markdown",
      "source": [
        "### total sales per day"
      ],
      "metadata": {
        "nteract": {
          "transient": {
            "deleting": false
          }
        }
      }
    },
    {
      "cell_type": "code",
      "source": [
        "tax_sales_per_day = tax_per_transaction.groupBy('date') \\\r\n",
        "    .agg(sum('sales').alias('sales per day'), sum('total_tax_amount').alias('tax per day')) \\\r\n",
        "    .orderBy('date',asc = False) \\\r\n",
        "    .select('date', 'sales per day', 'tax per day')"
      ],
      "outputs": [
        {
          "output_type": "display_data",
          "data": {
            "application/vnd.livy.statement-meta+json": {
              "spark_pool": "taxprocessing",
              "session_id": "9",
              "statement_id": 20,
              "statement_ids": [
                20
              ],
              "state": "finished",
              "livy_statement_state": "available",
              "queued_time": "2024-06-16T05:56:44.0843105Z",
              "session_start_time": null,
              "execution_start_time": "2024-06-16T05:58:02.8060155Z",
              "execution_finish_time": "2024-06-16T05:58:02.9809195Z",
              "spark_jobs": null,
              "parent_msg_id": "2fa20b17-b550-4309-a778-4999c872ab8f"
            },
            "text/plain": "StatementMeta(taxprocessing, 9, 20, Finished, Available)"
          },
          "metadata": {}
        }
      ],
      "execution_count": 102,
      "metadata": {
        "jupyter": {
          "source_hidden": false,
          "outputs_hidden": false
        },
        "nteract": {
          "transient": {
            "deleting": false
          }
        }
      }
    },
    {
      "cell_type": "code",
      "source": [
        "tax_sales_per_day.show()"
      ],
      "outputs": [
        {
          "output_type": "display_data",
          "data": {
            "application/vnd.livy.statement-meta+json": {
              "spark_pool": "taxprocessing",
              "session_id": "9",
              "statement_id": 21,
              "statement_ids": [
                21
              ],
              "state": "finished",
              "livy_statement_state": "available",
              "queued_time": "2024-06-16T05:56:45.0844227Z",
              "session_start_time": null,
              "execution_start_time": "2024-06-16T05:58:03.1189625Z",
              "execution_finish_time": "2024-06-16T05:58:06.0177052Z",
              "spark_jobs": null,
              "parent_msg_id": "63f336cf-27a7-4153-a230-9546946edbb5"
            },
            "text/plain": "StatementMeta(taxprocessing, 9, 21, Finished, Available)"
          },
          "metadata": {}
        },
        {
          "output_type": "stream",
          "name": "stdout",
          "text": [
            "+----------+------------------+------------------+\n|      date|     sales per day|       tax per day|\n+----------+------------------+------------------+\n|2021-06-13| 129953.5689303875| 1691.291028292776|\n|2021-06-14| 77943.08056163788|1738.4513650609929|\n|2021-06-15|156190.86480140686| 2035.385420220091|\n|2021-06-16|182265.31578683853|2124.7180420447326|\n|2021-06-17|107526.87702465057|1955.6175123696835|\n|2021-06-18| 261187.1218674183| 2115.835352086349|\n|2021-06-19| 203410.3118209839|  2123.59971041166|\n|2021-06-20| 99931.48541533947| 1917.952670657346|\n|2021-06-21|136170.97430610657| 1888.589689675233|\n|2021-06-22|132143.95849847794|1855.7527142184294|\n|2021-06-23|113544.32037830353|1980.4109949607152|\n|2021-06-24| 134083.1011686325|1796.5892024171562|\n|2021-06-25|141890.91727018356|1978.6751708511738|\n|2021-06-26| 181475.4420375824|1872.5940644559723|\n|2021-06-27|159079.35660982132|1557.9272651506003|\n|2021-06-28| 196249.1378853321| 2254.435841311728|\n|2021-06-29| 152241.3582712412|2114.9603725587604|\n|2021-06-30|170968.28067874908|1920.8307774385837|\n|2021-07-01|124398.79253387451|2031.5776885866271|\n|2021-07-02|153450.69013166428|2012.3565983750552|\n+----------+------------------+------------------+\nonly showing top 20 rows\n\n"
          ]
        }
      ],
      "execution_count": 103,
      "metadata": {
        "jupyter": {
          "source_hidden": false,
          "outputs_hidden": false
        },
        "nteract": {
          "transient": {
            "deleting": false
          }
        }
      }
    },
    {
      "cell_type": "markdown",
      "source": [
        "### customer lifetime value"
      ],
      "metadata": {
        "nteract": {
          "transient": {
            "deleting": false
          }
        }
      }
    },
    {
      "cell_type": "code",
      "source": [
        "customers_df = spark.read.load('abfss://mycontainer@adlsgen21507.dfs.core.windows.net/customers (1).csv', format='csv', header=True)\r\n",
        "display(customers_df.limit(10))"
      ],
      "outputs": [
        {
          "output_type": "display_data",
          "data": {
            "application/vnd.livy.statement-meta+json": {
              "spark_pool": "taxprocessing",
              "session_id": "9",
              "statement_id": 22,
              "statement_ids": [
                22
              ],
              "state": "finished",
              "livy_statement_state": "available",
              "queued_time": "2024-06-16T05:56:46.0953513Z",
              "session_start_time": null,
              "execution_start_time": "2024-06-16T05:58:06.1611632Z",
              "execution_finish_time": "2024-06-16T05:58:08.1128318Z",
              "spark_jobs": null,
              "parent_msg_id": "0cb7fc03-cbdf-499c-8d08-252fea6108bc"
            },
            "text/plain": "StatementMeta(taxprocessing, 9, 22, Finished, Available)"
          },
          "metadata": {}
        },
        {
          "output_type": "display_data",
          "data": {
            "application/vnd.synapse.widget-view+json": {
              "widget_id": "f2f4a4ec-e8b6-489e-a67c-d4f6d7e7e7ec",
              "widget_type": "Synapse.DataFrame"
            },
            "text/plain": "SynapseWidget(Synapse.DataFrame, f2f4a4ec-e8b6-489e-a67c-d4f6d7e7e7ec)"
          },
          "metadata": {}
        }
      ],
      "execution_count": 104,
      "metadata": {
        "jupyter": {
          "source_hidden": false,
          "outputs_hidden": false
        },
        "nteract": {
          "transient": {
            "deleting": false
          }
        },
        "collapsed": false
      }
    },
    {
      "cell_type": "code",
      "source": [
        "CLV = tax_per_transaction.join(customers_df, on=tax_per_transaction['customer_id'] == customers_df['customer_id'], how='inner') \\\r\n",
        "    .groupBy(tax_per_transaction['customer_id']) \\\r\n",
        "    .agg(sum('Sales').alias('CLV')) \\\r\n",
        "    .select('customer_id', 'CLV')\r\n"
      ],
      "outputs": [
        {
          "output_type": "display_data",
          "data": {
            "application/vnd.livy.statement-meta+json": {
              "spark_pool": "taxprocessing",
              "session_id": "9",
              "statement_id": 23,
              "statement_ids": [
                23
              ],
              "state": "finished",
              "livy_statement_state": "available",
              "queued_time": "2024-06-16T05:56:47.0833855Z",
              "session_start_time": null,
              "execution_start_time": "2024-06-16T05:58:08.2573649Z",
              "execution_finish_time": "2024-06-16T05:58:08.4381704Z",
              "spark_jobs": null,
              "parent_msg_id": "4233a946-b1d7-4da0-a49c-28b6d68c7f69"
            },
            "text/plain": "StatementMeta(taxprocessing, 9, 23, Finished, Available)"
          },
          "metadata": {}
        }
      ],
      "execution_count": 105,
      "metadata": {
        "jupyter": {
          "source_hidden": false,
          "outputs_hidden": false
        },
        "nteract": {
          "transient": {
            "deleting": false
          }
        }
      }
    },
    {
      "cell_type": "code",
      "source": [
        "CLV.show(10)"
      ],
      "outputs": [
        {
          "output_type": "display_data",
          "data": {
            "application/vnd.livy.statement-meta+json": {
              "spark_pool": "taxprocessing",
              "session_id": "9",
              "statement_id": 24,
              "statement_ids": [
                24
              ],
              "state": "finished",
              "livy_statement_state": "available",
              "queued_time": "2024-06-16T05:56:48.0769197Z",
              "session_start_time": null,
              "execution_start_time": "2024-06-16T05:58:08.5787921Z",
              "execution_finish_time": "2024-06-16T05:58:11.465151Z",
              "spark_jobs": null,
              "parent_msg_id": "94f9c35f-f5c8-443e-9104-00efa7ffcac1"
            },
            "text/plain": "StatementMeta(taxprocessing, 9, 24, Finished, Available)"
          },
          "metadata": {}
        },
        {
          "output_type": "stream",
          "name": "stdout",
          "text": [
            "+-----------+------------------+\n|customer_id|               CLV|\n+-----------+------------------+\n|   MP-68708| 263.4419975280762|\n|    A-16437| 4143.990013122559|\n|    C-14168| 617.5999908447266|\n|    M-86002| 7863.560287475586|\n|    A-68927|503.90000915527344|\n|    K-24682|441.79798889160156|\n|    M-75143| 80.95000076293945|\n|    U-34709|             282.0|\n|    J-60970| 12324.62395477295|\n|    T-83293| 537.6900119781494|\n+-----------+------------------+\nonly showing top 10 rows\n\n"
          ]
        }
      ],
      "execution_count": 106,
      "metadata": {
        "jupyter": {
          "source_hidden": false,
          "outputs_hidden": false
        },
        "nteract": {
          "transient": {
            "deleting": false
          }
        }
      }
    },
    {
      "cell_type": "code",
      "source": [
        "StructTypeSchema1 = StructType([\r\n",
        "    StructField('product_category',StringType(),True),\r\n",
        "    StructField('sub_category',StringType(),True)\r\n",
        "    ])\r\n",
        "\r\n",
        "products_df = products_df.withColumn('PropStruct',from_json(products_df['attributes'],schema=StructTypeSchema1))\r\n",
        "\r\n",
        "products_df.printSchema()"
      ],
      "outputs": [
        {
          "output_type": "display_data",
          "data": {
            "application/vnd.livy.statement-meta+json": {
              "spark_pool": "taxprocessing",
              "session_id": "9",
              "statement_id": 25,
              "statement_ids": [
                25
              ],
              "state": "finished",
              "livy_statement_state": "available",
              "queued_time": "2024-06-16T05:56:48.6079818Z",
              "session_start_time": null,
              "execution_start_time": "2024-06-16T05:58:11.6090395Z",
              "execution_finish_time": "2024-06-16T05:58:11.7987525Z",
              "spark_jobs": null,
              "parent_msg_id": "92f44c73-8f40-4690-953c-57f464590df5"
            },
            "text/plain": "StatementMeta(taxprocessing, 9, 25, Finished, Available)"
          },
          "metadata": {}
        },
        {
          "output_type": "stream",
          "name": "stdout",
          "text": [
            "root\n |-- product_id: string (nullable = true)\n |-- description: string (nullable = true)\n |-- attributes: string (nullable = true)\n |-- price: float (nullable = true)\n |-- tax_percentage: double (nullable = false)\n |-- PropStruct: struct (nullable = true)\n |    |-- product_category: string (nullable = true)\n |    |-- sub_category: string (nullable = true)\n\n"
          ]
        }
      ],
      "execution_count": 107,
      "metadata": {
        "jupyter": {
          "source_hidden": false,
          "outputs_hidden": false
        },
        "nteract": {
          "transient": {
            "deleting": false
          }
        }
      }
    },
    {
      "cell_type": "code",
      "source": [
        "products_df = products_df.select('product_id','description','PropStruct.product_category','PropStruct.sub_category','price','tax_percentage')"
      ],
      "outputs": [
        {
          "output_type": "display_data",
          "data": {
            "application/vnd.livy.statement-meta+json": {
              "spark_pool": "taxprocessing",
              "session_id": "9",
              "statement_id": 26,
              "statement_ids": [
                26
              ],
              "state": "finished",
              "livy_statement_state": "available",
              "queued_time": "2024-06-16T05:56:49.3202701Z",
              "session_start_time": null,
              "execution_start_time": "2024-06-16T05:58:11.945689Z",
              "execution_finish_time": "2024-06-16T05:58:12.1206124Z",
              "spark_jobs": null,
              "parent_msg_id": "cb5395a7-7278-4202-837c-8b1123f58e8c"
            },
            "text/plain": "StatementMeta(taxprocessing, 9, 26, Finished, Available)"
          },
          "metadata": {}
        }
      ],
      "execution_count": 108,
      "metadata": {
        "jupyter": {
          "source_hidden": false,
          "outputs_hidden": false
        },
        "nteract": {
          "transient": {
            "deleting": false
          }
        }
      }
    },
    {
      "cell_type": "code",
      "source": [
        "products_df.show() "
      ],
      "outputs": [
        {
          "output_type": "display_data",
          "data": {
            "application/vnd.livy.statement-meta+json": {
              "spark_pool": "taxprocessing",
              "session_id": "9",
              "statement_id": 27,
              "statement_ids": [
                27
              ],
              "state": "finished",
              "livy_statement_state": "available",
              "queued_time": "2024-06-16T05:56:49.7935516Z",
              "session_start_time": null,
              "execution_start_time": "2024-06-16T05:58:12.2604283Z",
              "execution_finish_time": "2024-06-16T05:58:12.8461881Z",
              "spark_jobs": null,
              "parent_msg_id": "d7f31ae6-b0e0-4081-a354-63ca74d4a8ea"
            },
            "text/plain": "StatementMeta(taxprocessing, 9, 27, Finished, Available)"
          },
          "metadata": {}
        },
        {
          "output_type": "stream",
          "name": "stdout",
          "text": [
            "+---------------+--------------------+----------------+------------+--------+------------------+\n|     product_id|         description|product_category|sub_category|   price|    tax_percentage|\n+---------------+--------------------+----------------+------------+--------+------------------+\n|FUR-BO-10000112|Bush Birmingham C...|       Furniture|   Bookcases|    46.0|0.6255698915787462|\n|FUR-BO-10000330|Sauder Camden Cou...|       Furniture|   Bookcases| 1024.38|6.0233799587951555|\n|FUR-BO-10000362|Sauder Inglewood ...|       Furniture|   Bookcases|  17.216|3.2057056733911056|\n|FUR-BO-10000468|O'Sullivan 2-Shel...|       Furniture|   Bookcases|  13.494| 2.267389661472281|\n|FUR-BO-10000711|Hon Metal Bookcas...|       Furniture|   Bookcases|   91.36|1.5886114570735634|\n|FUR-BO-10000780|O'Sullivan Planta...|       Furniture|   Bookcases|   104.8|  6.92059361511338|\n|FUR-BO-10001337|O'Sullivan Living...|       Furniture|   Bookcases|   14.94|0.7627121867047044|\n|FUR-BO-10001519|O'Sullivan 3-Shel...|       Furniture|   Bookcases|  263.88| 3.081862475839149|\n|FUR-BO-10001567|Bush Westfield Co...|       Furniture|   Bookcases|    28.4| 6.893117817970634|\n|FUR-BO-10001601|Sauder Mission Li...|       Furniture|   Bookcases|  60.984|1.7475649972059464|\n|FUR-BO-10001608|Hon Metal Bookcas...|       Furniture|   Bookcases|   60.83|  4.92929364047664|\n|FUR-BO-10001619|O'Sullivan Cherry...|       Furniture|   Bookcases| 366.786|0.4867189246570817|\n|FUR-BO-10001798|Bush Somerset Col...|       Furniture|   Bookcases|  25.584| 5.287928769304855|\n|FUR-BO-10001811|Atlantic Metals M...|       Furniture|   Bookcases|  53.952|2.4363769424792525|\n|FUR-BO-10001918|Sauder Forest Hil...|       Furniture|   Bookcases| 315.776| 4.271058448957135|\n|FUR-BO-10001972|O'Sullivan 4-Shel...|       Furniture|   Bookcases|375.4575| 2.580722800896459|\n|FUR-BO-10002202|Atlantic Metals M...|       Furniture|   Bookcases|   866.4| 1.184427273728564|\n|FUR-BO-10002206|Bush Saratoga Col...|       Furniture|   Bookcases|  23.988|1.8350645348031975|\n|FUR-BO-10002213|DMI Eclipse Execu...|       Furniture|   Bookcases| 196.776|1.7907242812815594|\n|FUR-BO-10002213|Sauder Forest Hil...|       Furniture|   Bookcases|  336.51|2.5365675399359002|\n+---------------+--------------------+----------------+------------+--------+------------------+\nonly showing top 20 rows\n\n"
          ]
        }
      ],
      "execution_count": 109,
      "metadata": {
        "jupyter": {
          "source_hidden": false,
          "outputs_hidden": false
        },
        "nteract": {
          "transient": {
            "deleting": false
          }
        }
      }
    },
    {
      "cell_type": "code",
      "source": [
        "column_names = tax_per_transaction.columns\r\n",
        "print(\"Column names:\", column_names)"
      ],
      "outputs": [
        {
          "output_type": "display_data",
          "data": {
            "application/vnd.livy.statement-meta+json": {
              "spark_pool": "taxprocessing",
              "session_id": "9",
              "statement_id": 28,
              "statement_ids": [
                28
              ],
              "state": "finished",
              "livy_statement_state": "available",
              "queued_time": "2024-06-16T05:56:50.2171388Z",
              "session_start_time": null,
              "execution_start_time": "2024-06-16T05:58:13.02782Z",
              "execution_finish_time": "2024-06-16T05:58:13.2040895Z",
              "spark_jobs": null,
              "parent_msg_id": "f21caca0-608f-44d5-845b-95a904cba845"
            },
            "text/plain": "StatementMeta(taxprocessing, 9, 28, Finished, Available)"
          },
          "metadata": {}
        },
        {
          "output_type": "stream",
          "name": "stdout",
          "text": [
            "Column names: ['transaction_id', 'customer_id', 'date', 'product_id', 'quantity', 'price', 'Sales', 'product_id', 'description', 'attributes', 'price', 'tax_percentage', 'total_tax_amount']\n"
          ]
        }
      ],
      "execution_count": 110,
      "metadata": {
        "jupyter": {
          "source_hidden": false,
          "outputs_hidden": false
        },
        "nteract": {
          "transient": {
            "deleting": false
          }
        }
      }
    },
    {
      "cell_type": "code",
      "source": [
        "new_columns = ['transaction_id', 'customer_id', 'date', 'product_id_', 'quantity', 'price', 'Sales', 'product_id', 'description', 'attributes', 'price', 'tax_percentage', 'total_tax_amount']\r\n",
        "tax_per_transaction = tax_per_transaction.toDF(*new_columns)"
      ],
      "outputs": [
        {
          "output_type": "display_data",
          "data": {
            "application/vnd.livy.statement-meta+json": {
              "spark_pool": "taxprocessing",
              "session_id": "9",
              "statement_id": 29,
              "statement_ids": [
                29
              ],
              "state": "finished",
              "livy_statement_state": "available",
              "queued_time": "2024-06-16T05:56:50.5013913Z",
              "session_start_time": null,
              "execution_start_time": "2024-06-16T05:58:13.3523726Z",
              "execution_finish_time": "2024-06-16T05:58:13.5327292Z",
              "spark_jobs": null,
              "parent_msg_id": "231b879c-a411-49ca-a0e9-b7506fe91941"
            },
            "text/plain": "StatementMeta(taxprocessing, 9, 29, Finished, Available)"
          },
          "metadata": {}
        }
      ],
      "execution_count": 111,
      "metadata": {
        "jupyter": {
          "source_hidden": false,
          "outputs_hidden": false
        },
        "nteract": {
          "transient": {
            "deleting": false
          }
        }
      }
    },
    {
      "cell_type": "code",
      "source": [
        "products_performance = tax_per_transaction.join(products_df, on=tax_per_transaction['product_id'] == products_df['product_id'], how='inner') \\\r\n",
        "    .groupBy(tax_per_transaction['description'],products_df['product_category'],products_df['sub_category']) \\\r\n",
        "    .agg(sum('Sales').alias('product sales performance')) \\\r\n",
        "    .select('description','product_category','sub_category','product sales performance')"
      ],
      "outputs": [
        {
          "output_type": "display_data",
          "data": {
            "application/vnd.livy.statement-meta+json": {
              "spark_pool": "taxprocessing",
              "session_id": "9",
              "statement_id": 30,
              "statement_ids": [
                30
              ],
              "state": "finished",
              "livy_statement_state": "available",
              "queued_time": "2024-06-16T05:56:50.7491017Z",
              "session_start_time": null,
              "execution_start_time": "2024-06-16T05:58:13.6760846Z",
              "execution_finish_time": "2024-06-16T05:58:13.8577219Z",
              "spark_jobs": null,
              "parent_msg_id": "ca522364-56c7-4a97-a4c2-2fbf009c9a7f"
            },
            "text/plain": "StatementMeta(taxprocessing, 9, 30, Finished, Available)"
          },
          "metadata": {}
        }
      ],
      "execution_count": 112,
      "metadata": {
        "jupyter": {
          "source_hidden": false,
          "outputs_hidden": false
        },
        "nteract": {
          "transient": {
            "deleting": false
          }
        }
      }
    },
    {
      "cell_type": "code",
      "source": [
        "products_performance.show()"
      ],
      "outputs": [
        {
          "output_type": "display_data",
          "data": {
            "application/vnd.livy.statement-meta+json": {
              "spark_pool": "taxprocessing",
              "session_id": "9",
              "statement_id": 31,
              "statement_ids": [
                31
              ],
              "state": "finished",
              "livy_statement_state": "available",
              "queued_time": "2024-06-16T05:56:51.0726328Z",
              "session_start_time": null,
              "execution_start_time": "2024-06-16T05:58:14.003935Z",
              "execution_finish_time": "2024-06-16T05:58:16.8659202Z",
              "spark_jobs": null,
              "parent_msg_id": "2ad86b69-f698-4436-b28f-d7a13f4c4148"
            },
            "text/plain": "StatementMeta(taxprocessing, 9, 31, Finished, Available)"
          },
          "metadata": {}
        },
        {
          "output_type": "stream",
          "name": "stdout",
          "text": [
            "+--------------------+----------------+------------+-------------------------+\n|         description|product_category|sub_category|product sales performance|\n+--------------------+----------------+------------+-------------------------+\n|Recycled Interoff...| Office Supplies|   Envelopes|        15785.47216796875|\n|Martin Yale Chadl...| Office Supplies|    Supplies|       299020.27392578125|\n|           Avery 482| Office Supplies|      Labels|        1539032.826171875|\n|Eldon Stackable T...|       Furniture| Furnishings|         208488.955078125|\n|Adams Telephone M...| Office Supplies|       Paper|       124472.37994384766|\n|Portfile Personal...| Office Supplies|     Storage|       144526.40383911133|\n|Rediform S.O.S. 1...| Office Supplies|       Paper|       26766.478912353516|\n|Southworth 100% R...| Office Supplies|       Paper|       13900.895515441895|\n|Peel-Off China Ma...| Office Supplies|         Art|       17472.000549316406|\n|Plantronics Savi ...|      Technology| Accessories|       15397.199798583984|\n|            Avery 48| Office Supplies|      Labels|        85136.99740600586|\n|Jabra BIZ 2300 Du...|      Technology|      Phones|        4952.799900054932|\n|Wilson Jones Four...| Office Supplies|     Binders|        687948.5361328125|\n|           Avery 518| Office Supplies|      Labels|        4920.319923400879|\n|Standard Rollaway...| Office Supplies|     Storage|            327354.546875|\n|Hewlett Packard 3...|      Technology|     Copiers|        810.6480312347412|\n|Logitech M510 Wir...|      Technology| Accessories|       1415.0400562286377|\n|Self-Adhesive Rem...| Office Supplies|      Labels|         21008.3994140625|\n|Avery Hi-Liter Sm...| Office Supplies|         Art|        9060.479667663574|\n|Global Chrome Sta...|       Furniture|      Chairs|        2033.439956665039|\n+--------------------+----------------+------------+-------------------------+\nonly showing top 20 rows\n\n"
          ]
        }
      ],
      "execution_count": 113,
      "metadata": {
        "jupyter": {
          "source_hidden": false,
          "outputs_hidden": false
        },
        "nteract": {
          "transient": {
            "deleting": false
          }
        }
      }
    },
    {
      "cell_type": "markdown",
      "source": [
        "### Product Performance within category"
      ],
      "metadata": {
        "nteract": {
          "transient": {
            "deleting": false
          }
        }
      }
    },
    {
      "cell_type": "code",
      "source": [
        "\r\n",
        "from pyspark.sql import Window\r\n",
        "pp_wrt_category_wind = Window.partitionBy('product_category').orderBy(desc(col('product sales performance')))\r\n",
        "\r\n",
        "pp_wrt_category = products_performance.withColumn('category_rank',rank().over(pp_wrt_category_wind))\r\n",
        "\r\n",
        "\r\n"
      ],
      "outputs": [
        {
          "output_type": "display_data",
          "data": {
            "application/vnd.livy.statement-meta+json": {
              "spark_pool": "taxprocessing",
              "session_id": "9",
              "statement_id": 32,
              "statement_ids": [
                32
              ],
              "state": "finished",
              "livy_statement_state": "available",
              "queued_time": "2024-06-16T05:56:51.3604677Z",
              "session_start_time": null,
              "execution_start_time": "2024-06-16T05:58:16.9975469Z",
              "execution_finish_time": "2024-06-16T05:58:17.165608Z",
              "spark_jobs": null,
              "parent_msg_id": "5fa3da47-bb93-4eab-8a30-fc279d956e24"
            },
            "text/plain": "StatementMeta(taxprocessing, 9, 32, Finished, Available)"
          },
          "metadata": {}
        }
      ],
      "execution_count": 114,
      "metadata": {
        "jupyter": {
          "source_hidden": false,
          "outputs_hidden": false
        },
        "nteract": {
          "transient": {
            "deleting": false
          }
        }
      }
    },
    {
      "cell_type": "code",
      "source": [
        "pp_wrt_category.filter(col('category_rank') == 1).show() "
      ],
      "outputs": [
        {
          "output_type": "display_data",
          "data": {
            "application/vnd.livy.statement-meta+json": {
              "spark_pool": "taxprocessing",
              "session_id": "9",
              "statement_id": 33,
              "statement_ids": [
                33
              ],
              "state": "finished",
              "livy_statement_state": "available",
              "queued_time": "2024-06-16T05:56:51.5979378Z",
              "session_start_time": null,
              "execution_start_time": "2024-06-16T05:58:17.3106643Z",
              "execution_finish_time": "2024-06-16T05:58:20.214856Z",
              "spark_jobs": null,
              "parent_msg_id": "962fb3ae-858c-448b-9aa7-0550951f98b2"
            },
            "text/plain": "StatementMeta(taxprocessing, 9, 33, Finished, Available)"
          },
          "metadata": {}
        },
        {
          "output_type": "stream",
          "name": "stdout",
          "text": [
            "+--------------------+----------------+------------+-------------------------+-------------+\n|         description|product_category|sub_category|product sales performance|category_rank|\n+--------------------+----------------+------------+-------------------------+-------------+\n|Eldon Regeneratio...|       Furniture| Furnishings|         6361413.03515625|            1|\n|           Avery 506| Office Supplies|      Labels|         4367987.43359375|            1|\n|    Samsung Convoy 3|      Technology|      Phones|         1345746.90234375|            1|\n+--------------------+----------------+------------+-------------------------+-------------+\n\n"
          ]
        }
      ],
      "execution_count": 115,
      "metadata": {
        "jupyter": {
          "source_hidden": false,
          "outputs_hidden": false
        },
        "nteract": {
          "transient": {
            "deleting": false
          }
        }
      }
    },
    {
      "cell_type": "markdown",
      "source": [
        "#### Extra Discounts."
      ],
      "metadata": {
        "nteract": {
          "transient": {
            "deleting": false
          }
        }
      }
    },
    {
      "cell_type": "code",
      "source": [
        "# more than 5 transaction and purchase value should be more than 1k, then he get's a discount of 5 %:-\r\n",
        "tax_per_transaction.show() \r\n",
        "\r\n",
        "master_customer = tax_per_transaction.groupBy('customer_id').agg(count('transaction_id').alias('cnt_of_transaction'), sum('Sales').alias('total_sales'))\r\n",
        "master_customer.select('customer_id','cnt_of_transaction','total_sales').show() "
      ],
      "outputs": [
        {
          "output_type": "display_data",
          "data": {
            "application/vnd.livy.statement-meta+json": {
              "spark_pool": "taxprocessing",
              "session_id": "9",
              "statement_id": 34,
              "statement_ids": [
                34
              ],
              "state": "finished",
              "livy_statement_state": "available",
              "queued_time": "2024-06-16T05:56:51.8806579Z",
              "session_start_time": null,
              "execution_start_time": "2024-06-16T05:58:20.3633731Z",
              "execution_finish_time": "2024-06-16T05:58:23.2838958Z",
              "spark_jobs": null,
              "parent_msg_id": "3ebf09d2-c470-45e3-9ba5-26eb4f43177a"
            },
            "text/plain": "StatementMeta(taxprocessing, 9, 34, Finished, Available)"
          },
          "metadata": {}
        },
        {
          "output_type": "stream",
          "name": "stdout",
          "text": [
            "+--------------------+-----------+----------+---------------+--------+-------+---------+---------------+--------------------+--------------------+-------+-------------------+------------------+\n|      transaction_id|customer_id|      date|    product_id_|quantity|  price|    Sales|     product_id|         description|          attributes|  price|     tax_percentage|  total_tax_amount|\n+--------------------+-----------+----------+---------------+--------+-------+---------+---------------+--------------------+--------------------+-------+-------------------+------------------+\n|K-12722-FUR-FU-10...|    K-12722|2022-07-30|FUR-FU-10004665|       3|   94.2|282.59998|FUR-FU-10004665|3M Polarizing Tas...|{'product_categor...|   94.2|  0.736568189408735| 2.209704568226205|\n|K-12722-OFF-AR-10...|    K-12722|2022-09-26|OFF-AR-10002053|       2|  16.02|    32.04|OFF-AR-10002053|Premium Writing P...|{'product_categor...|  16.02| 5.5961898935971215|11.192379787194243|\n|K-12722-TEC-PH-10...|    K-12722|2023-06-20|TEC-PH-10001459|       2| 164.88|   329.76|TEC-PH-10001459|Samsung Galaxy Me...|{'product_categor...| 164.88| 2.0375681203024065| 4.075136240604813|\n|WB-64368-OFF-BI-1...|   WB-64368|2022-10-21|OFF-BI-10003655|       5|  16.34|     81.7|OFF-BI-10003655|Durable Pressboar...|{'product_categor...|  16.34|  4.395477959732918| 21.97738979866459|\n|WB-64368-OFF-LA-1...|   WB-64368|2024-04-23|OFF-LA-10002381|       3| 242.94|   728.82|OFF-LA-10002381|           Avery 497|{'product_categor...| 242.94|  5.202636777053115|15.607910331159346|\n|WB-64368-OFF-PA-1...|   WB-64368|2022-08-11|OFF-PA-10003129|       2|   32.4|     64.8|OFF-PA-10003129|Tops White Comput...|{'product_categor...|   32.4| 2.2446352135331136| 4.489270427066227|\n|J-14825-FUR-BO-10...|    J-14825|2023-06-18|FUR-BO-10000468|       1| 13.494|   13.494|FUR-BO-10000468|O'Sullivan 2-Shel...|{'product_categor...| 13.494|  2.267389661472281| 2.267389661472281|\n|J-14825-TEC-MA-10...|    J-14825|2023-04-20|TEC-MA-10001031|       3| 12.224|   36.672|TEC-MA-10001031|Socket Bluetooth ...|{'product_categor...| 12.224| 0.8796561075553009|2.6389683226659026|\n|J-14825-OFF-PA-10...|    J-14825|2022-09-10|OFF-PA-10002230|       2|  191.6|    383.2|OFF-PA-10002230|          Xerox 1897|{'product_categor...|  191.6|  6.552620870719358|13.105241741438716|\n|J-14825-OFF-AR-10...|    J-14825|2021-09-17|OFF-AR-10003958|       4| 54.368|  217.472|OFF-AR-10003958|          Newell 337|{'product_categor...| 54.368| 6.0972537021348305|24.389014808539322|\n|J-14825-FUR-FU-10...|    J-14825|2021-12-03|FUR-FU-10001588|       3|   7.36|    22.08|FUR-FU-10001588|Deflect-o SuperTr...|{'product_categor...|   7.36|  4.667553297175813|14.002659891527438|\n|A-30388-FUR-CH-10...|    A-30388|2024-05-01|FUR-CH-10004997|       3|  9.408|28.223999|FUR-CH-10004997|Hon Every-Day Ser...|{'product_categor...|  9.408| 2.9054442449345057| 8.716332734803517|\n|A-30388-OFF-BI-10...|    A-30388|2021-09-03|OFF-BI-10003718|       5|225.296|  1126.48|OFF-BI-10003718|GBC Therma-A-Bind...|{'product_categor...|225.296|  6.361919441641152|31.809597208205762|\n|A-30388-FUR-BO-10...|    A-30388|2023-12-28|FUR-BO-10003034|       5| 30.345|151.72499|FUR-BO-10003034|O'Sullivan Elevat...|{'product_categor...| 30.345|0.29982929890528115|1.4991464945264057|\n|AP-31244-FUR-TA-1...|   AP-31244|2023-01-07|FUR-TA-10000577|       5|  19.76|     98.8|FUR-TA-10000577|Bretford CR4500 S...|{'product_categor...|  19.76| 2.3825612474807505|11.912806237403753|\n|AP-31244-TEC-PH-1...|   AP-31244|2022-09-07|TEC-PH-10002200|       4|    7.7|     30.8|TEC-PH-10002200|Aastra 6757i CT W...|{'product_categor...|    7.7|  4.691454385561527|18.765817542246108|\n|AP-31244-TEC-AC-1...|   AP-31244|2022-01-25|TEC-AC-10003289|       2| 731.94|  1463.88|TEC-AC-10003289|Anker Ultra-Slim ...|{'product_categor...| 731.94|  1.846276201615175|  3.69255240323035|\n|AP-31244-TEC-MA-1...|   AP-31244|2024-04-01|TEC-MA-10001148|       4| 839.43|  3357.72|TEC-MA-10001148|Okidata MB491 Mul...|{'product_categor...| 839.43|  5.097103512897334|20.388414051589336|\n|K-79252-OFF-BI-10...|    K-79252|2022-12-26|OFF-BI-10003694|       3| 161.94|   485.82|OFF-BI-10003694|Avery 3 1/2' Disk...|{'product_categor...| 161.94|  0.737899964777291| 2.213699894331873|\n|K-79252-TEC-PH-10...|    K-79252|2022-04-28|TEC-PH-10002817|       3|206.991|  620.973|TEC-PH-10002817|RCA ViSYS 25425RE...|{'product_categor...|206.991|  5.618133378814403| 16.85440013644321|\n+--------------------+-----------+----------+---------------+--------+-------+---------+---------------+--------------------+--------------------+-------+-------------------+------------------+\nonly showing top 20 rows\n\n+-----------+------------------+------------------+\n|customer_id|cnt_of_transaction|       total_sales|\n+-----------+------------------+------------------+\n|    K-96546|                 5| 994.4200274944305|\n|    G-79854|                 4|3057.5879402160645|\n|    J-68104|                 3| 492.9599952697754|\n|    N-23257|                 2|3234.4600868225098|\n|    A-25833|                 3|2094.3200454711914|\n|   UP-43899|                 2|110.10000228881836|\n|    G-50593|                 5|1118.1880111694336|\n|    K-60824|                 2|1056.1140975952148|\n|    O-99695|                 4| 2605.609966278076|\n|   UP-23040|                 5| 5611.271772384644|\n|   MP-40712|                10| 5982.568252563477|\n|    A-76908|                 4| 367.9519958496094|\n|    P-60290|                 4| 3870.515884399414|\n|    K-57632|                 2|326.52001571655273|\n|    O-82040|                 2| 187.8000030517578|\n|    R-42570|                 5| 5658.635863304138|\n|    M-33990|                 5| 3442.858015060425|\n|    U-17419|                 3| 322.6319913864136|\n|    O-93917|                 5| 5948.940217971802|\n|    S-12258|                 4|1681.5469160079956|\n+-----------+------------------+------------------+\nonly showing top 20 rows\n\n"
          ]
        }
      ],
      "execution_count": 116,
      "metadata": {
        "jupyter": {
          "source_hidden": false,
          "outputs_hidden": false
        },
        "nteract": {
          "transient": {
            "deleting": false
          }
        }
      }
    },
    {
      "cell_type": "code",
      "source": [
        "master_customer.printSchema() "
      ],
      "outputs": [
        {
          "output_type": "display_data",
          "data": {
            "application/vnd.livy.statement-meta+json": {
              "spark_pool": "taxprocessing",
              "session_id": "9",
              "statement_id": 35,
              "statement_ids": [
                35
              ],
              "state": "finished",
              "livy_statement_state": "available",
              "queued_time": "2024-06-16T05:56:52.2296421Z",
              "session_start_time": null,
              "execution_start_time": "2024-06-16T05:58:23.4675811Z",
              "execution_finish_time": "2024-06-16T05:58:23.6466339Z",
              "spark_jobs": null,
              "parent_msg_id": "cabd08b8-4ef6-4ff1-ac36-a46f5fd0fdae"
            },
            "text/plain": "StatementMeta(taxprocessing, 9, 35, Finished, Available)"
          },
          "metadata": {}
        },
        {
          "output_type": "stream",
          "name": "stdout",
          "text": [
            "root\n |-- customer_id: string (nullable = true)\n |-- cnt_of_transaction: long (nullable = false)\n |-- total_sales: double (nullable = true)\n\n"
          ]
        }
      ],
      "execution_count": 117,
      "metadata": {
        "jupyter": {
          "source_hidden": false,
          "outputs_hidden": false
        },
        "nteract": {
          "transient": {
            "deleting": false
          }
        }
      }
    },
    {
      "cell_type": "code",
      "source": [
        "master_customer_lst = master_customer.filter( (col('cnt_of_transaction') >= 10) & (col('total_sales') >= 1000)).select('customer_id', 'cnt_of_transaction', 'total_sales')"
      ],
      "outputs": [
        {
          "output_type": "display_data",
          "data": {
            "application/vnd.livy.statement-meta+json": {
              "spark_pool": "taxprocessing",
              "session_id": "9",
              "statement_id": 36,
              "statement_ids": [
                36
              ],
              "state": "finished",
              "livy_statement_state": "available",
              "queued_time": "2024-06-16T05:56:52.4976813Z",
              "session_start_time": null,
              "execution_start_time": "2024-06-16T05:58:23.7831517Z",
              "execution_finish_time": "2024-06-16T05:58:23.9679492Z",
              "spark_jobs": null,
              "parent_msg_id": "dc7e4a27-841c-421c-a1bf-cf2fd29b5b38"
            },
            "text/plain": "StatementMeta(taxprocessing, 9, 36, Finished, Available)"
          },
          "metadata": {}
        }
      ],
      "execution_count": 118,
      "metadata": {
        "jupyter": {
          "source_hidden": false,
          "outputs_hidden": false
        },
        "nteract": {
          "transient": {
            "deleting": false
          }
        }
      }
    },
    {
      "cell_type": "code",
      "source": [
        "master_customer_lst.show()"
      ],
      "outputs": [
        {
          "output_type": "display_data",
          "data": {
            "application/vnd.livy.statement-meta+json": {
              "spark_pool": "taxprocessing",
              "session_id": "9",
              "statement_id": 37,
              "statement_ids": [
                37
              ],
              "state": "finished",
              "livy_statement_state": "available",
              "queued_time": "2024-06-16T05:56:52.7718204Z",
              "session_start_time": null,
              "execution_start_time": "2024-06-16T05:58:24.1107841Z",
              "execution_finish_time": "2024-06-16T05:58:26.0066927Z",
              "spark_jobs": null,
              "parent_msg_id": "b205db27-8c68-4e67-a1ea-646e1319c093"
            },
            "text/plain": "StatementMeta(taxprocessing, 9, 37, Finished, Available)"
          },
          "metadata": {}
        },
        {
          "output_type": "stream",
          "name": "stdout",
          "text": [
            "+-----------+------------------+------------------+\n|customer_id|cnt_of_transaction|       total_sales|\n+-----------+------------------+------------------+\n|    J-60970|                10| 12324.62395477295|\n|    R-22742|                10|10108.898056983948|\n|    M-11634|                11| 62333.43787097931|\n|    G-97345|                10| 2621.396004676819|\n|    K-14481|                10| 2833.192036628723|\n|   TN-29615|                10|1418.0240507125854|\n|   MP-60246|                10|26578.737815856934|\n|    K-68635|                10| 13683.10628604889|\n|    K-75826|                12| 5943.254018783569|\n|    R-37611|                10|3106.5250129699707|\n|    K-62828|                10| 1870.259994506836|\n|    G-50622|                10| 8481.289985656738|\n|    A-20491|                10| 7816.653943061829|\n|    R-89018|                10| 7111.196122646332|\n|   AP-78139|                11|14952.029636383057|\n|    M-51056|                10|  8421.12396812439|\n|    K-66038|                10|2499.4679856300354|\n|    M-16738|                10| 4335.546000480652|\n|   AP-10606|                10|15080.353862762451|\n|    O-50210|                10| 7687.360186576843|\n+-----------+------------------+------------------+\nonly showing top 20 rows\n\n"
          ]
        }
      ],
      "execution_count": 119,
      "metadata": {
        "jupyter": {
          "source_hidden": false,
          "outputs_hidden": false
        },
        "nteract": {
          "transient": {
            "deleting": false
          }
        }
      }
    },
    {
      "cell_type": "code",
      "source": [
        "# # Join tax_per_transaction with master_customer_lst on customer_id\r\n",
        "joined_df = tax_per_transaction.join(master_customer_lst, on=['customer_id'], how='left')\r\n",
        "\r\n",
        "joined_df = joined_df.select(\"transaction_id\",\"customer_id\",\"sales\",\"cnt_of_transaction\")\r\n",
        "joined_df.show()\r\n",
        "\r\n",
        "# # Apply discount based on condition\r\n",
        "discounted_df = joined_df.withColumn(\r\n",
        "    \"Price Discount\",\r\n",
        "    when(col(\"cnt_of_transaction\").isNotNull(), col('sales') * 0.05).otherwise(0)\r\n",
        ")\r\n",
        "\r\n",
        "display(discounted_df.limit(10)) "
      ],
      "outputs": [
        {
          "output_type": "display_data",
          "data": {
            "application/vnd.livy.statement-meta+json": {
              "spark_pool": "taxprocessing",
              "session_id": "9",
              "statement_id": 38,
              "statement_ids": [
                38
              ],
              "state": "finished",
              "livy_statement_state": "available",
              "queued_time": "2024-06-16T05:56:53.0824972Z",
              "session_start_time": null,
              "execution_start_time": "2024-06-16T05:58:26.151743Z",
              "execution_finish_time": "2024-06-16T05:58:31.6383285Z",
              "spark_jobs": null,
              "parent_msg_id": "7928493d-d3ef-4109-a37f-d10fc705adce"
            },
            "text/plain": "StatementMeta(taxprocessing, 9, 38, Finished, Available)"
          },
          "metadata": {}
        },
        {
          "output_type": "stream",
          "name": "stdout",
          "text": [
            "+--------------------+-----------+---------+------------------+\n|      transaction_id|customer_id|    sales|cnt_of_transaction|\n+--------------------+-----------+---------+------------------+\n|WB-64368-OFF-BI-1...|   WB-64368|     81.7|              null|\n|WB-64368-OFF-LA-1...|   WB-64368|   728.82|              null|\n|WB-64368-OFF-PA-1...|   WB-64368|     64.8|              null|\n|A-30388-FUR-CH-10...|    A-30388|28.223999|              null|\n|A-30388-OFF-BI-10...|    A-30388|  1126.48|              null|\n|A-30388-FUR-BO-10...|    A-30388|151.72499|              null|\n|K-12722-FUR-FU-10...|    K-12722|282.59998|              null|\n|K-12722-OFF-AR-10...|    K-12722|    32.04|              null|\n|K-12722-TEC-PH-10...|    K-12722|   329.76|              null|\n|J-14825-FUR-BO-10...|    J-14825|   13.494|              null|\n|J-14825-TEC-MA-10...|    J-14825|   36.672|              null|\n|J-14825-OFF-PA-10...|    J-14825|    383.2|              null|\n|J-14825-OFF-AR-10...|    J-14825|  217.472|              null|\n|J-14825-FUR-FU-10...|    J-14825|    22.08|              null|\n|AP-31244-FUR-TA-1...|   AP-31244|     98.8|              null|\n|AP-31244-TEC-PH-1...|   AP-31244|     30.8|              null|\n|AP-31244-TEC-AC-1...|   AP-31244|  1463.88|              null|\n|AP-31244-TEC-MA-1...|   AP-31244|  3357.72|              null|\n|K-79252-OFF-BI-10...|    K-79252|   485.82|              null|\n|K-79252-TEC-PH-10...|    K-79252|  620.973|              null|\n+--------------------+-----------+---------+------------------+\nonly showing top 20 rows\n\n"
          ]
        },
        {
          "output_type": "display_data",
          "data": {
            "application/vnd.synapse.widget-view+json": {
              "widget_id": "1f98b2bc-c855-4fe0-a103-b3d066c40f27",
              "widget_type": "Synapse.DataFrame"
            },
            "text/plain": "SynapseWidget(Synapse.DataFrame, 1f98b2bc-c855-4fe0-a103-b3d066c40f27)"
          },
          "metadata": {}
        }
      ],
      "execution_count": 120,
      "metadata": {
        "jupyter": {
          "source_hidden": false,
          "outputs_hidden": false
        },
        "nteract": {
          "transient": {
            "deleting": false
          }
        },
        "collapsed": false
      }
    },
    {
      "cell_type": "markdown",
      "source": [
        "#### process data related to refunds."
      ],
      "metadata": {
        "nteract": {
          "transient": {
            "deleting": false
          }
        }
      }
    },
    {
      "cell_type": "code",
      "source": [
        "refunds_df = spark.read.load('abfss://mycontainer@adlsgen21507.dfs.core.windows.net/refunds (3).csv', format='csv', inferSchema = True, header=True)\r\n",
        "display(refunds_df.limit(10))"
      ],
      "outputs": [
        {
          "output_type": "display_data",
          "data": {
            "application/vnd.livy.statement-meta+json": {
              "spark_pool": "taxprocessing",
              "session_id": "9",
              "statement_id": 39,
              "statement_ids": [
                39
              ],
              "state": "finished",
              "livy_statement_state": "available",
              "queued_time": "2024-06-16T05:56:53.3886116Z",
              "session_start_time": null,
              "execution_start_time": "2024-06-16T05:58:31.7979851Z",
              "execution_finish_time": "2024-06-16T05:58:34.7155634Z",
              "spark_jobs": null,
              "parent_msg_id": "4f033099-acf9-4284-8416-c2a7e2690c61"
            },
            "text/plain": "StatementMeta(taxprocessing, 9, 39, Finished, Available)"
          },
          "metadata": {}
        },
        {
          "output_type": "display_data",
          "data": {
            "application/vnd.synapse.widget-view+json": {
              "widget_id": "b4d103d1-acae-464c-a65e-2ef054138916",
              "widget_type": "Synapse.DataFrame"
            },
            "text/plain": "SynapseWidget(Synapse.DataFrame, b4d103d1-acae-464c-a65e-2ef054138916)"
          },
          "metadata": {}
        }
      ],
      "execution_count": 121,
      "metadata": {
        "jupyter": {
          "source_hidden": false,
          "outputs_hidden": false
        },
        "nteract": {
          "transient": {
            "deleting": false
          }
        },
        "collapsed": false
      }
    },
    {
      "cell_type": "code",
      "source": [
        "refunds_df = refunds_df.withColumn(\"total_Refund\",regexp_replace(\"refund_amount\",\"\\\\$\",\"\").cast('float'))\\\r\n",
        "                .withColumn(\"tax_refund\",regexp_replace(\"tax_refund_amount\",\"\\\\$\",\"\").cast('float'))\r\n",
        "\r\n",
        "refunds_df.show()  \r\n",
        "\r\n"
      ],
      "outputs": [
        {
          "output_type": "display_data",
          "data": {
            "application/vnd.livy.statement-meta+json": {
              "spark_pool": "taxprocessing",
              "session_id": "9",
              "statement_id": 40,
              "statement_ids": [
                40
              ],
              "state": "finished",
              "livy_statement_state": "available",
              "queued_time": "2024-06-16T05:56:54.0915103Z",
              "session_start_time": null,
              "execution_start_time": "2024-06-16T05:58:34.855323Z",
              "execution_finish_time": "2024-06-16T05:58:35.4313561Z",
              "spark_jobs": null,
              "parent_msg_id": "47dc9d8a-c7fa-4b23-9315-85b6c8f32e76"
            },
            "text/plain": "StatementMeta(taxprocessing, 9, 40, Finished, Available)"
          },
          "metadata": {}
        },
        {
          "output_type": "stream",
          "name": "stdout",
          "text": [
            "+--------------------+--------------------+-----------+---------------+----------+--------+-------------+-----------------+------------+----------+\n|           refund_id|      transaction_id|customer_id|     product_id|      date|quantity|refund_amount|tax_refund_amount|total_Refund|tax_refund|\n+--------------------+--------------------+-----------+---------------+----------+--------+-------------+-----------------+------------+----------+\n|B-46832-B-46832-O...|B-46832-OFF-PA-10...|    B-46832|OFF-PA-10002741|2024-02-17|       4|      $163.88|           $16.39|      163.88|     16.39|\n|C-87776-C-87776-O...|C-87776-OFF-EN-10...|    C-87776|OFF-EN-10000781|2021-06-20|       1|      $213.12|           $21.31|      213.12|     21.31|\n|AP-38866-AP-38866...|AP-38866-FUR-FU-1...|   AP-38866|FUR-FU-10003930|2021-11-10|       1|       $16.22|            $1.62|       16.22|      1.62|\n|H-69793-H-69793-O...|H-69793-OFF-AR-10...|    H-69793|OFF-AR-10002445|2022-05-19|       1|        $75.6|            $7.56|        75.6|      7.56|\n|B-98981-B-98981-T...|B-98981-TEC-PH-10...|    B-98981|TEC-PH-10000148|2023-07-23|       3|       $441.5|           $44.15|       441.5|     44.15|\n|M-71343-M-71343-O...|M-71343-OFF-PA-10...|    M-71343|OFF-PA-10001526|2024-06-15|       3|        $23.7|            $2.37|        23.7|      2.37|\n|B-86111-B-86111-O...|B-86111-OFF-AR-10...|    B-86111|OFF-AR-10000716|2023-11-21|       1|       $26.38|            $2.64|       26.38|      2.64|\n|M-27753-M-27753-F...|M-27753-FUR-FU-10...|    M-27753|FUR-FU-10001986|2022-08-26|       4|        $4.67|            $0.47|        4.67|      0.47|\n|AP-86470-AP-86470...|AP-86470-FUR-CH-1...|   AP-86470|FUR-CH-10004675|2023-12-08|       3|       $51.26|            $5.13|       51.26|      5.13|\n|K-58243-K-58243-T...|K-58243-TEC-MA-10...|    K-58243|TEC-MA-10002210|2022-04-28|       2|        $53.6|            $5.36|        53.6|      5.36|\n|P-58172-P-58172-O...|P-58172-OFF-AP-10...|    P-58172|OFF-AP-10003779|2024-06-20|       3|      $126.84|           $12.68|      126.84|     12.68|\n|TN-18525-TN-18525...|TN-18525-TEC-PH-1...|   TN-18525|TEC-PH-10002262|2022-04-15|       1|        $32.4|            $3.24|        32.4|      3.24|\n|M-38704-M-38704-O...|M-38704-OFF-PA-10...|    M-38704|OFF-PA-10004359|2021-09-23|       1|        $2.38|            $0.24|        2.38|      0.24|\n|K-49635-K-49635-T...|K-49635-TEC-AC-10...|    K-49635|TEC-AC-10000290|2023-05-28|       1|       $19.46|            $1.95|       19.46|      1.95|\n|AP-75575-AP-75575...|AP-75575-OFF-ST-1...|   AP-75575|OFF-ST-10000934|2024-01-06|       3|       $15.12|            $1.51|       15.12|      1.51|\n|M-81003-M-81003-F...|M-81003-FUR-FU-10...|    M-81003|FUR-FU-10004018|2023-08-26|       2|      $286.86|           $28.69|      286.86|     28.69|\n|G-60190-G-60190-T...|G-60190-TEC-PH-10...|    G-60190|TEC-PH-10003505|2023-10-08|       3|       $46.44|            $4.64|       46.44|      4.64|\n|K-75031-K-75031-O...|K-75031-OFF-BI-10...|    K-75031|OFF-BI-10001617|2023-10-19|       5|        $62.1|            $6.21|        62.1|      6.21|\n|AP-34759-AP-34759...|AP-34759-OFF-FA-1...|   AP-34759|OFF-FA-10001229|2021-08-18|       1|       $34.38|            $3.44|       34.38|      3.44|\n|O-29827-O-29827-O...|O-29827-OFF-BI-10...|    O-29827|OFF-BI-10004094|2023-01-10|       2|       $70.56|            $7.06|       70.56|      7.06|\n+--------------------+--------------------+-----------+---------------+----------+--------+-------------+-----------------+------------+----------+\nonly showing top 20 rows\n\n"
          ]
        }
      ],
      "execution_count": 122,
      "metadata": {
        "jupyter": {
          "source_hidden": false,
          "outputs_hidden": false
        },
        "nteract": {
          "transient": {
            "deleting": false
          }
        }
      }
    },
    {
      "cell_type": "code",
      "source": [
        "refunds_df = refunds_df.select(\"transaction_id\",\"total_refund\",\"tax_refund\")"
      ],
      "outputs": [
        {
          "output_type": "display_data",
          "data": {
            "application/vnd.livy.statement-meta+json": {
              "spark_pool": "taxprocessing",
              "session_id": "9",
              "statement_id": 41,
              "statement_ids": [
                41
              ],
              "state": "finished",
              "livy_statement_state": "available",
              "queued_time": "2024-06-16T05:56:55.0921273Z",
              "session_start_time": null,
              "execution_start_time": "2024-06-16T05:58:35.6150264Z",
              "execution_finish_time": "2024-06-16T05:58:35.7963183Z",
              "spark_jobs": null,
              "parent_msg_id": "e1aaaf8a-5027-4361-857a-84184138c636"
            },
            "text/plain": "StatementMeta(taxprocessing, 9, 41, Finished, Available)"
          },
          "metadata": {}
        }
      ],
      "execution_count": 123,
      "metadata": {
        "jupyter": {
          "source_hidden": false,
          "outputs_hidden": false
        },
        "nteract": {
          "transient": {
            "deleting": false
          }
        }
      }
    },
    {
      "cell_type": "code",
      "source": [
        "# tax_per_transactions1.show()\r\n",
        "\r\n",
        "# new_columns = ['transaction_id', 'customer_id', 'date', 'product_id_', 'quantity', 'price', 'Sales', 'product_id', 'description', 'attributes', 'price', 'tax_percentage', 'total_tax_amount']\r\n",
        "# tax_per_transactions1 = tax_per_transactions1.toDF(*new_columns)"
      ],
      "outputs": [
        {
          "output_type": "display_data",
          "data": {
            "application/vnd.livy.statement-meta+json": {
              "spark_pool": "taxprocessing",
              "session_id": "9",
              "statement_id": 42,
              "statement_ids": [
                42
              ],
              "state": "finished",
              "livy_statement_state": "available",
              "queued_time": "2024-06-16T05:56:56.0767504Z",
              "session_start_time": null,
              "execution_start_time": "2024-06-16T05:58:35.9383877Z",
              "execution_finish_time": "2024-06-16T05:58:36.1207933Z",
              "spark_jobs": null,
              "parent_msg_id": "044cc4a6-cab5-4035-9553-16ed16a1bab8"
            },
            "text/plain": "StatementMeta(taxprocessing, 9, 42, Finished, Available)"
          },
          "metadata": {}
        }
      ],
      "execution_count": 124,
      "metadata": {
        "jupyter": {
          "source_hidden": false,
          "outputs_hidden": false
        },
        "nteract": {
          "transient": {
            "deleting": false
          }
        }
      }
    },
    {
      "cell_type": "code",
      "source": [
        "tax_per_transaction1 = tax_per_transaction.select('transaction_id','Sales','total_tax_amount')"
      ],
      "outputs": [
        {
          "output_type": "display_data",
          "data": {
            "application/vnd.livy.statement-meta+json": {
              "spark_pool": "taxprocessing",
              "session_id": "9",
              "statement_id": 43,
              "statement_ids": [
                43
              ],
              "state": "finished",
              "livy_statement_state": "available",
              "queued_time": "2024-06-16T05:56:57.0827286Z",
              "session_start_time": null,
              "execution_start_time": "2024-06-16T05:58:36.2897245Z",
              "execution_finish_time": "2024-06-16T05:58:36.4703579Z",
              "spark_jobs": null,
              "parent_msg_id": "be8dbb14-7e54-4a9c-8db8-87e0adc74972"
            },
            "text/plain": "StatementMeta(taxprocessing, 9, 43, Finished, Available)"
          },
          "metadata": {}
        }
      ],
      "execution_count": 125,
      "metadata": {
        "jupyter": {
          "source_hidden": false,
          "outputs_hidden": false
        },
        "nteract": {
          "transient": {
            "deleting": false
          }
        }
      }
    },
    {
      "cell_type": "code",
      "source": [
        "# Joining transactions_df and refunds_df\r\n",
        "# joined_df = tax_per_transaction1.join(refunds_df, on=[\"transaction_id\"], how=\"left\")\r\n",
        "\r\n",
        "# display(joined_df) \r\n",
        "\r\n",
        "refunds_df.show()\r\n",
        "tax_per_transaction1.show() \r\n"
      ],
      "outputs": [
        {
          "output_type": "display_data",
          "data": {
            "application/vnd.livy.statement-meta+json": {
              "spark_pool": "taxprocessing",
              "session_id": "9",
              "statement_id": 44,
              "statement_ids": [
                44
              ],
              "state": "finished",
              "livy_statement_state": "available",
              "queued_time": "2024-06-16T05:56:58.0854005Z",
              "session_start_time": null,
              "execution_start_time": "2024-06-16T05:58:36.6175026Z",
              "execution_finish_time": "2024-06-16T05:58:37.1804057Z",
              "spark_jobs": null,
              "parent_msg_id": "02facc54-15fc-4ef9-8981-f3ad23bf37c6"
            },
            "text/plain": "StatementMeta(taxprocessing, 9, 44, Finished, Available)"
          },
          "metadata": {}
        },
        {
          "output_type": "stream",
          "name": "stdout",
          "text": [
            "+--------------------+------------+----------+\n|      transaction_id|total_refund|tax_refund|\n+--------------------+------------+----------+\n|B-46832-OFF-PA-10...|      163.88|     16.39|\n|C-87776-OFF-EN-10...|      213.12|     21.31|\n|AP-38866-FUR-FU-1...|       16.22|      1.62|\n|H-69793-OFF-AR-10...|        75.6|      7.56|\n|B-98981-TEC-PH-10...|       441.5|     44.15|\n|M-71343-OFF-PA-10...|        23.7|      2.37|\n|B-86111-OFF-AR-10...|       26.38|      2.64|\n|M-27753-FUR-FU-10...|        4.67|      0.47|\n|AP-86470-FUR-CH-1...|       51.26|      5.13|\n|K-58243-TEC-MA-10...|        53.6|      5.36|\n|P-58172-OFF-AP-10...|      126.84|     12.68|\n|TN-18525-TEC-PH-1...|        32.4|      3.24|\n|M-38704-OFF-PA-10...|        2.38|      0.24|\n|K-49635-TEC-AC-10...|       19.46|      1.95|\n|AP-75575-OFF-ST-1...|       15.12|      1.51|\n|M-81003-FUR-FU-10...|      286.86|     28.69|\n|G-60190-TEC-PH-10...|       46.44|      4.64|\n|K-75031-OFF-BI-10...|        62.1|      6.21|\n|AP-34759-OFF-FA-1...|       34.38|      3.44|\n|O-29827-OFF-BI-10...|       70.56|      7.06|\n+--------------------+------------+----------+\nonly showing top 20 rows\n\n+--------------------+---------+------------------+\n|      transaction_id|    Sales|  total_tax_amount|\n+--------------------+---------+------------------+\n|K-12722-FUR-FU-10...|282.59998| 2.209704568226205|\n|K-12722-OFF-AR-10...|    32.04|11.192379787194243|\n|K-12722-TEC-PH-10...|   329.76| 4.075136240604813|\n|WB-64368-OFF-BI-1...|     81.7| 21.97738979866459|\n|WB-64368-OFF-LA-1...|   728.82|15.607910331159346|\n|WB-64368-OFF-PA-1...|     64.8| 4.489270427066227|\n|J-14825-FUR-BO-10...|   13.494| 2.267389661472281|\n|J-14825-TEC-MA-10...|   36.672|2.6389683226659026|\n|J-14825-OFF-PA-10...|    383.2|13.105241741438716|\n|J-14825-OFF-AR-10...|  217.472|24.389014808539322|\n|J-14825-FUR-FU-10...|    22.08|14.002659891527438|\n|A-30388-FUR-CH-10...|28.223999| 8.716332734803517|\n|A-30388-OFF-BI-10...|  1126.48|31.809597208205762|\n|A-30388-FUR-BO-10...|151.72499|1.4991464945264057|\n|AP-31244-FUR-TA-1...|     98.8|11.912806237403753|\n|AP-31244-TEC-PH-1...|     30.8|18.765817542246108|\n|AP-31244-TEC-AC-1...|  1463.88|  3.69255240323035|\n|AP-31244-TEC-MA-1...|  3357.72|20.388414051589336|\n|K-79252-OFF-BI-10...|   485.82| 2.213699894331873|\n|K-79252-TEC-PH-10...|  620.973| 16.85440013644321|\n+--------------------+---------+------------------+\nonly showing top 20 rows\n\n"
          ]
        }
      ],
      "execution_count": 126,
      "metadata": {
        "jupyter": {
          "source_hidden": false,
          "outputs_hidden": false
        },
        "nteract": {
          "transient": {
            "deleting": false
          }
        },
        "collapsed": false
      }
    },
    {
      "cell_type": "code",
      "source": [
        "joined_df = tax_per_transaction1.join(refunds_df, on=[\"transaction_id\"], how=\"left\")\r\n",
        "\r\n",
        "joined_df = joined_df.fillna({'total_refund': 0,'tax_refund':0 })\r\n",
        "\r\n",
        "# # Selecting all columns from transactions_df and specific columns from refunds_df\r\n",
        "Refunds_data_adjust = joined_df.select(tax_per_transaction1.columns +\r\n",
        "                             [\"total_refund\",\r\n",
        "                              \"tax_refund\"])\r\n",
        "\r\n",
        "# # # Show or perform further actions on result_df\r\n",
        "\r\n",
        "Refunds_data_adjust = Refunds_data_adjust.select(\"transaction_id\", \"Sales\",  \"total_tax_amount\",expr(\"Sales-total_refund\").alias(\"amount_after_Refund\"),expr(\"total_tax_amount - tax_refund\").alias(\"adjusted_tax\"))\r\n",
        "Refunds_data_adjust.show() \r\n",
        "\r\n",
        "### ################### amount will be same if there is no refund ######################"
      ],
      "outputs": [
        {
          "output_type": "display_data",
          "data": {
            "application/vnd.livy.statement-meta+json": {
              "spark_pool": "taxprocessing",
              "session_id": "9",
              "statement_id": 45,
              "statement_ids": [
                45
              ],
              "state": "finished",
              "livy_statement_state": "available",
              "queued_time": "2024-06-16T05:56:59.0917904Z",
              "session_start_time": null,
              "execution_start_time": "2024-06-16T05:58:37.3256668Z",
              "execution_finish_time": "2024-06-16T05:58:38.4519132Z",
              "spark_jobs": null,
              "parent_msg_id": "ccb4dab8-a998-4795-a0a6-f8bc2074b577"
            },
            "text/plain": "StatementMeta(taxprocessing, 9, 45, Finished, Available)"
          },
          "metadata": {}
        },
        {
          "output_type": "stream",
          "name": "stdout",
          "text": [
            "+--------------------+---------+------------------+-------------------+------------------+\n|      transaction_id|    Sales|  total_tax_amount|amount_after_Refund|      adjusted_tax|\n+--------------------+---------+------------------+-------------------+------------------+\n|K-12722-FUR-FU-10...|282.59998| 2.209704568226205|          282.59998| 2.209704568226205|\n|K-12722-OFF-AR-10...|    32.04|11.192379787194243|              32.04|11.192379787194243|\n|K-12722-TEC-PH-10...|   329.76| 4.075136240604813|             329.76| 4.075136240604813|\n|WB-64368-OFF-BI-1...|     81.7| 21.97738979866459|               81.7| 21.97738979866459|\n|WB-64368-OFF-LA-1...|   728.82|15.607910331159346|             728.82|15.607910331159346|\n|WB-64368-OFF-PA-1...|     64.8| 4.489270427066227|               64.8| 4.489270427066227|\n|J-14825-FUR-BO-10...|   13.494| 2.267389661472281|             13.494| 2.267389661472281|\n|J-14825-TEC-MA-10...|   36.672|2.6389683226659026|             36.672|2.6389683226659026|\n|J-14825-OFF-PA-10...|    383.2|13.105241741438716|              383.2|13.105241741438716|\n|J-14825-OFF-AR-10...|  217.472|24.389014808539322|            217.472|24.389014808539322|\n|J-14825-FUR-FU-10...|    22.08|14.002659891527438|          7.3599997|12.532659862917209|\n|A-30388-FUR-CH-10...|28.223999| 8.716332734803517|          28.223999| 8.716332734803517|\n|A-30388-OFF-BI-10...|  1126.48|31.809597208205762|            1126.48|31.809597208205762|\n|A-30388-FUR-BO-10...|151.72499|1.4991464945264057|          151.72499|1.4991464945264057|\n|AP-31244-FUR-TA-1...|     98.8|11.912806237403753|               98.8|11.912806237403753|\n|AP-31244-TEC-PH-1...|     30.8|18.765817542246108|               30.8|18.765817542246108|\n|AP-31244-TEC-AC-1...|  1463.88|  3.69255240323035|            1463.88|  3.69255240323035|\n|AP-31244-TEC-MA-1...|  3357.72|20.388414051589336|            3357.72|20.388414051589336|\n|K-79252-OFF-BI-10...|   485.82| 2.213699894331873|             485.82| 2.213699894331873|\n|K-79252-TEC-PH-10...|  620.973| 16.85440013644321|            620.973| 16.85440013644321|\n+--------------------+---------+------------------+-------------------+------------------+\nonly showing top 20 rows\n\n"
          ]
        }
      ],
      "execution_count": 127,
      "metadata": {
        "jupyter": {
          "source_hidden": false,
          "outputs_hidden": false
        },
        "nteract": {
          "transient": {
            "deleting": false
          }
        }
      }
    },
    {
      "cell_type": "code",
      "source": [
        "# group by tax rate, total_sales.\r\n",
        "# if tax rates high does the sales decreases. \r\n",
        "\r\n",
        "\r\n",
        "# prmotion discount vs non-promotion discount period on sales, tax collection((pivoting is better option))\r\n",
        "\r\n",
        "# total customers by cvc.\r\n",
        "# categories by customers \r\n",
        "\r\n",
        "# total_sales, total_tax by geographic (ranking 2 columns(asc and desc)) ..... orderby total_sales,total_tax(asc), total_tax(desc)"
      ],
      "outputs": [
        {
          "output_type": "display_data",
          "data": {
            "application/vnd.livy.statement-meta+json": {
              "spark_pool": "taxprocessing",
              "session_id": "9",
              "statement_id": 46,
              "statement_ids": [
                46
              ],
              "state": "finished",
              "livy_statement_state": "available",
              "queued_time": "2024-06-16T05:57:00.0935879Z",
              "session_start_time": null,
              "execution_start_time": "2024-06-16T05:58:38.6738358Z",
              "execution_finish_time": "2024-06-16T05:58:38.8814177Z",
              "spark_jobs": null,
              "parent_msg_id": "de8a6a0c-aa95-47f8-8347-a91f3094f381"
            },
            "text/plain": "StatementMeta(taxprocessing, 9, 46, Finished, Available)"
          },
          "metadata": {}
        }
      ],
      "execution_count": 128,
      "metadata": {
        "jupyter": {
          "source_hidden": false,
          "outputs_hidden": false
        },
        "nteract": {
          "transient": {
            "deleting": false
          }
        }
      }
    },
    {
      "cell_type": "code",
      "source": [
        "products_df.show() "
      ],
      "outputs": [
        {
          "output_type": "display_data",
          "data": {
            "application/vnd.livy.statement-meta+json": {
              "spark_pool": "taxprocessing",
              "session_id": "9",
              "statement_id": 47,
              "statement_ids": [
                47
              ],
              "state": "finished",
              "livy_statement_state": "available",
              "queued_time": "2024-06-16T05:57:01.0890947Z",
              "session_start_time": null,
              "execution_start_time": "2024-06-16T05:58:39.0378627Z",
              "execution_finish_time": "2024-06-16T05:58:39.2170189Z",
              "spark_jobs": null,
              "parent_msg_id": "cd46ea9e-99e7-4be3-9397-aaa320b574aa"
            },
            "text/plain": "StatementMeta(taxprocessing, 9, 47, Finished, Available)"
          },
          "metadata": {}
        },
        {
          "output_type": "stream",
          "name": "stdout",
          "text": [
            "+---------------+--------------------+----------------+------------+--------+------------------+\n|     product_id|         description|product_category|sub_category|   price|    tax_percentage|\n+---------------+--------------------+----------------+------------+--------+------------------+\n|FUR-BO-10000112|Bush Birmingham C...|       Furniture|   Bookcases|    46.0|0.6255698915787462|\n|FUR-BO-10000330|Sauder Camden Cou...|       Furniture|   Bookcases| 1024.38|6.0233799587951555|\n|FUR-BO-10000362|Sauder Inglewood ...|       Furniture|   Bookcases|  17.216|3.2057056733911056|\n|FUR-BO-10000468|O'Sullivan 2-Shel...|       Furniture|   Bookcases|  13.494| 2.267389661472281|\n|FUR-BO-10000711|Hon Metal Bookcas...|       Furniture|   Bookcases|   91.36|1.5886114570735634|\n|FUR-BO-10000780|O'Sullivan Planta...|       Furniture|   Bookcases|   104.8|  6.92059361511338|\n|FUR-BO-10001337|O'Sullivan Living...|       Furniture|   Bookcases|   14.94|0.7627121867047044|\n|FUR-BO-10001519|O'Sullivan 3-Shel...|       Furniture|   Bookcases|  263.88| 3.081862475839149|\n|FUR-BO-10001567|Bush Westfield Co...|       Furniture|   Bookcases|    28.4| 6.893117817970634|\n|FUR-BO-10001601|Sauder Mission Li...|       Furniture|   Bookcases|  60.984|1.7475649972059464|\n|FUR-BO-10001608|Hon Metal Bookcas...|       Furniture|   Bookcases|   60.83|  4.92929364047664|\n|FUR-BO-10001619|O'Sullivan Cherry...|       Furniture|   Bookcases| 366.786|0.4867189246570817|\n|FUR-BO-10001798|Bush Somerset Col...|       Furniture|   Bookcases|  25.584| 5.287928769304855|\n|FUR-BO-10001811|Atlantic Metals M...|       Furniture|   Bookcases|  53.952|2.4363769424792525|\n|FUR-BO-10001918|Sauder Forest Hil...|       Furniture|   Bookcases| 315.776| 4.271058448957135|\n|FUR-BO-10001972|O'Sullivan 4-Shel...|       Furniture|   Bookcases|375.4575| 2.580722800896459|\n|FUR-BO-10002202|Atlantic Metals M...|       Furniture|   Bookcases|   866.4| 1.184427273728564|\n|FUR-BO-10002206|Bush Saratoga Col...|       Furniture|   Bookcases|  23.988|1.8350645348031975|\n|FUR-BO-10002213|DMI Eclipse Execu...|       Furniture|   Bookcases| 196.776|1.7907242812815594|\n|FUR-BO-10002213|Sauder Forest Hil...|       Furniture|   Bookcases|  336.51|2.5365675399359002|\n+---------------+--------------------+----------------+------------+--------+------------------+\nonly showing top 20 rows\n\n"
          ]
        }
      ],
      "execution_count": 129,
      "metadata": {
        "jupyter": {
          "source_hidden": false,
          "outputs_hidden": false
        },
        "nteract": {
          "transient": {
            "deleting": false
          }
        }
      }
    },
    {
      "cell_type": "code",
      "source": [
        "products_df_tax_round = products_df.withColumn(\"Round_Tax\", round(col(\"tax_percentage\")))\r\n",
        "products_df_tax_round.show() "
      ],
      "outputs": [
        {
          "output_type": "display_data",
          "data": {
            "application/vnd.livy.statement-meta+json": {
              "spark_pool": "taxprocessing",
              "session_id": "9",
              "statement_id": 48,
              "statement_ids": [
                48
              ],
              "state": "finished",
              "livy_statement_state": "available",
              "queued_time": "2024-06-16T05:57:02.0883889Z",
              "session_start_time": null,
              "execution_start_time": "2024-06-16T05:58:39.3992035Z",
              "execution_finish_time": "2024-06-16T05:58:39.5795822Z",
              "spark_jobs": null,
              "parent_msg_id": "9798d103-d9cc-4617-bd9f-1c9866f93cc2"
            },
            "text/plain": "StatementMeta(taxprocessing, 9, 48, Finished, Available)"
          },
          "metadata": {}
        },
        {
          "output_type": "stream",
          "name": "stdout",
          "text": [
            "+---------------+--------------------+----------------+------------+--------+------------------+---------+\n|     product_id|         description|product_category|sub_category|   price|    tax_percentage|Round_Tax|\n+---------------+--------------------+----------------+------------+--------+------------------+---------+\n|FUR-BO-10000112|Bush Birmingham C...|       Furniture|   Bookcases|    46.0|0.6255698915787462|      1.0|\n|FUR-BO-10000330|Sauder Camden Cou...|       Furniture|   Bookcases| 1024.38|6.0233799587951555|      6.0|\n|FUR-BO-10000362|Sauder Inglewood ...|       Furniture|   Bookcases|  17.216|3.2057056733911056|      3.0|\n|FUR-BO-10000468|O'Sullivan 2-Shel...|       Furniture|   Bookcases|  13.494| 2.267389661472281|      2.0|\n|FUR-BO-10000711|Hon Metal Bookcas...|       Furniture|   Bookcases|   91.36|1.5886114570735634|      2.0|\n|FUR-BO-10000780|O'Sullivan Planta...|       Furniture|   Bookcases|   104.8|  6.92059361511338|      7.0|\n|FUR-BO-10001337|O'Sullivan Living...|       Furniture|   Bookcases|   14.94|0.7627121867047044|      1.0|\n|FUR-BO-10001519|O'Sullivan 3-Shel...|       Furniture|   Bookcases|  263.88| 3.081862475839149|      3.0|\n|FUR-BO-10001567|Bush Westfield Co...|       Furniture|   Bookcases|    28.4| 6.893117817970634|      7.0|\n|FUR-BO-10001601|Sauder Mission Li...|       Furniture|   Bookcases|  60.984|1.7475649972059464|      2.0|\n|FUR-BO-10001608|Hon Metal Bookcas...|       Furniture|   Bookcases|   60.83|  4.92929364047664|      5.0|\n|FUR-BO-10001619|O'Sullivan Cherry...|       Furniture|   Bookcases| 366.786|0.4867189246570817|      0.0|\n|FUR-BO-10001798|Bush Somerset Col...|       Furniture|   Bookcases|  25.584| 5.287928769304855|      5.0|\n|FUR-BO-10001811|Atlantic Metals M...|       Furniture|   Bookcases|  53.952|2.4363769424792525|      2.0|\n|FUR-BO-10001918|Sauder Forest Hil...|       Furniture|   Bookcases| 315.776| 4.271058448957135|      4.0|\n|FUR-BO-10001972|O'Sullivan 4-Shel...|       Furniture|   Bookcases|375.4575| 2.580722800896459|      3.0|\n|FUR-BO-10002202|Atlantic Metals M...|       Furniture|   Bookcases|   866.4| 1.184427273728564|      1.0|\n|FUR-BO-10002206|Bush Saratoga Col...|       Furniture|   Bookcases|  23.988|1.8350645348031975|      2.0|\n|FUR-BO-10002213|DMI Eclipse Execu...|       Furniture|   Bookcases| 196.776|1.7907242812815594|      2.0|\n|FUR-BO-10002213|Sauder Forest Hil...|       Furniture|   Bookcases|  336.51|2.5365675399359002|      3.0|\n+---------------+--------------------+----------------+------------+--------+------------------+---------+\nonly showing top 20 rows\n\n"
          ]
        }
      ],
      "execution_count": 130,
      "metadata": {
        "jupyter": {
          "source_hidden": false,
          "outputs_hidden": false
        },
        "nteract": {
          "transient": {
            "deleting": false
          }
        }
      }
    },
    {
      "cell_type": "code",
      "source": [
        "transaction_history = tax_per_transaction.select(\"product_id\",\"Sales\",\"total_tax_amount\")\r\n",
        "transaction_history.show() \r\n",
        "\r\n",
        "Tax_bracket_analysis = transaction_history.join(products_df_tax_round, how = \"inner\", on = [\"product_id\"]).groupBy(\"Round_Tax\")\\\r\n",
        "                        .agg(sum(\"total_tax_amount\").alias(\"tax_collected_per_tbracket\") \\\r\n",
        "                        , sum(\"Sales\").alias(\"total_sales_by_tax_bracket\"))\r\n",
        "\r\n",
        "Tax_bracket_analysis.show()\r\n"
      ],
      "outputs": [
        {
          "output_type": "display_data",
          "data": {
            "application/vnd.livy.statement-meta+json": {
              "spark_pool": "taxprocessing",
              "session_id": "9",
              "statement_id": 49,
              "statement_ids": [
                49
              ],
              "state": "finished",
              "livy_statement_state": "available",
              "queued_time": "2024-06-16T05:57:03.0951811Z",
              "session_start_time": null,
              "execution_start_time": "2024-06-16T05:58:39.7356729Z",
              "execution_finish_time": "2024-06-16T05:58:41.6739727Z",
              "spark_jobs": null,
              "parent_msg_id": "3a2a68ac-fadd-42ee-b57a-d8436f1c8525"
            },
            "text/plain": "StatementMeta(taxprocessing, 9, 49, Finished, Available)"
          },
          "metadata": {}
        },
        {
          "output_type": "stream",
          "name": "stdout",
          "text": [
            "+---------------+---------+------------------+\n|     product_id|    Sales|  total_tax_amount|\n+---------------+---------+------------------+\n|FUR-FU-10004665|282.59998| 2.209704568226205|\n|OFF-AR-10002053|    32.04|11.192379787194243|\n|TEC-PH-10001459|   329.76| 4.075136240604813|\n|OFF-BI-10003655|     81.7| 21.97738979866459|\n|OFF-LA-10002381|   728.82|15.607910331159346|\n|OFF-PA-10003129|     64.8| 4.489270427066227|\n|FUR-BO-10000468|   13.494| 2.267389661472281|\n|TEC-MA-10001031|   36.672|2.6389683226659026|\n|OFF-PA-10002230|    383.2|13.105241741438716|\n|OFF-AR-10003958|  217.472|24.389014808539322|\n|FUR-FU-10001588|    22.08|14.002659891527438|\n|FUR-CH-10004997|28.223999| 8.716332734803517|\n|OFF-BI-10003718|  1126.48|31.809597208205762|\n|FUR-BO-10003034|151.72499|1.4991464945264057|\n|FUR-TA-10000577|     98.8|11.912806237403753|\n|TEC-PH-10002200|     30.8|18.765817542246108|\n|TEC-AC-10003289|  1463.88|  3.69255240323035|\n|TEC-MA-10001148|  3357.72|20.388414051589336|\n|OFF-BI-10003694|   485.82| 2.213699894331873|\n|TEC-PH-10002817|  620.973| 16.85440013644321|\n+---------------+---------+------------------+\nonly showing top 20 rows\n\n+---------+--------------------------+--------------------------+\n|Round_Tax|tax_collected_per_tbracket|total_sales_by_tax_bracket|\n+---------+--------------------------+--------------------------+\n|      0.0|         16088.91823449429|      1.3067683048171043E7|\n|      7.0|         419325.8094556132|       1.272171267949152E7|\n|      1.0|         80761.39130085555|       2.765587034231043E7|\n|      4.0|        350691.94735852606|      2.0876006245856047E7|\n|      3.0|        224022.89375605423|      1.9423657113085866E7|\n|      2.0|        182383.72286171422|      1.9505564835376143E7|\n|      6.0|          523193.284786582|       2.309307032609999E7|\n|      5.0|         390320.9704455277|      2.3592756706178665E7|\n+---------+--------------------------+--------------------------+\n\n"
          ]
        }
      ],
      "execution_count": 131,
      "metadata": {
        "jupyter": {
          "source_hidden": false,
          "outputs_hidden": false
        },
        "nteract": {
          "transient": {
            "deleting": false
          }
        }
      }
    },
    {
      "cell_type": "markdown",
      "source": [
        "#### promotional season vs non-promotion data"
      ],
      "metadata": {
        "nteract": {
          "transient": {
            "deleting": false
          }
        }
      }
    },
    {
      "cell_type": "code",
      "source": [
        "promotional_data = (\r\n",
        "    spark.read.format('csv')\r\n",
        "    .option('header', 'true')\r\n",
        "    .option('inferSchema', 'true')\r\n",
        "    .option('quote', '\"')\r\n",
        "    .option('escape', '\"')\r\n",
        "    .load('abfss://mycontainer@adlsgen21507.dfs.core.windows.net/promotions (1).csv')\r\n",
        ")\r\n",
        "\r\n",
        "display(promotional_data.limit(10))\r\n"
      ],
      "outputs": [
        {
          "output_type": "display_data",
          "data": {
            "application/vnd.livy.statement-meta+json": {
              "spark_pool": "taxprocessing",
              "session_id": "9",
              "statement_id": 50,
              "statement_ids": [
                50
              ],
              "state": "finished",
              "livy_statement_state": "available",
              "queued_time": "2024-06-16T05:57:04.0886382Z",
              "session_start_time": null,
              "execution_start_time": "2024-06-16T05:58:41.8507315Z",
              "execution_finish_time": "2024-06-16T05:58:43.0197003Z",
              "spark_jobs": null,
              "parent_msg_id": "3ae3902b-0af9-4bcc-8c3b-015e279d118c"
            },
            "text/plain": "StatementMeta(taxprocessing, 9, 50, Finished, Available)"
          },
          "metadata": {}
        },
        {
          "output_type": "display_data",
          "data": {
            "application/vnd.synapse.widget-view+json": {
              "widget_id": "5781cff6-cf8c-4323-8b6c-383557e5902f",
              "widget_type": "Synapse.DataFrame"
            },
            "text/plain": "SynapseWidget(Synapse.DataFrame, 5781cff6-cf8c-4323-8b6c-383557e5902f)"
          },
          "metadata": {}
        }
      ],
      "execution_count": 132,
      "metadata": {
        "jupyter": {
          "source_hidden": false,
          "outputs_hidden": false
        },
        "nteract": {
          "transient": {
            "deleting": false
          }
        },
        "collapsed": false
      }
    },
    {
      "cell_type": "code",
      "source": [
        "promotional_data.printSchema() "
      ],
      "outputs": [
        {
          "output_type": "display_data",
          "data": {
            "application/vnd.livy.statement-meta+json": {
              "spark_pool": "taxprocessing",
              "session_id": "9",
              "statement_id": 51,
              "statement_ids": [
                51
              ],
              "state": "finished",
              "livy_statement_state": "available",
              "queued_time": "2024-06-16T05:57:05.098051Z",
              "session_start_time": null,
              "execution_start_time": "2024-06-16T05:58:43.1593636Z",
              "execution_finish_time": "2024-06-16T05:58:43.341571Z",
              "spark_jobs": null,
              "parent_msg_id": "48f7433d-a125-4a0d-823f-f7946cba0575"
            },
            "text/plain": "StatementMeta(taxprocessing, 9, 51, Finished, Available)"
          },
          "metadata": {}
        },
        {
          "output_type": "stream",
          "name": "stdout",
          "text": [
            "root\n |-- promo_id: string (nullable = true)\n |-- description: string (nullable = true)\n |-- discount: double (nullable = true)\n |-- applicable_products: string (nullable = true)\n |-- start_date: integer (nullable = true)\n |-- start_date_month: integer (nullable = true)\n |-- end_date: integer (nullable = true)\n |-- end_date_month: integer (nullable = true)\n\n"
          ]
        }
      ],
      "execution_count": 133,
      "metadata": {
        "jupyter": {
          "source_hidden": false,
          "outputs_hidden": false
        },
        "nteract": {
          "transient": {
            "deleting": false
          }
        }
      }
    },
    {
      "cell_type": "code",
      "source": [
        "# promotional_data = promotional_data.withColumn(\"array_column\", array(promotional_data[\"applicable_products\"]))\r\n",
        "\r\n",
        "from pyspark.sql.functions import split, col\r\n",
        "\r\n",
        "# using split()\r\n",
        "# Assuming promotional_data is your DataFrame with \"applicable_products\" as array of strings\r\n",
        "promotional_data = promotional_data.withColumn(\"applicable_products\", regexp_replace(col(\"applicable_products\"), r\"[\\[\\]]\", \"\"))\r\n",
        "promotional_data = promotional_data.withColumn(\"applicable_products_array\", split(col(\"applicable_products\"), \",\\s*\"))\r\n",
        "promotional_data.printSchema()"
      ],
      "outputs": [
        {
          "output_type": "display_data",
          "data": {
            "application/vnd.livy.statement-meta+json": {
              "spark_pool": "taxprocessing",
              "session_id": "9",
              "statement_id": 52,
              "statement_ids": [
                52
              ],
              "state": "finished",
              "livy_statement_state": "available",
              "queued_time": "2024-06-16T05:57:06.0975931Z",
              "session_start_time": null,
              "execution_start_time": "2024-06-16T05:58:43.521409Z",
              "execution_finish_time": "2024-06-16T05:58:43.7072599Z",
              "spark_jobs": null,
              "parent_msg_id": "1ef52523-997c-414c-a8d5-49bc441d5856"
            },
            "text/plain": "StatementMeta(taxprocessing, 9, 52, Finished, Available)"
          },
          "metadata": {}
        },
        {
          "output_type": "stream",
          "name": "stdout",
          "text": [
            "root\n |-- promo_id: string (nullable = true)\n |-- description: string (nullable = true)\n |-- discount: double (nullable = true)\n |-- applicable_products: string (nullable = true)\n |-- start_date: integer (nullable = true)\n |-- start_date_month: integer (nullable = true)\n |-- end_date: integer (nullable = true)\n |-- end_date_month: integer (nullable = true)\n |-- applicable_products_array: array (nullable = true)\n |    |-- element: string (containsNull = false)\n\n"
          ]
        }
      ],
      "execution_count": 134,
      "metadata": {
        "jupyter": {
          "source_hidden": false,
          "outputs_hidden": false
        },
        "nteract": {
          "transient": {
            "deleting": false
          }
        }
      }
    },
    {
      "cell_type": "code",
      "source": [
        "promotional_data.printSchema() "
      ],
      "outputs": [
        {
          "output_type": "display_data",
          "data": {
            "application/vnd.livy.statement-meta+json": {
              "spark_pool": "taxprocessing",
              "session_id": "9",
              "statement_id": 53,
              "statement_ids": [
                53
              ],
              "state": "finished",
              "livy_statement_state": "available",
              "queued_time": "2024-06-16T05:57:07.0892463Z",
              "session_start_time": null,
              "execution_start_time": "2024-06-16T05:58:43.8545082Z",
              "execution_finish_time": "2024-06-16T05:58:44.0422762Z",
              "spark_jobs": null,
              "parent_msg_id": "0befc041-4565-498e-9351-b67f641a883f"
            },
            "text/plain": "StatementMeta(taxprocessing, 9, 53, Finished, Available)"
          },
          "metadata": {}
        },
        {
          "output_type": "stream",
          "name": "stdout",
          "text": [
            "root\n |-- promo_id: string (nullable = true)\n |-- description: string (nullable = true)\n |-- discount: double (nullable = true)\n |-- applicable_products: string (nullable = true)\n |-- start_date: integer (nullable = true)\n |-- start_date_month: integer (nullable = true)\n |-- end_date: integer (nullable = true)\n |-- end_date_month: integer (nullable = true)\n |-- applicable_products_array: array (nullable = true)\n |    |-- element: string (containsNull = false)\n\n"
          ]
        }
      ],
      "execution_count": 135,
      "metadata": {
        "jupyter": {
          "source_hidden": false,
          "outputs_hidden": false
        },
        "nteract": {
          "transient": {
            "deleting": false
          }
        }
      }
    },
    {
      "cell_type": "code",
      "source": [],
      "outputs": [],
      "execution_count": null,
      "metadata": {
        "jupyter": {
          "source_hidden": false,
          "outputs_hidden": false
        },
        "nteract": {
          "transient": {
            "deleting": false
          }
        }
      }
    },
    {
      "cell_type": "code",
      "source": [
        "promotional_data.select(\"applicable_products_array\").show(truncate = False) "
      ],
      "outputs": [
        {
          "output_type": "display_data",
          "data": {
            "application/vnd.livy.statement-meta+json": {
              "spark_pool": "taxprocessing",
              "session_id": "9",
              "statement_id": 54,
              "statement_ids": [
                54
              ],
              "state": "finished",
              "livy_statement_state": "available",
              "queued_time": "2024-06-16T05:57:09.0856383Z",
              "session_start_time": null,
              "execution_start_time": "2024-06-16T05:58:44.2221862Z",
              "execution_finish_time": "2024-06-16T05:58:44.4035797Z",
              "spark_jobs": null,
              "parent_msg_id": "dddd621a-fc61-4cd2-a4ae-a03059ea6fa6"
            },
            "text/plain": "StatementMeta(taxprocessing, 9, 54, Finished, Available)"
          },
          "metadata": {}
        },
        {
          "output_type": "stream",
          "name": "stdout",
          "text": [
            "+--------------------------------------------------------------------------------------------------------------------------------------------------------------------------+\n|applicable_products_array                                                                                                                                                 |\n+--------------------------------------------------------------------------------------------------------------------------------------------------------------------------+\n|[OFF-BI-10001072]                                                                                                                                                         |\n|[FUR-FU-10003268, OFF-PA-10000743, TEC-AC-10001445, OFF-ST-10002615, OFF-AP-10000326, OFF-EN-10001535]                                                                    |\n|[OFF-BI-10004506, TEC-MA-10004552, OFF-BI-10000494, OFF-PA-10002764]                                                                                                      |\n|[TEC-MA-10000488, TEC-AC-10001553, OFF-ST-10003692, TEC-MA-10001031]                                                                                                      |\n|[OFF-PA-10004092, TEC-MA-10004086, OFF-FA-10000134, OFF-ST-10001526, OFF-AR-10004817, OFF-ST-10004180, FUR-FU-10003664]                                                   |\n|[OFF-AR-10003477]                                                                                                                                                         |\n|[OFF-ST-10003996, TEC-AC-10001266, OFF-ST-10002276, TEC-AC-10004877, OFF-PA-10002195, OFF-AR-10000255, FUR-BO-10002268, TEC-PH-10003655, OFF-BI-10003650, TEC-PH-10000193]|\n|[FUR-BO-10004467, OFF-ST-10000025, FUR-FU-10003535, TEC-PH-10002200, TEC-PH-10002275, OFF-PA-10000312]                                                                    |\n|[OFF-AR-10000390, OFF-AP-10002439, OFF-PA-10000176]                                                                                                                       |\n|[TEC-AC-10001606, FUR-CH-10004997, FUR-CH-10003199]                                                                                                                       |\n+--------------------------------------------------------------------------------------------------------------------------------------------------------------------------+\n\n"
          ]
        }
      ],
      "execution_count": 136,
      "metadata": {
        "jupyter": {
          "source_hidden": false,
          "outputs_hidden": false
        },
        "nteract": {
          "transient": {
            "deleting": false
          }
        },
        "collapsed": false
      }
    },
    {
      "cell_type": "code",
      "source": [
        "from pyspark.sql.functions import explode, col\r\n",
        "\r\n",
        "\r\n",
        "exploded_df = promotional_data.select(\"*\",explode(col(\"applicable_products_array\")).alias(\"exploded_element\"))\r\n",
        "\r\n",
        "\r\n"
      ],
      "outputs": [
        {
          "output_type": "display_data",
          "data": {
            "application/vnd.livy.statement-meta+json": {
              "spark_pool": "taxprocessing",
              "session_id": "9",
              "statement_id": 55,
              "statement_ids": [
                55
              ],
              "state": "finished",
              "livy_statement_state": "available",
              "queued_time": "2024-06-16T05:57:10.0799598Z",
              "session_start_time": null,
              "execution_start_time": "2024-06-16T05:58:44.5398052Z",
              "execution_finish_time": "2024-06-16T05:58:45.3249092Z",
              "spark_jobs": null,
              "parent_msg_id": "c8da0a69-45a4-473b-bd88-5ad12b339152"
            },
            "text/plain": "StatementMeta(taxprocessing, 9, 55, Finished, Available)"
          },
          "metadata": {}
        }
      ],
      "execution_count": 137,
      "metadata": {
        "jupyter": {
          "source_hidden": false,
          "outputs_hidden": false
        },
        "nteract": {
          "transient": {
            "deleting": false
          }
        }
      }
    },
    {
      "cell_type": "code",
      "source": [
        "exploded_df.show() "
      ],
      "outputs": [
        {
          "output_type": "display_data",
          "data": {
            "application/vnd.livy.statement-meta+json": {
              "spark_pool": "taxprocessing",
              "session_id": "9",
              "statement_id": 56,
              "statement_ids": [
                56
              ],
              "state": "finished",
              "livy_statement_state": "available",
              "queued_time": "2024-06-16T05:57:18.4465124Z",
              "session_start_time": null,
              "execution_start_time": "2024-06-16T05:58:45.4682514Z",
              "execution_finish_time": "2024-06-16T05:58:46.067439Z",
              "spark_jobs": null,
              "parent_msg_id": "27cf3e43-f2f4-4e22-9074-863faf8e4409"
            },
            "text/plain": "StatementMeta(taxprocessing, 9, 56, Finished, Available)"
          },
          "metadata": {}
        },
        {
          "output_type": "stream",
          "name": "stdout",
          "text": [
            "+--------------------+--------------------+--------+--------------------+----------+----------------+--------+--------------+-------------------------+----------------+\n|            promo_id|         description|discount| applicable_products|start_date|start_date_month|end_date|end_date_month|applicable_products_array|exploded_element|\n+--------------------+--------------------+--------+--------------------+----------+----------------+--------+--------------+-------------------------+----------------+\n|82a124c2-283d-45b...|         Diwali Sale|   13.57|     OFF-BI-10001072|        15|              10|      15|            11|        [OFF-BI-10001072]| OFF-BI-10001072|\n|87e92b81-64b1-4a5...|        Holi Special|   11.86|FUR-FU-10003268, ...|        10|               3|      20|             3|     [FUR-FU-10003268,...| FUR-FU-10003268|\n|87e92b81-64b1-4a5...|        Holi Special|   11.86|FUR-FU-10003268, ...|        10|               3|      20|             3|     [FUR-FU-10003268,...| OFF-PA-10000743|\n|87e92b81-64b1-4a5...|        Holi Special|   11.86|FUR-FU-10003268, ...|        10|               3|      20|             3|     [FUR-FU-10003268,...| TEC-AC-10001445|\n|87e92b81-64b1-4a5...|        Holi Special|   11.86|FUR-FU-10003268, ...|        10|               3|      20|             3|     [FUR-FU-10003268,...| OFF-ST-10002615|\n|87e92b81-64b1-4a5...|        Holi Special|   11.86|FUR-FU-10003268, ...|        10|               3|      20|             3|     [FUR-FU-10003268,...| OFF-AP-10000326|\n|87e92b81-64b1-4a5...|        Holi Special|   11.86|FUR-FU-10003268, ...|        10|               3|      20|             3|     [FUR-FU-10003268,...| OFF-EN-10001535|\n|25cb4323-cbf3-49c...|        Eid Discount|   16.43|OFF-BI-10004506, ...|        20|               5|      20|             6|     [OFF-BI-10004506,...| OFF-BI-10004506|\n|25cb4323-cbf3-49c...|        Eid Discount|   16.43|OFF-BI-10004506, ...|        20|               5|      20|             6|     [OFF-BI-10004506,...| TEC-MA-10004552|\n|25cb4323-cbf3-49c...|        Eid Discount|   16.43|OFF-BI-10004506, ...|        20|               5|      20|             6|     [OFF-BI-10004506,...| OFF-BI-10000494|\n|25cb4323-cbf3-49c...|        Eid Discount|   16.43|OFF-BI-10004506, ...|        20|               5|      20|             6|     [OFF-BI-10004506,...| OFF-PA-10002764|\n|c9ce8ad9-afb4-467...|     Christmas Offer|    7.04|TEC-MA-10000488, ...|        15|              12|      25|            12|     [TEC-MA-10000488,...| TEC-MA-10000488|\n|c9ce8ad9-afb4-467...|     Christmas Offer|    7.04|TEC-MA-10000488, ...|        15|              12|      25|            12|     [TEC-MA-10000488,...| TEC-AC-10001553|\n|c9ce8ad9-afb4-467...|     Christmas Offer|    7.04|TEC-MA-10000488, ...|        15|              12|      25|            12|     [TEC-MA-10000488,...| OFF-ST-10003692|\n|c9ce8ad9-afb4-467...|     Christmas Offer|    7.04|TEC-MA-10000488, ...|        15|              12|      25|            12|     [TEC-MA-10000488,...| TEC-MA-10001031|\n|2ed8964c-76f8-46c...|Independence Day ...|   16.58|OFF-PA-10004092, ...|        10|               8|      20|             8|     [OFF-PA-10004092,...| OFF-PA-10004092|\n|2ed8964c-76f8-46c...|Independence Day ...|   16.58|OFF-PA-10004092, ...|        10|               8|      20|             8|     [OFF-PA-10004092,...| TEC-MA-10004086|\n|2ed8964c-76f8-46c...|Independence Day ...|   16.58|OFF-PA-10004092, ...|        10|               8|      20|             8|     [OFF-PA-10004092,...| OFF-FA-10000134|\n|2ed8964c-76f8-46c...|Independence Day ...|   16.58|OFF-PA-10004092, ...|        10|               8|      20|             8|     [OFF-PA-10004092,...| OFF-ST-10001526|\n|2ed8964c-76f8-46c...|Independence Day ...|   16.58|OFF-PA-10004092, ...|        10|               8|      20|             8|     [OFF-PA-10004092,...| OFF-AR-10004817|\n+--------------------+--------------------+--------+--------------------+----------+----------------+--------+--------------+-------------------------+----------------+\nonly showing top 20 rows\n\n"
          ]
        }
      ],
      "execution_count": 138,
      "metadata": {
        "jupyter": {
          "source_hidden": false,
          "outputs_hidden": false
        },
        "nteract": {
          "transient": {
            "deleting": false
          }
        }
      }
    },
    {
      "cell_type": "code",
      "source": [],
      "outputs": [],
      "execution_count": null,
      "metadata": {
        "jupyter": {
          "source_hidden": false,
          "outputs_hidden": false
        },
        "nteract": {
          "transient": {
            "deleting": false
          }
        }
      }
    },
    {
      "cell_type": "code",
      "source": [
        "transaction_data_after_promotion_discount = tax_per_transaction.select(\"transaction_id\",\"date\",\"product_id\",\"Sales\")\r\n",
        "\r\n",
        "transaction_data_after_promotion_discount.show() "
      ],
      "outputs": [
        {
          "output_type": "display_data",
          "data": {
            "application/vnd.livy.statement-meta+json": {
              "spark_pool": "taxprocessing",
              "session_id": "9",
              "statement_id": 57,
              "statement_ids": [
                57
              ],
              "state": "finished",
              "livy_statement_state": "available",
              "queued_time": "2024-06-16T05:57:39.5578153Z",
              "session_start_time": null,
              "execution_start_time": "2024-06-16T05:58:46.204703Z",
              "execution_finish_time": "2024-06-16T05:58:46.7751805Z",
              "spark_jobs": null,
              "parent_msg_id": "9fc5c18e-20dd-4465-88fb-36db95e50ea2"
            },
            "text/plain": "StatementMeta(taxprocessing, 9, 57, Finished, Available)"
          },
          "metadata": {}
        },
        {
          "output_type": "stream",
          "name": "stdout",
          "text": [
            "+--------------------+----------+---------------+---------+\n|      transaction_id|      date|     product_id|    Sales|\n+--------------------+----------+---------------+---------+\n|K-12722-FUR-FU-10...|2022-07-30|FUR-FU-10004665|282.59998|\n|K-12722-OFF-AR-10...|2022-09-26|OFF-AR-10002053|    32.04|\n|K-12722-TEC-PH-10...|2023-06-20|TEC-PH-10001459|   329.76|\n|WB-64368-OFF-BI-1...|2022-10-21|OFF-BI-10003655|     81.7|\n|WB-64368-OFF-LA-1...|2024-04-23|OFF-LA-10002381|   728.82|\n|WB-64368-OFF-PA-1...|2022-08-11|OFF-PA-10003129|     64.8|\n|J-14825-FUR-BO-10...|2023-06-18|FUR-BO-10000468|   13.494|\n|J-14825-TEC-MA-10...|2023-04-20|TEC-MA-10001031|   36.672|\n|J-14825-OFF-PA-10...|2022-09-10|OFF-PA-10002230|    383.2|\n|J-14825-OFF-AR-10...|2021-09-17|OFF-AR-10003958|  217.472|\n|J-14825-FUR-FU-10...|2021-12-03|FUR-FU-10001588|    22.08|\n|A-30388-FUR-CH-10...|2024-05-01|FUR-CH-10004997|28.223999|\n|A-30388-OFF-BI-10...|2021-09-03|OFF-BI-10003718|  1126.48|\n|A-30388-FUR-BO-10...|2023-12-28|FUR-BO-10003034|151.72499|\n|AP-31244-FUR-TA-1...|2023-01-07|FUR-TA-10000577|     98.8|\n|AP-31244-TEC-PH-1...|2022-09-07|TEC-PH-10002200|     30.8|\n|AP-31244-TEC-AC-1...|2022-01-25|TEC-AC-10003289|  1463.88|\n|AP-31244-TEC-MA-1...|2024-04-01|TEC-MA-10001148|  3357.72|\n|K-79252-OFF-BI-10...|2022-12-26|OFF-BI-10003694|   485.82|\n|K-79252-TEC-PH-10...|2022-04-28|TEC-PH-10002817|  620.973|\n+--------------------+----------+---------------+---------+\nonly showing top 20 rows\n\n"
          ]
        }
      ],
      "execution_count": 139,
      "metadata": {
        "jupyter": {
          "source_hidden": false,
          "outputs_hidden": false
        },
        "nteract": {
          "transient": {
            "deleting": false
          }
        }
      }
    },
    {
      "cell_type": "code",
      "source": [
        "\r\n",
        "# Create a temporary view\r\n",
        "transaction_data_after_promotion_discount.createOrReplaceTempView(\"sales_after_promo\")\r\n",
        "\r\n",
        "exploded_df.createOrReplaceTempView(\"promo_data\") "
      ],
      "outputs": [
        {
          "output_type": "display_data",
          "data": {
            "application/vnd.livy.statement-meta+json": {
              "spark_pool": "taxprocessing",
              "session_id": "9",
              "statement_id": 58,
              "statement_ids": [
                58
              ],
              "state": "finished",
              "livy_statement_state": "available",
              "queued_time": "2024-06-16T05:57:40.0983347Z",
              "session_start_time": null,
              "execution_start_time": "2024-06-16T05:58:46.9326843Z",
              "execution_finish_time": "2024-06-16T05:58:47.1202115Z",
              "spark_jobs": null,
              "parent_msg_id": "5c8db612-20d1-44fc-a9fb-802d35ce2dec"
            },
            "text/plain": "StatementMeta(taxprocessing, 9, 58, Finished, Available)"
          },
          "metadata": {}
        }
      ],
      "execution_count": 140,
      "metadata": {
        "jupyter": {
          "source_hidden": false,
          "outputs_hidden": false
        },
        "nteract": {
          "transient": {
            "deleting": false
          }
        }
      }
    },
    {
      "cell_type": "code",
      "source": [
        "# display(transaction_data_after_promotion_discount )"
      ],
      "outputs": [
        {
          "output_type": "display_data",
          "data": {
            "application/vnd.livy.statement-meta+json": {
              "spark_pool": "taxprocessing",
              "session_id": "9",
              "statement_id": 59,
              "statement_ids": [
                59
              ],
              "state": "finished",
              "livy_statement_state": "available",
              "queued_time": "2024-06-16T05:57:40.615448Z",
              "session_start_time": null,
              "execution_start_time": "2024-06-16T05:58:47.258757Z",
              "execution_finish_time": "2024-06-16T05:58:47.4330184Z",
              "spark_jobs": null,
              "parent_msg_id": "1fb46afa-55cf-4320-b3eb-da02ec573943"
            },
            "text/plain": "StatementMeta(taxprocessing, 9, 59, Finished, Available)"
          },
          "metadata": {}
        }
      ],
      "execution_count": 141,
      "metadata": {
        "jupyter": {
          "source_hidden": false,
          "outputs_hidden": false
        },
        "nteract": {
          "transient": {
            "deleting": false
          }
        },
        "collapsed": false
      }
    },
    {
      "cell_type": "code",
      "source": [
        "%%sql\r\n",
        "select * from sales_after_promo limit 10;\r\n",
        "\r\n",
        "select * from promo_data limit 10;"
      ],
      "outputs": [
        {
          "output_type": "display_data",
          "data": {
            "application/vnd.livy.statement-meta+json": {
              "spark_pool": null,
              "session_id": "9",
              "statement_id": 61,
              "statement_ids": [
                60,
                61
              ],
              "state": "finished",
              "livy_statement_state": "available",
              "queued_time": "2024-06-16T05:58:47.4839296Z",
              "session_start_time": null,
              "execution_start_time": "2024-06-16T05:58:47.6075583Z",
              "execution_finish_time": "2024-06-16T05:58:49.5004989Z",
              "spark_jobs": null,
              "parent_msg_id": "74c82ce1-8239-4c59-af7c-cde08b05b639"
            },
            "text/plain": "StatementMeta(, 9, 61, Finished, Available)"
          },
          "metadata": {}
        },
        {
          "output_type": "execute_result",
          "execution_count": 142,
          "data": {
            "application/vnd.synapse.sparksql-result+json": {
              "schema": {
                "type": "struct",
                "fields": [
                  {
                    "name": "transaction_id",
                    "type": "string",
                    "nullable": true,
                    "metadata": {}
                  },
                  {
                    "name": "date",
                    "type": "string",
                    "nullable": true,
                    "metadata": {}
                  },
                  {
                    "name": "product_id",
                    "type": "string",
                    "nullable": true,
                    "metadata": {}
                  },
                  {
                    "name": "Sales",
                    "type": "float",
                    "nullable": true,
                    "metadata": {}
                  }
                ]
              },
              "data": [
                [
                  "K-12722-FUR-FU-10004665-5859",
                  "2022-07-30",
                  "FUR-FU-10004665",
                  282.5999755859375
                ],
                [
                  "K-12722-OFF-AR-10002053-0013",
                  "2022-09-26",
                  "OFF-AR-10002053",
                  32.040000915527344
                ],
                [
                  "K-12722-TEC-PH-10001459-5611",
                  "2023-06-20",
                  "TEC-PH-10001459",
                  329.760009765625
                ],
                [
                  "WB-64368-OFF-BI-10003655-4331",
                  "2022-10-21",
                  "OFF-BI-10003655",
                  81.69999694824219
                ],
                [
                  "WB-64368-OFF-LA-10002381-4602",
                  "2024-04-23",
                  "OFF-LA-10002381",
                  728.8200073242188
                ],
                [
                  "WB-64368-OFF-PA-10003129-2410",
                  "2022-08-11",
                  "OFF-PA-10003129",
                  64.80000305175781
                ],
                [
                  "J-14825-FUR-BO-10000468-4538",
                  "2023-06-18",
                  "FUR-BO-10000468",
                  13.494000434875488
                ],
                [
                  "J-14825-TEC-MA-10001031-4742",
                  "2023-04-20",
                  "TEC-MA-10001031",
                  36.672000885009766
                ],
                [
                  "J-14825-OFF-PA-10002230-2210",
                  "2022-09-10",
                  "OFF-PA-10002230",
                  383.20001220703125
                ],
                [
                  "J-14825-OFF-AR-10003958-1241",
                  "2021-09-17",
                  "OFF-AR-10003958",
                  217.4720001220703
                ]
              ]
            },
            "text/plain": "<Spark SQL result set with 10 rows and 4 fields>"
          },
          "metadata": {}
        },
        {
          "output_type": "execute_result",
          "execution_count": 142,
          "data": {
            "application/vnd.synapse.sparksql-result+json": {
              "schema": {
                "type": "struct",
                "fields": [
                  {
                    "name": "promo_id",
                    "type": "string",
                    "nullable": true,
                    "metadata": {}
                  },
                  {
                    "name": "description",
                    "type": "string",
                    "nullable": true,
                    "metadata": {}
                  },
                  {
                    "name": "discount",
                    "type": "double",
                    "nullable": true,
                    "metadata": {}
                  },
                  {
                    "name": "applicable_products",
                    "type": "string",
                    "nullable": true,
                    "metadata": {}
                  },
                  {
                    "name": "start_date",
                    "type": "integer",
                    "nullable": true,
                    "metadata": {}
                  },
                  {
                    "name": "start_date_month",
                    "type": "integer",
                    "nullable": true,
                    "metadata": {}
                  },
                  {
                    "name": "end_date",
                    "type": "integer",
                    "nullable": true,
                    "metadata": {}
                  },
                  {
                    "name": "end_date_month",
                    "type": "integer",
                    "nullable": true,
                    "metadata": {}
                  },
                  {
                    "name": "applicable_products_array",
                    "type": {
                      "type": "array",
                      "elementType": "string",
                      "containsNull": false
                    },
                    "nullable": true,
                    "metadata": {}
                  },
                  {
                    "name": "exploded_element",
                    "type": "string",
                    "nullable": false,
                    "metadata": {}
                  }
                ]
              },
              "data": [
                [
                  "82a124c2-283d-45b2-9e2b-2a4c8ffb06c3",
                  "Diwali Sale",
                  13.57,
                  "OFF-BI-10001072",
                  15,
                  10,
                  15,
                  11,
                  [
                    "OFF-BI-10001072"
                  ],
                  "OFF-BI-10001072"
                ],
                [
                  "87e92b81-64b1-4a53-a211-a5830e109bd2",
                  "Holi Special",
                  11.86,
                  "FUR-FU-10003268, OFF-PA-10000743, TEC-AC-10001445, OFF-ST-10002615, OFF-AP-10000326, OFF-EN-10001535",
                  10,
                  3,
                  20,
                  3,
                  [
                    "FUR-FU-10003268",
                    "OFF-PA-10000743",
                    "TEC-AC-10001445",
                    "OFF-ST-10002615",
                    "OFF-AP-10000326",
                    "OFF-EN-10001535"
                  ],
                  "FUR-FU-10003268"
                ],
                [
                  "87e92b81-64b1-4a53-a211-a5830e109bd2",
                  "Holi Special",
                  11.86,
                  "FUR-FU-10003268, OFF-PA-10000743, TEC-AC-10001445, OFF-ST-10002615, OFF-AP-10000326, OFF-EN-10001535",
                  10,
                  3,
                  20,
                  3,
                  [
                    "FUR-FU-10003268",
                    "OFF-PA-10000743",
                    "TEC-AC-10001445",
                    "OFF-ST-10002615",
                    "OFF-AP-10000326",
                    "OFF-EN-10001535"
                  ],
                  "OFF-PA-10000743"
                ],
                [
                  "87e92b81-64b1-4a53-a211-a5830e109bd2",
                  "Holi Special",
                  11.86,
                  "FUR-FU-10003268, OFF-PA-10000743, TEC-AC-10001445, OFF-ST-10002615, OFF-AP-10000326, OFF-EN-10001535",
                  10,
                  3,
                  20,
                  3,
                  [
                    "FUR-FU-10003268",
                    "OFF-PA-10000743",
                    "TEC-AC-10001445",
                    "OFF-ST-10002615",
                    "OFF-AP-10000326",
                    "OFF-EN-10001535"
                  ],
                  "TEC-AC-10001445"
                ],
                [
                  "87e92b81-64b1-4a53-a211-a5830e109bd2",
                  "Holi Special",
                  11.86,
                  "FUR-FU-10003268, OFF-PA-10000743, TEC-AC-10001445, OFF-ST-10002615, OFF-AP-10000326, OFF-EN-10001535",
                  10,
                  3,
                  20,
                  3,
                  [
                    "FUR-FU-10003268",
                    "OFF-PA-10000743",
                    "TEC-AC-10001445",
                    "OFF-ST-10002615",
                    "OFF-AP-10000326",
                    "OFF-EN-10001535"
                  ],
                  "OFF-ST-10002615"
                ],
                [
                  "87e92b81-64b1-4a53-a211-a5830e109bd2",
                  "Holi Special",
                  11.86,
                  "FUR-FU-10003268, OFF-PA-10000743, TEC-AC-10001445, OFF-ST-10002615, OFF-AP-10000326, OFF-EN-10001535",
                  10,
                  3,
                  20,
                  3,
                  [
                    "FUR-FU-10003268",
                    "OFF-PA-10000743",
                    "TEC-AC-10001445",
                    "OFF-ST-10002615",
                    "OFF-AP-10000326",
                    "OFF-EN-10001535"
                  ],
                  "OFF-AP-10000326"
                ],
                [
                  "87e92b81-64b1-4a53-a211-a5830e109bd2",
                  "Holi Special",
                  11.86,
                  "FUR-FU-10003268, OFF-PA-10000743, TEC-AC-10001445, OFF-ST-10002615, OFF-AP-10000326, OFF-EN-10001535",
                  10,
                  3,
                  20,
                  3,
                  [
                    "FUR-FU-10003268",
                    "OFF-PA-10000743",
                    "TEC-AC-10001445",
                    "OFF-ST-10002615",
                    "OFF-AP-10000326",
                    "OFF-EN-10001535"
                  ],
                  "OFF-EN-10001535"
                ],
                [
                  "25cb4323-cbf3-49c9-9fc1-642f1cc8dacb",
                  "Eid Discount",
                  16.43,
                  "OFF-BI-10004506, TEC-MA-10004552, OFF-BI-10000494, OFF-PA-10002764",
                  20,
                  5,
                  20,
                  6,
                  [
                    "OFF-BI-10004506",
                    "TEC-MA-10004552",
                    "OFF-BI-10000494",
                    "OFF-PA-10002764"
                  ],
                  "OFF-BI-10004506"
                ],
                [
                  "25cb4323-cbf3-49c9-9fc1-642f1cc8dacb",
                  "Eid Discount",
                  16.43,
                  "OFF-BI-10004506, TEC-MA-10004552, OFF-BI-10000494, OFF-PA-10002764",
                  20,
                  5,
                  20,
                  6,
                  [
                    "OFF-BI-10004506",
                    "TEC-MA-10004552",
                    "OFF-BI-10000494",
                    "OFF-PA-10002764"
                  ],
                  "TEC-MA-10004552"
                ],
                [
                  "25cb4323-cbf3-49c9-9fc1-642f1cc8dacb",
                  "Eid Discount",
                  16.43,
                  "OFF-BI-10004506, TEC-MA-10004552, OFF-BI-10000494, OFF-PA-10002764",
                  20,
                  5,
                  20,
                  6,
                  [
                    "OFF-BI-10004506",
                    "TEC-MA-10004552",
                    "OFF-BI-10000494",
                    "OFF-PA-10002764"
                  ],
                  "OFF-BI-10000494"
                ]
              ]
            },
            "text/plain": "<Spark SQL result set with 10 rows and 10 fields>"
          },
          "metadata": {}
        }
      ],
      "execution_count": 142,
      "metadata": {
        "jupyter": {
          "source_hidden": false,
          "outputs_hidden": false
        },
        "nteract": {
          "transient": {
            "deleting": false
          }
        },
        "microsoft": {
          "language": "sparksql"
        },
        "collapsed": false
      }
    },
    {
      "cell_type": "code",
      "source": [
        "%%sql \r\n",
        "-- with cte1 as (\r\n",
        "--     select product_id,sum(discounted_price) as discounted_sales\r\n",
        "--     from \r\n",
        "--     (SELECT \r\n",
        "--         t1.product_id,t1.Sales,t1.date, \r\n",
        "--         t2.*,\r\n",
        "--         t1.Sales - COALESCE(t2.discount, 0) as discounted_price\r\n",
        "--     FROM sales_after_promo t1\r\n",
        "--     LEFT JOIN promo_data t2 ON t2.exploded_element = t1.product_id\r\n",
        "--         AND MONTH(t1.date) BETWEEN t2.start_date_month AND t2.end_date_month\r\n",
        "--         AND DAY(t1.date) BETWEEN t2.start_date AND t2.end_date\r\n",
        "--     where t2.discount is not null)k \r\n",
        "--     group by product_id),\r\n",
        "--     cte2 as (\r\n",
        "\r\n",
        "--         select product_id,sum(sales) as sales_without_discount\r\n",
        "--     from \r\n",
        "--     (SELECT \r\n",
        "--         t1.product_id,t1.Sales,t1.date, \r\n",
        "--         t2.*,\r\n",
        "--         t1.Sales - COALESCE(t2.discount, 0) as discounted_price\r\n",
        "--     FROM sales_after_promo t1\r\n",
        "--     LEFT JOIN promo_data t2 ON t2.exploded_element = t1.product_id\r\n",
        "--         AND MONTH(t1.date) BETWEEN t2.start_date_month AND t2.end_date_month\r\n",
        "--         AND DAY(t1.date) BETWEEN t2.start_date AND t2.end_date\r\n",
        "--     where t2.discount is null)k \r\n",
        "--     group by product_id)\r\n",
        "    \r\n",
        "-- select cte1.product_id,cte1.discounted_sales,cte2.sales_without_discount from cte1 inner join cte2 on cte1.product_id = cte2.product_id;\r\n",
        "\r\n",
        "WITH cte AS (\r\n",
        "    SELECT \r\n",
        "        t1.product_id,\r\n",
        "        SUM(CASE WHEN t2.discount IS NOT NULL THEN t1.Sales - COALESCE(t2.discount, 0) ELSE t1.Sales END) AS discounted_sales,\r\n",
        "        SUM(CASE WHEN t2.discount IS NULL THEN t1.Sales END) AS sales_without_discount\r\n",
        "    FROM sales_after_promo t1\r\n",
        "    LEFT JOIN promo_data t2 ON t2.exploded_element = t1.product_id\r\n",
        "                            AND MONTH(t1.date) BETWEEN t2.start_date_month AND t2.end_date_month\r\n",
        "                            AND DAY(t1.date) BETWEEN t2.start_date AND t2.end_date\r\n",
        "    GROUP BY t1.product_id\r\n",
        ")\r\n",
        "\r\n",
        "SELECT \r\n",
        "    cte.product_id,\r\n",
        "    cte.discounted_sales,\r\n",
        "    cte.sales_without_discount\r\n",
        "FROM cte;\r\n",
        "\r\n",
        "\r\n",
        "\r\n",
        "    "
      ],
      "outputs": [
        {
          "output_type": "display_data",
          "data": {
            "application/vnd.livy.statement-meta+json": {
              "spark_pool": "taxprocessing",
              "session_id": "9",
              "statement_id": 62,
              "statement_ids": [
                62
              ],
              "state": "finished",
              "livy_statement_state": "available",
              "queued_time": "2024-06-16T05:57:41.4106627Z",
              "session_start_time": null,
              "execution_start_time": "2024-06-16T05:58:49.6335059Z",
              "execution_finish_time": "2024-06-16T05:58:52.5602985Z",
              "spark_jobs": null,
              "parent_msg_id": "6cd2aa76-6744-4a80-ae7b-b528ff223133"
            },
            "text/plain": "StatementMeta(taxprocessing, 9, 62, Finished, Available)"
          },
          "metadata": {}
        },
        {
          "output_type": "execute_result",
          "execution_count": 143,
          "data": {
            "application/vnd.synapse.sparksql-result+json": {
              "schema": {
                "type": "struct",
                "fields": [
                  {
                    "name": "product_id",
                    "type": "string",
                    "nullable": true,
                    "metadata": {}
                  },
                  {
                    "name": "discounted_sales",
                    "type": "double",
                    "nullable": true,
                    "metadata": {}
                  },
                  {
                    "name": "sales_without_discount",
                    "type": "double",
                    "nullable": true,
                    "metadata": {}
                  }
                ]
              },
              "data": [
                [
                  "TEC-MA-10001047",
                  117431.99615478516,
                  117431.99615478516
                ],
                [
                  "OFF-PA-10002615",
                  7654.500104904175,
                  7654.500104904175
                ],
                [
                  "OFF-EN-10002600",
                  11281.58946609497,
                  11281.58946609497
                ],
                [
                  "OFF-AR-10003504",
                  48703.20068359375,
                  48703.20068359375
                ],
                [
                  "FUR-FU-10000409",
                  1810.5600490570068,
                  1810.5600490570068
                ],
                [
                  "FUR-CH-10003833",
                  131359.83758544922,
                  131359.83758544922
                ],
                [
                  "OFF-AP-10002495",
                  376902.3908691406,
                  376902.3908691406
                ],
                [
                  "OFF-PA-10004735",
                  2998.270025253296,
                  2998.270025253296
                ],
                [
                  "FUR-CH-10000863",
                  2198.016058444977,
                  2198.016058444977
                ],
                [
                  "OFF-PA-10000575",
                  174746.60717773438,
                  174746.60717773438
                ],
                [
                  "OFF-LA-10004008",
                  9774.383605957031,
                  9774.383605957031
                ],
                [
                  "OFF-PA-10001457",
                  42946.078216552734,
                  42946.078216552734
                ],
                [
                  "FUR-TA-10004086",
                  14201.1801071167,
                  14201.1801071167
                ],
                [
                  "OFF-AR-10003876",
                  74852.1893157959,
                  74852.1893157959
                ],
                [
                  "FUR-TA-10000849",
                  6653.280303955078,
                  6653.280303955078
                ],
                [
                  "OFF-PA-10004243",
                  92419.11114501953,
                  92419.11114501953
                ],
                [
                  "OFF-PA-10001639",
                  7490.880266189575,
                  7490.880266189575
                ],
                [
                  "OFF-BI-10001636",
                  2791.8598642349243,
                  2791.8598642349243
                ],
                [
                  "OFF-ST-10003641",
                  3692.4159259796143,
                  3692.4159259796143
                ],
                [
                  "TEC-PH-10001527",
                  31300.31874847412,
                  31300.31874847412
                ],
                [
                  "TEC-PH-10000127",
                  4403.699779510498,
                  4403.699779510498
                ],
                [
                  "FUR-TA-10001705",
                  529946.0854492188,
                  529946.0854492188
                ],
                [
                  "OFF-PA-10002713",
                  13897.200462341309,
                  13897.200462341309
                ],
                [
                  "OFF-AP-10001303",
                  1726.71994638443,
                  1726.71994638443
                ],
                [
                  "OFF-BI-10001575",
                  90128.63671875,
                  90128.63671875
                ],
                [
                  "TEC-PH-10002885",
                  62374.451110839844,
                  62374.451110839844
                ],
                [
                  "OFF-AR-10004691",
                  701213.779296875,
                  701213.779296875
                ],
                [
                  "OFF-AP-10000696",
                  919.3600463867188,
                  919.3600463867188
                ],
                [
                  "OFF-FA-10002676",
                  5214.720233917236,
                  5214.720233917236
                ],
                [
                  "FUR-FU-10000076",
                  109945.14965820312,
                  109945.14965820312
                ],
                [
                  "FUR-FU-10003489",
                  1985.2800741195679,
                  1985.2800741195679
                ],
                [
                  "OFF-BI-10004099",
                  2647.6800413131714,
                  2647.6800413131714
                ],
                [
                  "TEC-PH-10000307",
                  177580.76690673828,
                  177580.76690673828
                ],
                [
                  "TEC-PH-10002564",
                  158049.00216674805,
                  158049.00216674805
                ],
                [
                  "OFF-PA-10001569",
                  2413.90811920166,
                  2413.90811920166
                ],
                [
                  "FUR-FU-10004053",
                  3824.6398582458496,
                  3824.6398582458496
                ],
                [
                  "FUR-TA-10002607",
                  22009.968475341797,
                  22009.968475341797
                ],
                [
                  "OFF-AR-10001130",
                  14152.920555114746,
                  14152.920555114746
                ],
                [
                  "FUR-FU-10001979",
                  19978.111724853516,
                  19978.111724853516
                ],
                [
                  "OFF-AP-10004532",
                  43671.09704589844,
                  43671.09704589844
                ],
                [
                  "OFF-PA-10001593",
                  100789.91607666016,
                  100789.91607666016
                ],
                [
                  "OFF-FA-10002983",
                  24330.239059448242,
                  24330.239059448242
                ],
                [
                  "OFF-PA-10000726",
                  29153.521118164062,
                  29153.521118164062
                ],
                [
                  "TEC-AC-10004901",
                  13992.999816894531,
                  13992.999816894531
                ],
                [
                  "OFF-PA-10000062",
                  1901.6400055885315,
                  1901.6400055885315
                ],
                [
                  "FUR-CH-10001270",
                  72047.08792114258,
                  72047.08792114258
                ],
                [
                  "TEC-AC-10001553",
                  3603.200143737793,
                  3571.2001419067383
                ],
                [
                  "TEC-AC-10001990",
                  7861.760101318359,
                  7861.760101318359
                ],
                [
                  "OFF-PA-10002036",
                  514590.0966796875,
                  514590.0966796875
                ],
                [
                  "OFF-BI-10001308",
                  27348.225006103516,
                  27348.225006103516
                ],
                [
                  "OFF-ST-10001713",
                  4821.120008468628,
                  4821.120008468628
                ],
                [
                  "OFF-AP-10004655",
                  316983.15313720703,
                  316983.15313720703
                ],
                [
                  "OFF-FA-10001843",
                  3410.8800830841064,
                  3410.8800830841064
                ],
                [
                  "FUR-CH-10001482",
                  9997.82373046875,
                  9997.82373046875
                ],
                [
                  "TEC-AC-10003610",
                  3255.2640132904053,
                  3255.2640132904053
                ],
                [
                  "OFF-BI-10001658",
                  32972.401275634766,
                  32972.401275634766
                ],
                [
                  "OFF-BI-10001543",
                  107892,
                  107892
                ],
                [
                  "TEC-PH-10002415",
                  33755.19958496094,
                  33755.19958496094
                ],
                [
                  "OFF-LA-10002787",
                  7157.760009765625,
                  7157.760009765625
                ],
                [
                  "OFF-ST-10002011",
                  45923.279296875,
                  45923.279296875
                ],
                [
                  "OFF-BI-10001510",
                  831.1680107116699,
                  831.1680107116699
                ],
                [
                  "FUR-FU-10003691",
                  2806.9919815063477,
                  2806.9919815063477
                ],
                [
                  "FUR-CH-10001854",
                  95390.46029663086,
                  95390.46029663086
                ],
                [
                  "FUR-CH-10000229",
                  60046.80128479004,
                  60046.80128479004
                ],
                [
                  "TEC-MA-10000418",
                  346555.2136230469,
                  346555.2136230469
                ],
                [
                  "OFF-EN-10000927",
                  5465.720203399658,
                  5465.720203399658
                ],
                [
                  "OFF-AR-10004441",
                  2517.6479892730713,
                  2517.6479892730713
                ],
                [
                  "OFF-PA-10000477",
                  245422.29089927673,
                  245422.29089927673
                ],
                [
                  "OFF-BI-10000545",
                  2390.2199172973633,
                  2390.2199172973633
                ],
                [
                  "OFF-AP-10001005",
                  3072.420051574707,
                  3072.420051574707
                ],
                [
                  "OFF-PA-10000061",
                  3867.4498376846313,
                  3867.4498376846313
                ],
                [
                  "OFF-ST-10002743",
                  2562.3361225128174,
                  2562.3361225128174
                ],
                [
                  "TEC-PH-10001819",
                  103110.21841430664,
                  103110.21841430664
                ],
                [
                  "TEC-AC-10002857",
                  527878.1733398438,
                  527878.1733398438
                ],
                [
                  "OFF-AP-10002684",
                  16433.42446899414,
                  16433.42446899414
                ],
                [
                  "OFF-AR-10003986",
                  65927.95275878906,
                  65927.95275878906
                ],
                [
                  "OFF-EN-10004459",
                  240118.58477783203,
                  240118.58477783203
                ],
                [
                  "FUR-FU-10004270",
                  21191.382051944733,
                  21191.382051944733
                ],
                [
                  "OFF-ST-10003816",
                  2804.7599029541016,
                  2804.7599029541016
                ],
                [
                  "OFF-BI-10003314",
                  30119.104370117188,
                  30119.104370117188
                ],
                [
                  "TEC-AC-10002926",
                  141954.45223999023,
                  141954.45223999023
                ],
                [
                  "FUR-FU-10001756",
                  10854.959510803223,
                  10854.959510803223
                ],
                [
                  "OFF-AP-10001271",
                  24982.859802246094,
                  24982.859802246094
                ],
                [
                  "FUR-FU-10004665",
                  23549.999267578125,
                  23549.999267578125
                ],
                [
                  "OFF-AR-10000475",
                  14796.599613189697,
                  14796.599613189697
                ],
                [
                  "TEC-CO-10001943",
                  1625.888041973114,
                  1625.888041973114
                ],
                [
                  "OFF-PA-10003228",
                  18451.008266448975,
                  18451.008266448975
                ],
                [
                  "FUR-CH-10002073",
                  36188.760162353516,
                  36188.760162353516
                ],
                [
                  "TEC-AC-10000199",
                  21248.779335021973,
                  21248.779335021973
                ],
                [
                  "OFF-BI-10003527",
                  4823.760005950928,
                  4823.760005950928
                ],
                [
                  "FUR-CH-10000553",
                  6906.240282058716,
                  6906.240282058716
                ],
                [
                  "OFF-EN-10001990",
                  1134.7840309143066,
                  1134.7840309143066
                ],
                [
                  "OFF-AR-10000411",
                  33232.44079589844,
                  33232.44079589844
                ],
                [
                  "TEC-MA-10001148",
                  280905.2976512909,
                  280905.2976512909
                ],
                [
                  "OFF-ST-10001469",
                  8216.400276184082,
                  8216.400276184082
                ],
                [
                  "TEC-MA-10003176",
                  35351.30047607422,
                  35351.30047607422
                ],
                [
                  "OFF-AP-10003099",
                  32362.499053955078,
                  32362.499053955078
                ],
                [
                  "TEC-AC-10004420",
                  126301.65203857422,
                  126301.65203857422
                ],
                [
                  "FUR-TA-10004256",
                  5102.43221282959,
                  5102.43221282959
                ],
                [
                  "OFF-LA-10001982",
                  866.4720296859741,
                  866.4720296859741
                ],
                [
                  "TEC-AC-10003399",
                  168756.79541015625,
                  168756.79541015625
                ],
                [
                  "TEC-PH-10000912",
                  7276.79993057251,
                  7276.79993057251
                ],
                [
                  "OFF-EN-10002500",
                  32799.27032470703,
                  32799.27032470703
                ],
                [
                  "OFF-AR-10004707",
                  3843.8399238586426,
                  3843.8399238586426
                ],
                [
                  "OFF-BI-10004656",
                  61841.34016418457,
                  61841.34016418457
                ],
                [
                  "OFF-AR-10001227",
                  17450.159465789795,
                  17450.159465789795
                ],
                [
                  "TEC-PH-10003691",
                  2059.290008544922,
                  2059.290008544922
                ],
                [
                  "OFF-BI-10004308",
                  1820.1600723266602,
                  1820.1600723266602
                ],
                [
                  "OFF-AR-10003759",
                  7029.72004699707,
                  7029.72004699707
                ],
                [
                  "OFF-FA-10000840",
                  29933.676429748535,
                  29933.676429748535
                ],
                [
                  "FUR-FU-10002501",
                  23202.399574279785,
                  23202.399574279785
                ],
                [
                  "OFF-AR-10003631",
                  4603.391998291016,
                  4603.391998291016
                ],
                [
                  "FUR-FU-10002813",
                  170198.92578125,
                  170198.92578125
                ],
                [
                  "OFF-AR-10001419",
                  19948.03191757202,
                  19948.03191757202
                ],
                [
                  "OFF-FA-10002975",
                  1999.7459716796875,
                  1999.7459716796875
                ],
                [
                  "OFF-AR-10004344",
                  94597.55883789062,
                  94597.55883789062
                ],
                [
                  "FUR-FU-10002396",
                  1553.013027191162,
                  1553.013027191162
                ],
                [
                  "OFF-AP-10000692",
                  20529.88080596924,
                  20529.88080596924
                ],
                [
                  "OFF-BI-10004654",
                  65242.79989242554,
                  65242.79989242554
                ],
                [
                  "TEC-PH-10001363",
                  10836,
                  10836
                ],
                [
                  "OFF-FA-10003495",
                  168990.45434570312,
                  168990.45434570312
                ],
                [
                  "OFF-BI-10001787",
                  687948.5361328125,
                  687948.5361328125
                ],
                [
                  "TEC-PH-10003437",
                  2784.8698539733887,
                  2784.8698539733887
                ],
                [
                  "FUR-TA-10004575",
                  22439.04022216797,
                  22439.04022216797
                ],
                [
                  "TEC-AC-10002567",
                  22588.01971435547,
                  22588.01971435547
                ],
                [
                  "OFF-LA-10000476",
                  129229.23040771484,
                  129229.23040771484
                ],
                [
                  "FUR-FU-10004017",
                  276299.45962524414,
                  276299.45962524414
                ],
                [
                  "FUR-TA-10001307",
                  23412.896514892578,
                  23412.896514892578
                ],
                [
                  "OFF-BI-10004224",
                  55769.84210205078,
                  55769.84210205078
                ],
                [
                  "TEC-AC-10001539",
                  17519.039264678955,
                  17519.039264678955
                ],
                [
                  "OFF-ST-10000876",
                  5886.000135421753,
                  5886.000135421753
                ],
                [
                  "OFF-AR-10002766",
                  59761.76135253906,
                  59761.76135253906
                ],
                [
                  "OFF-PA-10000955",
                  7219.007835388184,
                  7219.007835388184
                ],
                [
                  "TEC-PH-10000376",
                  36276.88918304443,
                  36276.88918304443
                ],
                [
                  "OFF-PA-10000595",
                  1278.2879438400269,
                  1278.2879438400269
                ],
                [
                  "OFF-AR-10002956",
                  6736.46388053894,
                  6736.46388053894
                ],
                [
                  "OFF-PA-10001166",
                  17705.376266479492,
                  17705.376266479492
                ],
                [
                  "OFF-PA-10003953",
                  18121.823318481445,
                  18121.823318481445
                ],
                [
                  "TEC-PH-10003655",
                  42809.39854125976,
                  40445.998626708984
                ],
                [
                  "TEC-PH-10003092",
                  5241.024021148682,
                  5241.024021148682
                ],
                [
                  "OFF-PA-10004947",
                  650871.8464355469,
                  650871.8464355469
                ],
                [
                  "OFF-BI-10001900",
                  21050.560272216797,
                  21050.560272216797
                ],
                [
                  "OFF-PA-10000697",
                  6559.140277862549,
                  6559.140277862549
                ],
                [
                  "OFF-LA-10000248",
                  36592.21919250488,
                  36592.21919250488
                ],
                [
                  "OFF-LA-10000973",
                  104031.33044433594,
                  104031.33044433594
                ],
                [
                  "TEC-AC-10003237",
                  4453.560081481934,
                  4453.560081481934
                ],
                [
                  "OFF-PA-10001583",
                  12099.456050872803,
                  12099.456050872803
                ],
                [
                  "TEC-AC-10003657",
                  22789.441062927246,
                  22789.441062927246
                ],
                [
                  "OFF-EN-10001509",
                  28465.619857788086,
                  28465.619857788086
                ],
                [
                  "OFF-FA-10004854",
                  20740.590759277344,
                  20740.590759277344
                ],
                [
                  "OFF-FA-10000735",
                  347149.1484375,
                  347149.1484375
                ],
                [
                  "OFF-PA-10000174",
                  7076.000240325928,
                  7076.000240325928
                ],
                [
                  "FUR-FU-10002111",
                  7356.929985046387,
                  7356.929985046387
                ],
                [
                  "OFF-ST-10000060",
                  35471.09976196289,
                  35471.09976196289
                ],
                [
                  "OFF-EN-10004483",
                  4974.9598026275635,
                  4974.9598026275635
                ],
                [
                  "OFF-AR-10001954",
                  20593.92015838623,
                  20593.92015838623
                ],
                [
                  "OFF-PA-10003919",
                  141101.18368530273,
                  141101.18368530273
                ],
                [
                  "OFF-ST-10000585",
                  307089.4035644531,
                  307089.4035644531
                ],
                [
                  "OFF-LA-10000305",
                  3560.544107437134,
                  3560.544107437134
                ],
                [
                  "OFF-PA-10001019",
                  11183.400249481201,
                  11183.400249481201
                ],
                [
                  "OFF-AR-10003158",
                  2145.4400186538696,
                  2145.4400186538696
                ],
                [
                  "OFF-BI-10003684",
                  7065.471990585327,
                  7065.471990585327
                ],
                [
                  "FUR-FU-10000193",
                  17617.535820007324,
                  17617.535820007324
                ],
                [
                  "OFF-AR-10001468",
                  4276.800098419189,
                  4276.800098419189
                ],
                [
                  "OFF-PA-10000232",
                  92649.95681762695,
                  92649.95681762695
                ],
                [
                  "TEC-PH-10001536",
                  4834.799766540527,
                  4834.799766540527
                ],
                [
                  "TEC-AC-10001590",
                  480438.39111328125,
                  480438.39111328125
                ],
                [
                  "TEC-AC-10002942",
                  31790.069854736328,
                  31790.069854736328
                ],
                [
                  "OFF-BI-10002432",
                  2927.23198223114,
                  2927.23198223114
                ],
                [
                  "OFF-AP-10000938",
                  192316.0264892578,
                  192316.0264892578
                ],
                [
                  "OFF-AP-10004540",
                  12289.200227737427,
                  12289.200227737427
                ],
                [
                  "TEC-PH-10001061",
                  84035.63717651367,
                  84035.63717651367
                ],
                [
                  "OFF-BI-10001249",
                  229700.28662109375,
                  229700.28662109375
                ],
                [
                  "FUR-FU-10000222",
                  1584.8960609436035,
                  1584.8960609436035
                ],
                [
                  "FUR-FU-10002918",
                  5258.879951477051,
                  5258.879951477051
                ],
                [
                  "OFF-AR-10003514",
                  13746.239479064941,
                  13746.239479064941
                ],
                [
                  "FUR-FU-10000010",
                  1627.7760047912598,
                  1627.7760047912598
                ],
                [
                  "FUR-CH-10001190",
                  17157.41986846924,
                  17157.41986846924
                ],
                [
                  "OFF-ST-10002957",
                  41600.6491394043,
                  41600.6491394043
                ],
                [
                  "OFF-EN-10004846",
                  213828.12646484375,
                  213828.12646484375
                ],
                [
                  "OFF-PA-10002749",
                  61326.46560668945,
                  61326.46560668945
                ],
                [
                  "TEC-MA-10000029",
                  2384.5599513053894,
                  2384.5599513053894
                ],
                [
                  "TEC-AC-10003289",
                  193232.1607055664,
                  193232.1607055664
                ],
                [
                  "OFF-PA-10001712",
                  4471.200097084045,
                  4471.200097084045
                ],
                [
                  "OFF-PA-10003892",
                  1700.3520679473877,
                  1700.3520679473877
                ],
                [
                  "OFF-BI-10001153",
                  31822.129028320312,
                  31822.129028320312
                ],
                [
                  "OFF-BI-10000174",
                  2143.424056529999,
                  2143.424056529999
                ],
                [
                  "FUR-CH-10001802",
                  12449.471740722656,
                  12449.471740722656
                ],
                [
                  "TEC-AC-10002331",
                  116690.58065795898,
                  116690.58065795898
                ],
                [
                  "TEC-PH-10003505",
                  3777.1198387145996,
                  3777.1198387145996
                ],
                [
                  "OFF-SU-10002537",
                  1360,
                  1360
                ],
                [
                  "OFF-EN-10003296",
                  4793.4720067977905,
                  4793.4720067977905
                ],
                [
                  "OFF-PA-10002751",
                  20367.36045074463,
                  20367.36045074463
                ],
                [
                  "OFF-BI-10001267",
                  41292.25,
                  41292.25
                ],
                [
                  "OFF-ST-10000642",
                  7695.600173950195,
                  7695.600173950195
                ],
                [
                  "OFF-LA-10003498",
                  30990.528244018555,
                  30990.528244018555
                ],
                [
                  "OFF-PA-10003001",
                  9746.519596099854,
                  9746.519596099854
                ],
                [
                  "FUR-BO-10002268",
                  25895.50507659912,
                  25299.265045166016
                ],
                [
                  "OFF-BI-10001757",
                  17214.76788330078,
                  17214.76788330078
                ],
                [
                  "OFF-AP-10001242",
                  22447.854873657227,
                  22447.854873657227
                ],
                [
                  "OFF-PA-10000587",
                  6156.699817657471,
                  6156.699817657471
                ],
                [
                  "FUR-FU-10001731",
                  1109.9519636631012,
                  1109.9519636631012
                ],
                [
                  "OFF-ST-10004804",
                  331986.7331542969,
                  331986.7331542969
                ],
                [
                  "OFF-AP-10000326",
                  40580.32901367187,
                  38468.16098022461
                ],
                [
                  "OFF-AR-10001953",
                  107592.30233764648,
                  107592.30233764648
                ],
                [
                  "TEC-MA-10004212",
                  28329.120162963867,
                  28329.120162963867
                ],
                [
                  "OFF-LA-10003766",
                  21008.3994140625,
                  21008.3994140625
                ],
                [
                  "OFF-PA-10002222",
                  8738.399864196777,
                  8738.399864196777
                ],
                [
                  "TEC-PH-10000730",
                  26049.661254882812,
                  26049.661254882812
                ],
                [
                  "TEC-PH-10000675",
                  193386.14135742188,
                  193386.14135742188
                ],
                [
                  "OFF-AR-10001547",
                  4661.279905319214,
                  4661.279905319214
                ],
                [
                  "OFF-AP-10000891",
                  19056.659259796143,
                  19056.659259796143
                ],
                [
                  "FUR-CH-10004063",
                  91661.30407714844,
                  91661.30407714844
                ],
                [
                  "OFF-FA-10003059",
                  98835.39834594727,
                  98835.39834594727
                ],
                [
                  "OFF-LA-10004055",
                  7693.419834136963,
                  7693.419834136963
                ],
                [
                  "TEC-PH-10003580",
                  6523.949813842773,
                  6523.949813842773
                ],
                [
                  "OFF-BI-10003007",
                  64098.621826171875,
                  64098.621826171875
                ],
                [
                  "OFF-PA-10000300",
                  9201.920267105103,
                  9201.920267105103
                ],
                [
                  "OFF-ST-10000615",
                  214394.06030273438,
                  214394.06030273438
                ],
                [
                  "OFF-PA-10000143",
                  6587.840316772461,
                  6587.840316772461
                ],
                [
                  "TEC-AC-10003033",
                  1187.7840418815613,
                  1187.7840418815613
                ],
                [
                  "FUR-CH-10001545",
                  15199.519393920898,
                  15199.519393920898
                ],
                [
                  "OFF-PA-10001837",
                  106263.36022949219,
                  106263.36022949219
                ],
                [
                  "OFF-AP-10002287",
                  420723.0891113281,
                  420723.0891113281
                ],
                [
                  "OFF-ST-10002289",
                  1214.4000024795532,
                  1214.4000024795532
                ],
                [
                  "OFF-PA-10004438",
                  43379.545265197754,
                  43379.545265197754
                ],
                [
                  "OFF-ST-10002352",
                  24619.83967590332,
                  24619.83967590332
                ],
                [
                  "OFF-PA-10001977",
                  5279.600061416626,
                  5279.600061416626
                ],
                [
                  "OFF-ST-10000344",
                  1524.559928894043,
                  1524.559928894043
                ],
                [
                  "OFF-BI-10004094",
                  10054.79965209961,
                  10054.79965209961
                ],
                [
                  "OFF-AR-10003856",
                  3193.3440828323364,
                  3193.3440828323364
                ],
                [
                  "OFF-ST-10000991",
                  3617.880111694336,
                  3617.880111694336
                ],
                [
                  "TEC-AC-10004803",
                  368335.5,
                  368335.5
                ],
                [
                  "OFF-AR-10003829",
                  202915.59106445312,
                  202915.59106445312
                ],
                [
                  "OFF-AP-10003622",
                  65095.65740966797,
                  65095.65740966797
                ],
                [
                  "OFF-BI-10001634",
                  32746.465133666992,
                  32746.465133666992
                ],
                [
                  "OFF-AR-10002135",
                  8683.200214385986,
                  8683.200214385986
                ],
                [
                  "OFF-PA-10000350",
                  17571.960399627686,
                  17571.960399627686
                ],
                [
                  "OFF-ST-10001590",
                  127054.63543701172,
                  127054.63543701172
                ],
                [
                  "OFF-PA-10000249",
                  14685.440814971924,
                  14685.440814971924
                ],
                [
                  "TEC-AC-10000358",
                  8746.980167388916,
                  8746.980167388916
                ],
                [
                  "OFF-PA-10004040",
                  5108.928131103516,
                  5108.928131103516
                ],
                [
                  "OFF-LA-10001613",
                  1017.8999900817871,
                  1017.8999900817871
                ],
                [
                  "OFF-BI-10002133",
                  2231.039978504181,
                  2231.039978504181
                ],
                [
                  "FUR-TA-10003238",
                  4186.719985961914,
                  4186.719985961914
                ],
                [
                  "TEC-PH-10002680",
                  70170.19018554688,
                  70170.19018554688
                ],
                [
                  "OFF-AP-10003040",
                  2355.2640705108643,
                  2355.2640705108643
                ],
                [
                  "OFF-PA-10001281",
                  54867.840240478516,
                  54867.840240478516
                ],
                [
                  "FUR-FU-10003975",
                  68179.2015991211,
                  68179.2015991211
                ],
                [
                  "TEC-AC-10003133",
                  3663.920196533203,
                  3663.920196533203
                ],
                [
                  "OFF-AP-10000358",
                  6232.800115585327,
                  6232.800115585327
                ],
                [
                  "OFF-PA-10003039",
                  74933.76171875,
                  74933.76171875
                ],
                [
                  "OFF-BI-10004965",
                  2664,
                  2664
                ],
                [
                  "TEC-PH-10003555",
                  2947.2240896224976,
                  2947.2240896224976
                ],
                [
                  "OFF-BI-10002071",
                  16238.88021850586,
                  16238.88021850586
                ],
                [
                  "OFF-PA-10004041",
                  10349.639656066895,
                  10349.639656066895
                ],
                [
                  "OFF-AR-10003045",
                  325464.189453125,
                  325464.189453125
                ],
                [
                  "OFF-ST-10000736",
                  7829.540107727051,
                  7829.540107727051
                ],
                [
                  "OFF-BI-10003364",
                  62611.343994140625,
                  62611.343994140625
                ],
                [
                  "FUR-CH-10002758",
                  3232.1760025024414,
                  3232.1760025024414
                ],
                [
                  "FUR-BO-10002916",
                  4132.800081253052,
                  4132.800081253052
                ],
                [
                  "OFF-ST-10000563",
                  3591.280113220215,
                  3591.280113220215
                ],
                [
                  "FUR-TA-10004915",
                  5238.480155944824,
                  5238.480155944824
                ],
                [
                  "FUR-TA-10002622",
                  10389.96004486084,
                  10389.96004486084
                ],
                [
                  "OFF-LA-10000240",
                  6450.480228424072,
                  6450.480228424072
                ],
                [
                  "TEC-AC-10004510",
                  4303.199899673462,
                  4303.199899673462
                ],
                [
                  "OFF-BI-10002827",
                  2640.6699957847595,
                  2640.6699957847595
                ],
                [
                  "OFF-BI-10004465",
                  5951.231966018677,
                  5951.231966018677
                ],
                [
                  "OFF-LA-10001641",
                  4920.319923400879,
                  4920.319923400879
                ],
                [
                  "OFF-PA-10004082",
                  4489.599988937378,
                  4489.599988937378
                ],
                [
                  "FUR-TA-10001771",
                  29407.24722290039,
                  29407.24722290039
                ],
                [
                  "OFF-AR-10000716",
                  6885.179775238037,
                  6885.179775238037
                ],
                [
                  "TEC-AC-10000474",
                  3479.1201171875,
                  3479.1201171875
                ],
                [
                  "TEC-PH-10002923",
                  22344.359672546387,
                  22344.359672546387
                ],
                [
                  "OFF-ST-10000464",
                  13063.680351257324,
                  13063.680351257324
                ],
                [
                  "FUR-CH-10002044",
                  9750,
                  9750
                ],
                [
                  "TEC-PH-10000193",
                  18085.540368652342,
                  17871.06036376953
                ],
                [
                  "OFF-AP-10001205",
                  174160.3171081543,
                  174160.3171081543
                ],
                [
                  "OFF-PA-10002552",
                  39112.17518615723,
                  39112.17518615723
                ],
                [
                  "OFF-PA-10001526",
                  2133.0000224113464,
                  2133.0000224113464
                ],
                [
                  "OFF-AR-10002671",
                  2192.959945678711,
                  2192.959945678711
                ],
                [
                  "TEC-AC-10001284",
                  30496.94930267334,
                  30496.94930267334
                ],
                [
                  "OFF-EN-10003068",
                  44543.810546875,
                  44543.810546875
                ],
                [
                  "OFF-LA-10004545",
                  12056.06372833252,
                  12056.06372833252
                ],
                [
                  "OFF-BI-10004876",
                  174618.0834350586,
                  174618.0834350586
                ],
                [
                  "OFF-PA-10000740",
                  4018.919967651367,
                  4018.919967651367
                ],
                [
                  "OFF-BI-10001097",
                  16389.504135131836,
                  16389.504135131836
                ],
                [
                  "OFF-BI-10000301",
                  26261.19952392578,
                  26261.19952392578
                ],
                [
                  "FUR-CH-10003761",
                  1866.3919405937195,
                  1866.3919405937195
                ],
                [
                  "OFF-BI-10000285",
                  4943.872152328491,
                  4943.872152328491
                ],
                [
                  "OFF-EN-10003160",
                  2847.0399627685547,
                  2847.0399627685547
                ],
                [
                  "OFF-PA-10004022",
                  11736.672115325928,
                  11736.672115325928
                ],
                [
                  "OFF-AP-10003266",
                  102577.560546875,
                  102577.560546875
                ],
                [
                  "TEC-PH-10000038",
                  12004.199798583984,
                  12004.199798583984
                ],
                [
                  "TEC-PH-10002033",
                  90569.79797363281,
                  90569.79797363281
                ],
                [
                  "OFF-AR-10002335",
                  130250.04299926758,
                  130250.04299926758
                ],
                [
                  "OFF-BI-10000546",
                  6323.199848175049,
                  6323.199848175049
                ],
                [
                  "OFF-BI-10001031",
                  42583.55969238281,
                  42583.55969238281
                ],
                [
                  "OFF-PA-10001685",
                  12577.950408935547,
                  12577.950408935547
                ],
                [
                  "OFF-AR-10000914",
                  790.3999814987183,
                  790.3999814987183
                ],
                [
                  "FUR-FU-10001876",
                  1797.580065727234,
                  1797.580065727234
                ],
                [
                  "FUR-CH-10003061",
                  29238.360343933105,
                  29238.360343933105
                ],
                [
                  "OFF-LA-10003190",
                  88694.13989257812,
                  88694.13989257812
                ],
                [
                  "OFF-AR-10000634",
                  3506.752076148987,
                  3506.752076148987
                ],
                [
                  "FUR-CH-10000785",
                  8192.099870681763,
                  8192.099870681763
                ],
                [
                  "OFF-PA-10003591",
                  75998.88005065918,
                  75998.88005065918
                ],
                [
                  "OFF-AR-10003217",
                  66007.19891357422,
                  66007.19891357422
                ],
                [
                  "FUR-FU-10001852",
                  202554.93453979492,
                  202554.93453979492
                ],
                [
                  "OFF-AR-10003560",
                  16957.55938720703,
                  16957.55938720703
                ],
                [
                  "OFF-AR-10000823",
                  2119.0399990081787,
                  2119.0399990081787
                ],
                [
                  "TEC-PH-10001198",
                  223001.93408203125,
                  223001.93408203125
                ],
                [
                  "OFF-BI-10003166",
                  2496.9601068496704,
                  2496.9601068496704
                ],
                [
                  "OFF-ST-10001325",
                  5715.53995513916,
                  5715.53995513916
                ],
                [
                  "OFF-AP-10000275",
                  144170.3829345703,
                  144170.3829345703
                ],
                [
                  "OFF-PA-10002262",
                  82387.79803466797,
                  82387.79803466797
                ],
                [
                  "FUR-FU-10002456",
                  10151.640056610107,
                  10151.640056610107
                ],
                [
                  "OFF-AR-10002280",
                  11243.663818359375,
                  11243.663818359375
                ],
                [
                  "OFF-AR-10001374",
                  11852.400207519531,
                  11852.400207519531
                ],
                [
                  "OFF-AP-10002118",
                  30169.800453186035,
                  30169.800453186035
                ],
                [
                  "FUR-FU-10004006",
                  127116,
                  127116
                ],
                [
                  "OFF-PA-10003543",
                  608831.5346679688,
                  608831.5346679688
                ],
                [
                  "FUR-FU-10001867",
                  93784.525390625,
                  93784.525390625
                ],
                [
                  "FUR-BO-10002853",
                  679.8000166416168,
                  679.8000166416168
                ],
                [
                  "TEC-MA-10002178",
                  37019.679847717285,
                  37019.679847717285
                ],
                [
                  "OFF-BI-10000343",
                  1114.5600247383118,
                  1114.5600247383118
                ],
                [
                  "TEC-PH-10002549",
                  24012.00064086914,
                  24012.00064086914
                ],
                [
                  "OFF-LA-10003663",
                  13880.63994216919,
                  13880.63994216919
                ],
                [
                  "TEC-MA-10002428",
                  25541.903930664062,
                  25541.903930664062
                ],
                [
                  "OFF-AR-10001166",
                  9669.60033416748,
                  9669.60033416748
                ],
                [
                  "TEC-AC-10004859",
                  72458.39825439453,
                  72458.39825439453
                ],
                [
                  "OFF-BI-10002194",
                  9726.079565048218,
                  9726.079565048218
                ],
                [
                  "FUR-CH-10003535",
                  2620.7999000549316,
                  2620.7999000549316
                ],
                [
                  "FUR-FU-10004845",
                  920.4479827880859,
                  920.4479827880859
                ],
                [
                  "TEC-PH-10003171",
                  1056.5280063152313,
                  1056.5280063152313
                ],
                [
                  "OFF-SU-10003936",
                  40747.438735961914,
                  40747.438735961914
                ],
                [
                  "OFF-PA-10002606",
                  18882.36046218872,
                  18882.36046218872
                ],
                [
                  "OFF-BI-10003784",
                  2273.3600792884827,
                  2273.3600792884827
                ],
                [
                  "TEC-MA-10002927",
                  354506.6943359375,
                  354506.6943359375
                ],
                [
                  "FUR-CH-10003298",
                  310537.5833129883,
                  310537.5833129883
                ],
                [
                  "OFF-ST-10002974",
                  53218.17594909668,
                  53218.17594909668
                ],
                [
                  "FUR-TA-10001889",
                  4818.239990234375,
                  4818.239990234375
                ],
                [
                  "FUR-TA-10000577",
                  5552.560062408447,
                  5552.560062408447
                ],
                [
                  "OFF-PA-10003127",
                  42655.48010253906,
                  42655.48010253906
                ],
                [
                  "TEC-PH-10003174",
                  423591.5124511719,
                  423591.5124511719
                ],
                [
                  "FUR-FU-10001095",
                  52829.730407714844,
                  52829.730407714844
                ],
                [
                  "OFF-LA-10003121",
                  4367987.43359375,
                  4367987.43359375
                ],
                [
                  "OFF-ST-10003306",
                  3234.5601091384888,
                  3234.5601091384888
                ],
                [
                  "OFF-PA-10000552",
                  230827.62841796875,
                  230827.62841796875
                ],
                [
                  "FUR-CH-10002372",
                  28483.937072753906,
                  28483.937072753906
                ],
                [
                  "FUR-FU-10001057",
                  211852.29931640625,
                  211852.29931640625
                ],
                [
                  "OFF-SU-10000157",
                  17377.359634399414,
                  17377.359634399414
                ],
                [
                  "OFF-EN-10001219",
                  4251,
                  4251
                ],
                [
                  "OFF-BI-10004364",
                  4745.02396774292,
                  4745.02396774292
                ],
                [
                  "OFF-ST-10001291",
                  3106.56005859375,
                  3106.56005859375
                ],
                [
                  "TEC-AC-10001013",
                  14587.272064208984,
                  14587.272064208984
                ],
                [
                  "FUR-FU-10000448",
                  153186.12078857422,
                  153186.12078857422
                ],
                [
                  "TEC-AC-10003038",
                  4003.104049682617,
                  4003.104049682617
                ],
                [
                  "FUR-CH-10000749",
                  4744.380007743835,
                  4744.380007743835
                ],
                [
                  "OFF-AR-10003958",
                  15494.880043029785,
                  15494.880043029785
                ],
                [
                  "OFF-FA-10001883",
                  2212.6000022888184,
                  2212.6000022888184
                ],
                [
                  "OFF-AP-10001293",
                  13723.424285888672,
                  13723.424285888672
                ],
                [
                  "OFF-BI-10002353",
                  10487.231479644775,
                  10487.231479644775
                ],
                [
                  "FUR-CH-10004289",
                  7024.679878234863,
                  7024.679878234863
                ],
                [
                  "OFF-AP-10002998",
                  47534.14904785156,
                  47534.14904785156
                ],
                [
                  "OFF-BI-10002393",
                  76795.19686889648,
                  76795.19686889648
                ],
                [
                  "TEC-PH-10001615",
                  44690.69903564453,
                  44690.69903564453
                ],
                [
                  "TEC-PH-10002817",
                  71204.90283203125,
                  71204.90283203125
                ],
                [
                  "OFF-PA-10000141",
                  6034.3197593688965,
                  6034.3197593688965
                ],
                [
                  "FUR-BO-10003404",
                  3904.319999694824,
                  3904.319999694824
                ],
                [
                  "TEC-PH-10001870",
                  6704.800235748291,
                  6704.800235748291
                ],
                [
                  "FUR-CH-10004626",
                  15172.41590499878,
                  15172.41590499878
                ],
                [
                  "OFF-AR-10001683",
                  9099.199729919434,
                  9099.199729919434
                ],
                [
                  "OFF-BI-10003638",
                  17337.959197998047,
                  17337.959197998047
                ],
                [
                  "FUR-FU-10002505",
                  5204.736015319824,
                  5204.736015319824
                ],
                [
                  "OFF-AP-10002867",
                  6603.52007484436,
                  6603.52007484436
                ],
                [
                  "OFF-SU-10000646",
                  3830.3998794555664,
                  3830.3998794555664
                ],
                [
                  "OFF-BI-10002794",
                  5968.08016204834,
                  5968.08016204834
                ],
                [
                  "OFF-BI-10003656",
                  15008.399806976318,
                  15008.399806976318
                ],
                [
                  "TEC-AC-10002380",
                  591222.4689941406,
                  591222.4689941406
                ],
                [
                  "OFF-BI-10003091",
                  6481.823833465576,
                  6481.823833465576
                ],
                [
                  "OFF-ST-10004835",
                  121634.08380126953,
                  121634.08380126953
                ],
                [
                  "OFF-AR-10002053",
                  4677.840198516846,
                  4677.840198516846
                ],
                [
                  "OFF-PA-10001461",
                  57968.747161865234,
                  57968.747161865234
                ],
                [
                  "OFF-BI-10000404",
                  17513.983974456787,
                  17513.983974456787
                ],
                [
                  "OFF-EN-10003798",
                  15785.47216796875,
                  15785.47216796875
                ],
                [
                  "OFF-SU-10004768",
                  34254.40055847168,
                  34254.40055847168
                ],
                [
                  "OFF-PA-10000100",
                  498526.72314453125,
                  498526.72314453125
                ],
                [
                  "OFF-PA-10001471",
                  55976.958572387695,
                  55976.958572387695
                ],
                [
                  "OFF-PA-10002245",
                  7333.392141342163,
                  7333.392141342163
                ],
                [
                  "FUR-FU-10001546",
                  188051.68243408203,
                  188051.68243408203
                ],
                [
                  "FUR-FU-10001602",
                  5171.040134429932,
                  5171.040134429932
                ],
                [
                  "OFF-BI-10002414",
                  2813.579902648926,
                  2813.579902648926
                ],
                [
                  "FUR-BO-10003546",
                  12684.671630859375,
                  12684.671630859375
                ],
                [
                  "OFF-EN-10000056",
                  2422.1998901367188,
                  2422.1998901367188
                ],
                [
                  "OFF-BI-10001670",
                  178194.05419921875,
                  178194.05419921875
                ],
                [
                  "OFF-SU-10004884",
                  17678.19974899292,
                  17678.19974899292
                ],
                [
                  "OFF-PA-10000809",
                  1631.1679935455322,
                  1631.1679935455322
                ],
                [
                  "OFF-AR-10004587",
                  15358.319442749023,
                  15358.319442749023
                ],
                [
                  "OFF-PA-10000167",
                  363379.74743652344,
                  363379.74743652344
                ],
                [
                  "OFF-EN-10004773",
                  34751.808937072754,
                  34751.808937072754
                ],
                [
                  "OFF-ST-10003994",
                  8957.952030181885,
                  8957.952030181885
                ],
                [
                  "OFF-BI-10004528",
                  5171.040155410767,
                  5171.040155410767
                ],
                [
                  "OFF-ST-10002301",
                  329869.0891723633,
                  329869.0891723633
                ],
                [
                  "OFF-BI-10002609",
                  189959.6231689453,
                  189959.6231689453
                ],
                [
                  "OFF-PA-10000157",
                  12073.24740600586,
                  12073.24740600586
                ],
                [
                  "OFF-FA-10000490",
                  58074.0166015625,
                  58074.0166015625
                ],
                [
                  "OFF-AR-10004582",
                  11900.032287597656,
                  11900.032287597656
                ],
                [
                  "OFF-AR-10000657",
                  2532.599980354309,
                  2532.599980354309
                ],
                [
                  "TEC-PH-10000141",
                  23643.935089111328,
                  23643.935089111328
                ],
                [
                  "OFF-BI-10002764",
                  15150.240203857422,
                  15150.240203857422
                ],
                [
                  "OFF-AR-10004456",
                  7859.1998462677,
                  7859.1998462677
                ],
                [
                  "OFF-EN-10003072",
                  74220.30085754395,
                  74220.30085754395
                ],
                [
                  "FUR-BO-10002613",
                  3884.6078815460205,
                  3884.6078815460205
                ],
                [
                  "OFF-BI-10001765",
                  19415.04065322876,
                  19415.04065322876
                ],
                [
                  "OFF-PA-10004621",
                  105688.79748535156,
                  105688.79748535156
                ],
                [
                  "FUR-FU-10003347",
                  9216.899784088135,
                  9216.899784088135
                ],
                [
                  "OFF-PA-10001776",
                  927200,
                  927200
                ],
                [
                  "OFF-PA-10002246",
                  217722.81567382812,
                  217722.81567382812
                ],
                [
                  "FUR-TA-10002356",
                  186255.36138916016,
                  186255.36138916016
                ],
                [
                  "FUR-FU-10004306",
                  25077.120323181152,
                  25077.120323181152
                ],
                [
                  "TEC-AC-10004001",
                  309627.51892089844,
                  309627.51892089844
                ],
                [
                  "OFF-BI-10001890",
                  131643.39630126953,
                  131643.39630126953
                ],
                [
                  "OFF-AP-10004136",
                  1286.8319900035858,
                  1286.8319900035858
                ],
                [
                  "TEC-MA-10000822",
                  187473.12475585938,
                  187473.12475585938
                ],
                [
                  "TEC-AC-10003027",
                  211663.2017211914,
                  211663.2017211914
                ],
                [
                  "OFF-SU-10001225",
                  324743.994140625,
                  324743.994140625
                ],
                [
                  "FUR-BO-10004834",
                  208119.9969482422,
                  208119.9969482422
                ],
                [
                  "OFF-BI-10004390",
                  2821.739992618561,
                  2821.739992618561
                ],
                [
                  "FUR-FU-10002298",
                  530989.369140625,
                  530989.369140625
                ],
                [
                  "OFF-AR-10003602",
                  37486.07897949219,
                  37486.07897949219
                ],
                [
                  "TEC-AC-10004595",
                  48256.322204589844,
                  48256.322204589844
                ],
                [
                  "OFF-PA-10002195",
                  88511.44481811524,
                  87506.28475952148
                ],
                [
                  "OFF-ST-10001558",
                  240110.1275024414,
                  240110.1275024414
                ],
                [
                  "FUR-CH-10002439",
                  219074.51977539062,
                  219074.51977539062
                ],
                [
                  "TEC-MA-10002981",
                  448.2239875793457,
                  448.2239875793457
                ],
                [
                  "OFF-ST-10002562",
                  928.9279794692993,
                  928.9279794692993
                ],
                [
                  "FUR-CH-10000225",
                  32277.95969390869,
                  32277.95969390869
                ],
                [
                  "OFF-ST-10000798",
                  95571.00067138672,
                  95571.00067138672
                ],
                [
                  "FUR-CH-10003956",
                  30485.400848388672,
                  30485.400848388672
                ],
                [
                  "TEC-PH-10001494",
                  54728.76171875,
                  54728.76171875
                ],
                [
                  "FUR-CH-10001714",
                  1544.4159603118896,
                  1544.4159603118896
                ],
                [
                  "OFF-BI-10003984",
                  86831.03674316406,
                  86831.03674316406
                ],
                [
                  "OFF-PA-10002741",
                  11471.600341796875,
                  11471.600341796875
                ],
                [
                  "OFF-AR-10001149",
                  15311.099997997284,
                  15311.099997997284
                ],
                [
                  "OFF-BI-10003925",
                  50491.440673828125,
                  50491.440673828125
                ],
                [
                  "OFF-PA-10000312",
                  19747.201049804688,
                  19747.201049804688
                ],
                [
                  "FUR-BO-10001811",
                  18613.440299987793,
                  18613.440299987793
                ],
                [
                  "OFF-BI-10004826",
                  2228.6720657348633,
                  2228.6720657348633
                ],
                [
                  "OFF-AR-10003651",
                  30040.48745727539,
                  30040.48745727539
                ],
                [
                  "TEC-MA-10002790",
                  23730.480918884277,
                  23730.480918884277
                ],
                [
                  "FUR-BO-10002213",
                  150848.73291015625,
                  150848.73291015625
                ],
                [
                  "OFF-AP-10003287",
                  359782.0235595703,
                  359782.0235595703
                ],
                [
                  "OFF-AR-10002221",
                  3905.2801551818848,
                  3905.2801551818848
                ],
                [
                  "TEC-PH-10003811",
                  45347.83981323242,
                  45347.83981323242
                ],
                [
                  "FUR-FU-10002553",
                  18289.91973876953,
                  18289.91973876953
                ],
                [
                  "FUR-CH-10004860",
                  30581.640197753906,
                  30581.640197753906
                ],
                [
                  "OFF-LA-10004425",
                  4066.3039779663086,
                  4066.3039779663086
                ],
                [
                  "TEC-MA-10001681",
                  8263.600219726562,
                  8263.600219726562
                ],
                [
                  "OFF-BI-10001098",
                  624498.6694335938,
                  624498.6694335938
                ],
                [
                  "OFF-AR-10002067",
                  15998.18960571289,
                  15998.18960571289
                ],
                [
                  "TEC-CO-10003763",
                  81674.69073486328,
                  81674.69073486328
                ],
                [
                  "TEC-AC-10000057",
                  600508.982421875,
                  600508.982421875
                ],
                [
                  "OFF-ST-10004634",
                  203716.3048095703,
                  203716.3048095703
                ],
                [
                  "TEC-MA-10004241",
                  4532.199964523315,
                  4532.199964523315
                ],
                [
                  "OFF-ST-10000760",
                  18957.0005569458,
                  18957.0005569458
                ],
                [
                  "OFF-BI-10001597",
                  706937.9799804688,
                  706937.9799804688
                ],
                [
                  "OFF-AR-10003087",
                  12137.930473327637,
                  12137.930473327637
                ],
                [
                  "OFF-FA-10001332",
                  6925.824020385742,
                  6925.824020385742
                ],
                [
                  "FUR-CH-10000665",
                  39940.44627380371,
                  39940.44627380371
                ],
                [
                  "OFF-AR-10002255",
                  895987.1875,
                  895987.1875
                ],
                [
                  "OFF-FA-10000624",
                  3581.760000228882,
                  3581.760000228882
                ],
                [
                  "OFF-BI-10002571",
                  50674.38067626953,
                  50674.38067626953
                ],
                [
                  "OFF-AP-10003779",
                  13318.199615478516,
                  13318.199615478516
                ],
                [
                  "FUR-FU-10001037",
                  51971.9970703125,
                  51971.9970703125
                ],
                [
                  "OFF-EN-10002592",
                  13205.280448913574,
                  13205.280448913574
                ],
                [
                  "FUR-FU-10002671",
                  931.5199956893921,
                  931.5199956893921
                ],
                [
                  "TEC-AC-10004708",
                  6407.999761581421,
                  6407.999761581421
                ],
                [
                  "OFF-LA-10000452",
                  13971.74388885498,
                  13971.74388885498
                ],
                [
                  "FUR-FU-10001488",
                  3326.4000635147095,
                  3326.4000635147095
                ],
                [
                  "OFF-LA-10002762",
                  638.4479827880859,
                  638.4479827880859
                ],
                [
                  "TEC-MA-10003673",
                  74430.72033691406,
                  74430.72033691406
                ],
                [
                  "TEC-MA-10003066",
                  2739.2001371383667,
                  2739.2001371383667
                ],
                [
                  "OFF-ST-10001172",
                  12736.919651031494,
                  12736.919651031494
                ],
                [
                  "FUR-TA-10001691",
                  42641.2006149292,
                  42641.2006149292
                ],
                [
                  "TEC-PH-10001700",
                  14715.232444763184,
                  14715.232444763184
                ],
                [
                  "FUR-FU-10002191",
                  267047.23553466797,
                  267047.23553466797
                ],
                [
                  "TEC-PH-10003988",
                  24371.80743408203,
                  24371.80743408203
                ],
                [
                  "FUR-FU-10002107",
                  4707.639954566956,
                  4707.639954566956
                ],
                [
                  "OFF-AR-10004260",
                  43755.00119018555,
                  43755.00119018555
                ],
                [
                  "OFF-SU-10000432",
                  456148.6337890625,
                  456148.6337890625
                ],
                [
                  "OFF-PA-10004983",
                  5722.860179901123,
                  5722.860179901123
                ],
                [
                  "OFF-EN-10001749",
                  1620.8639640808105,
                  1620.8639640808105
                ],
                [
                  "TEC-AC-10001542",
                  7205.76015663147,
                  7205.76015663147
                ],
                [
                  "OFF-PA-10001560",
                  124472.37994384766,
                  124472.37994384766
                ],
                [
                  "FUR-FU-10002937",
                  148277.30517578125,
                  148277.30517578125
                ],
                [
                  "OFF-BI-10004141",
                  5451.2640380859375,
                  5451.2640380859375
                ],
                [
                  "TEC-PH-10002645",
                  23472,
                  23472
                ],
                [
                  "OFF-LA-10003223",
                  19042.113925933838,
                  19042.113925933838
                ],
                [
                  "OFF-BI-10003718",
                  88316.03253173828,
                  88316.03253173828
                ],
                [
                  "FUR-TA-10003008",
                  4342.320022583008,
                  4342.320022583008
                ],
                [
                  "OFF-SU-10000381",
                  82842.5394897461,
                  82842.5394897461
                ],
                [
                  "OFF-SU-10001664",
                  1496.8800020217896,
                  1496.8800020217896
                ],
                [
                  "TEC-PH-10002275",
                  10061.5199508667,
                  10061.5199508667
                ],
                [
                  "OFF-ST-10003123",
                  127924.24975585938,
                  127924.24975585938
                ],
                [
                  "OFF-LA-10004409",
                  3564.539916038513,
                  3564.539916038513
                ],
                [
                  "OFF-AR-10004930",
                  116688.0044555664,
                  116688.0044555664
                ],
                [
                  "OFF-PA-10003309",
                  2996.223886489868,
                  2996.223886489868
                ],
                [
                  "OFF-AR-10002375",
                  127357.02053833008,
                  127357.02053833008
                ],
                [
                  "OFF-PA-10002709",
                  14449.536033630371,
                  14449.536033630371
                ],
                [
                  "OFF-PA-10000743",
                  122442.54118530273,
                  118789.02111816406
                ],
                [
                  "OFF-LA-10002368",
                  11401.391868591309,
                  11401.391868591309
                ],
                [
                  "FUR-BO-10002545",
                  24444.599487304688,
                  24444.599487304688
                ],
                [
                  "FUR-FU-10002088",
                  21809.919677734375,
                  21809.919677734375
                ],
                [
                  "TEC-AC-10004877",
                  13269.279878234864,
                  13194.71987915039
                ],
                [
                  "TEC-AC-10004145",
                  1073.3400011062622,
                  1073.3400011062622
                ],
                [
                  "OFF-BI-10001989",
                  169996.5966796875,
                  169996.5966796875
                ],
                [
                  "TEC-AC-10001908",
                  339180.9766845703,
                  339180.9766845703
                ],
                [
                  "OFF-PA-10000556",
                  163587.59817504883,
                  163587.59817504883
                ],
                [
                  "OFF-BI-10004140",
                  10412.99980545044,
                  10412.99980545044
                ],
                [
                  "FUR-FU-10002878",
                  76497.69396972656,
                  76497.69396972656
                ],
                [
                  "OFF-PA-10000919",
                  10899.240219116211,
                  10899.240219116211
                ],
                [
                  "OFF-BI-10001359",
                  17410.07921218872,
                  17410.07921218872
                ],
                [
                  "OFF-AR-10001972",
                  2118.9600534439087,
                  2118.9600534439087
                ],
                [
                  "TEC-PH-10001305",
                  5506.719917297363,
                  5506.719917297363
                ],
                [
                  "FUR-FU-10000260",
                  74693.05288696289,
                  74693.05288696289
                ],
                [
                  "OFF-SU-10003002",
                  307666.00830078125,
                  307666.00830078125
                ],
                [
                  "OFF-BI-10002976",
                  13241.100215911865,
                  13241.100215911865
                ],
                [
                  "TEC-PH-10002310",
                  14184.359558105469,
                  14184.359558105469
                ],
                [
                  "OFF-PA-10001947",
                  2882.3040084838867,
                  2882.3040084838867
                ],
                [
                  "FUR-TA-10002530",
                  178771.30322265625,
                  178771.30322265625
                ],
                [
                  "OFF-AR-10002240",
                  3052333.904296875,
                  3052333.904296875
                ],
                [
                  "OFF-AP-10002472",
                  4198.139877319336,
                  4198.139877319336
                ],
                [
                  "TEC-AC-10001090",
                  40296.959381103516,
                  40296.959381103516
                ],
                [
                  "FUR-FU-10004909",
                  96457.9462890625,
                  96457.9462890625
                ],
                [
                  "TEC-PH-10003484",
                  29607,
                  29607
                ],
                [
                  "TEC-PH-10002352",
                  63889.920837402344,
                  63889.920837402344
                ],
                [
                  "OFF-AR-10003469",
                  732.6879768371582,
                  732.6879768371582
                ],
                [
                  "TEC-AC-10002335",
                  176724.92358398438,
                  176724.92358398438
                ],
                [
                  "OFF-BI-10001721",
                  2643.872076034546,
                  2643.872076034546
                ],
                [
                  "OFF-BI-10000962",
                  22960.51220703125,
                  22960.51220703125
                ],
                [
                  "OFF-AP-10003860",
                  60529.55857849121,
                  60529.55857849121
                ],
                [
                  "FUR-FU-10003553",
                  53245.85662841797,
                  53245.85662841797
                ],
                [
                  "OFF-AR-10003338",
                  5708.736042022705,
                  5708.736042022705
                ],
                [
                  "OFF-FA-10004076",
                  3039.6241245269775,
                  3039.6241245269775
                ],
                [
                  "FUR-BO-10001918",
                  97259.00830078125,
                  97259.00830078125
                ],
                [
                  "TEC-AC-10001465",
                  39571.202209472656,
                  39571.202209472656
                ],
                [
                  "TEC-PH-10002538",
                  44241.149810791016,
                  44241.149810791016
                ],
                [
                  "OFF-AR-10001955",
                  3323.967914581299,
                  3323.967914581299
                ],
                [
                  "OFF-PA-10004475",
                  4925.808093070984,
                  4925.808093070984
                ],
                [
                  "TEC-AC-10003709",
                  51883.83348083496,
                  51883.83348083496
                ],
                [
                  "TEC-AC-10004127",
                  14700,
                  14700
                ],
                [
                  "TEC-CO-10001449",
                  10709.25,
                  10709.25
                ],
                [
                  "TEC-MA-10000010",
                  25862.760375976562,
                  25862.760375976562
                ],
                [
                  "OFF-LA-10003714",
                  9682.287775039673,
                  9682.287775039673
                ],
                [
                  "TEC-AC-10000387",
                  22713.180099487305,
                  22713.180099487305
                ],
                [
                  "FUR-FU-10003981",
                  18183.87922668457,
                  18183.87922668457
                ],
                [
                  "OFF-ST-10000885",
                  5209.920013427734,
                  5209.920013427734
                ],
                [
                  "TEC-AC-10001998",
                  34452.51289367676,
                  34452.51289367676
                ],
                [
                  "TEC-PH-10002844",
                  2213.34393119812,
                  2213.34393119812
                ],
                [
                  "OFF-AR-10001221",
                  73512.89895629883,
                  73512.89895629883
                ],
                [
                  "TEC-AC-10001142",
                  117990,
                  117990
                ],
                [
                  "TEC-PH-10002468",
                  62137.60090637207,
                  62137.60090637207
                ],
                [
                  "FUR-BO-10003965",
                  39955.6713180542,
                  39955.6713180542
                ],
                [
                  "FUR-CH-10001394",
                  123531.41287231445,
                  123531.41287231445
                ],
                [
                  "OFF-AP-10004036",
                  27544.12760925293,
                  27544.12760925293
                ],
                [
                  "TEC-CO-10001571",
                  813014.1357421875,
                  813014.1357421875
                ],
                [
                  "OFF-PA-10001878",
                  11720.800170898438,
                  11720.800170898438
                ],
                [
                  "TEC-PH-10000486",
                  14399.0403175354,
                  14399.0403175354
                ],
                [
                  "TEC-PH-10003095",
                  1683.3600053787231,
                  1683.3600053787231
                ],
                [
                  "OFF-PA-10004965",
                  1764.7199478149414,
                  1764.7199478149414
                ],
                [
                  "OFF-EN-10001335",
                  35697.96029663086,
                  35697.96029663086
                ],
                [
                  "OFF-EN-10003134",
                  61386.62382507324,
                  61386.62382507324
                ],
                [
                  "FUR-FU-10001185",
                  2633.0399894714355,
                  2633.0399894714355
                ],
                [
                  "OFF-PA-10001144",
                  83179.20321655273,
                  83179.20321655273
                ],
                [
                  "TEC-PH-10003963",
                  333488.2058105469,
                  333488.2058105469
                ],
                [
                  "OFF-BI-10002931",
                  3493.6000185012817,
                  3493.6000185012817
                ],
                [
                  "TEC-AC-10002550",
                  5127.121870517731,
                  5127.121870517731
                ],
                [
                  "OFF-BI-10002982",
                  4496.939880371094,
                  4496.939880371094
                ],
                [
                  "OFF-EN-10002504",
                  2307.240036010742,
                  2307.240036010742
                ],
                [
                  "OFF-PA-10001274",
                  1213.799970626831,
                  1213.799970626831
                ],
                [
                  "OFF-AP-10000026",
                  550.8000178337097,
                  550.8000178337097
                ],
                [
                  "TEC-AC-10003116",
                  5041.583923339844,
                  5041.583923339844
                ],
                [
                  "FUR-CH-10001891",
                  82851.55416870117,
                  82851.55416870117
                ],
                [
                  "TEC-PH-10000439",
                  28111.10321044922,
                  28111.10321044922
                ],
                [
                  "FUR-BO-10003159",
                  34598.46452331543,
                  34598.46452331543
                ],
                [
                  "FUR-FU-10000175",
                  18030.399990081787,
                  18030.399990081787
                ],
                [
                  "OFF-FA-10000992",
                  88689.21606445312,
                  88689.21606445312
                ],
                [
                  "FUR-BO-10004015",
                  14059.079933166504,
                  14059.079933166504
                ],
                [
                  "OFF-PA-10004359",
                  760.3199663162231,
                  760.3199663162231
                ],
                [
                  "OFF-BI-10002437",
                  30115.260681152344,
                  30115.260681152344
                ],
                [
                  "OFF-BI-10000145",
                  126945.60018920898,
                  126945.60018920898
                ],
                [
                  "OFF-PA-10003349",
                  3260.2398986816406,
                  3260.2398986816406
                ],
                [
                  "OFF-BI-10003291",
                  293705.3564453125,
                  293705.3564453125
                ],
                [
                  "OFF-ST-10001780",
                  34151.57876586914,
                  34151.57876586914
                ],
                [
                  "FUR-FU-10000965",
                  12060.413986206055,
                  12060.413986206055
                ],
                [
                  "TEC-AC-10001635",
                  5320.489822387695,
                  5320.489822387695
                ],
                [
                  "OFF-BI-10002429",
                  51464.16064453125,
                  51464.16064453125
                ],
                [
                  "FUR-FU-10000221",
                  26226.87978363037,
                  26226.87978363037
                ],
                [
                  "OFF-PA-10001790",
                  10888.320545196533,
                  10888.320545196533
                ],
                [
                  "FUR-FU-10003096",
                  43186.201080322266,
                  43186.201080322266
                ],
                [
                  "OFF-PA-10000176",
                  129053.98770507812,
                  125290.87771606445
                ],
                [
                  "OFF-PA-10000791",
                  4108.320101737976,
                  4108.320101737976
                ],
                [
                  "TEC-PH-10002365",
                  2841.6959590911865,
                  2841.6959590911865
                ],
                [
                  "OFF-ST-10003638",
                  33305.75947570801,
                  33305.75947570801
                ],
                [
                  "OFF-AP-10000595",
                  842.0639703273773,
                  842.0639703273773
                ],
                [
                  "TEC-PH-10000984",
                  58866.720153808594,
                  58866.720153808594
                ],
                [
                  "OFF-ST-10004946",
                  4121.28009223938,
                  4121.28009223938
                ],
                [
                  "OFF-BI-10003676",
                  9735.552074432373,
                  9735.552074432373
                ],
                [
                  "FUR-FU-10004973",
                  6407.424018859863,
                  6407.424018859863
                ],
                [
                  "OFF-AR-10003811",
                  88931.9019165039,
                  88931.9019165039
                ],
                [
                  "OFF-PA-10000007",
                  31217.470169067383,
                  31217.470169067383
                ],
                [
                  "OFF-ST-10004123",
                  50448.66192626953,
                  50448.66192626953
                ],
                [
                  "OFF-LA-10000443",
                  4481.408094406128,
                  4481.408094406128
                ],
                [
                  "FUR-FU-10001940",
                  184372.02667236328,
                  184372.02667236328
                ],
                [
                  "TEC-AC-10004761",
                  7438.031940460205,
                  7438.031940460205
                ],
                [
                  "OFF-PA-10001752",
                  1709.3760619163513,
                  1709.3760619163513
                ],
                [
                  "TEC-PH-10001835",
                  4712.2560176849365,
                  4712.2560176849365
                ],
                [
                  "TEC-CO-10004202",
                  107990.76098632812,
                  107990.76098632812
                ],
                [
                  "TEC-AC-10004171",
                  2255.6159982681274,
                  2255.6159982681274
                ],
                [
                  "OFF-ST-10000777",
                  278346.2961425781,
                  278346.2961425781
                ],
                [
                  "FUR-FU-10003274",
                  16003.90421295166,
                  16003.90421295166
                ],
                [
                  "TEC-PH-10002597",
                  19343.231872558594,
                  19343.231872558594
                ],
                [
                  "OFF-BI-10002103",
                  4597.759925842285,
                  4597.759925842285
                ],
                [
                  "TEC-AC-10001314",
                  66029.04357910156,
                  66029.04357910156
                ],
                [
                  "OFF-FA-10003485",
                  14464.512119293213,
                  14464.512119293213
                ],
                [
                  "FUR-TA-10001866",
                  2874.959981918335,
                  2874.959981918335
                ],
                [
                  "TEC-MA-10000423",
                  1225.332040309906,
                  1225.332040309906
                ],
                [
                  "TEC-AC-10002345",
                  14412.984550476074,
                  14412.984550476074
                ],
                [
                  "FUR-FU-10003976",
                  3970.9440116882324,
                  3970.9440116882324
                ],
                [
                  "OFF-AR-10001246",
                  229097,
                  229097
                ],
                [
                  "OFF-AP-10003281",
                  19886.089294433594,
                  19886.089294433594
                ],
                [
                  "TEC-MA-10001972",
                  8495.459842681885,
                  8495.459842681885
                ],
                [
                  "TEC-AC-10002018",
                  3933.801113128662,
                  3933.801113128662
                ],
                [
                  "OFF-AR-10000658",
                  757.760009765625,
                  757.760009765625
                ],
                [
                  "OFF-BI-10000309",
                  4957.200157165527,
                  4957.200157165527
                ],
                [
                  "OFF-ST-10000877",
                  161225.6329345703,
                  161225.6329345703
                ],
                [
                  "OFF-SU-10004290",
                  3494.6098985671997,
                  3494.6098985671997
                ],
                [
                  "TEC-AC-10000397",
                  125106.8002319336,
                  125106.8002319336
                ],
                [
                  "FUR-TA-10002958",
                  6612.599893569946,
                  6612.599893569946
                ],
                [
                  "OFF-AP-10001564",
                  124142.39608764648,
                  124142.39608764648
                ],
                [
                  "OFF-LA-10004544",
                  108409.79626464844,
                  108409.79626464844
                ],
                [
                  "OFF-AP-10002457",
                  86761.15020751953,
                  86761.15020751953
                ],
                [
                  "OFF-AP-10004233",
                  412077.10791015625,
                  412077.10791015625
                ],
                [
                  "TEC-AC-10003023",
                  9946.800239562988,
                  9946.800239562988
                ],
                [
                  "OFF-PA-10001509",
                  12283.560363769531,
                  12283.560363769531
                ],
                [
                  "OFF-BI-10004600",
                  28426.20066833496,
                  28426.20066833496
                ],
                [
                  "OFF-AR-10004757",
                  17272.80005645752,
                  17272.80005645752
                ],
                [
                  "OFF-AP-10001492",
                  10962,
                  10962
                ],
                [
                  "OFF-LA-10004272",
                  1539032.826171875,
                  1539032.826171875
                ],
                [
                  "OFF-PA-10002666",
                  8550.399625778198,
                  8550.399625778198
                ],
                [
                  "TEC-AC-10000109",
                  7520.039909362793,
                  7520.039909362793
                ],
                [
                  "FUR-FU-10004245",
                  110517.35702514648,
                  110517.35702514648
                ],
                [
                  "OFF-PA-10001293",
                  53447.04071044922,
                  53447.04071044922
                ],
                [
                  "FUR-FU-10001379",
                  20856.000255584717,
                  20856.000255584717
                ],
                [
                  "TEC-PH-10002496",
                  1658.8000297546387,
                  1658.8000297546387
                ],
                [
                  "TEC-AC-10000926",
                  221694.20581054688,
                  221694.20581054688
                ],
                [
                  "OFF-AP-10004868",
                  67443.84130859375,
                  67443.84130859375
                ],
                [
                  "OFF-ST-10001128",
                  18657.53995513916,
                  18657.53995513916
                ],
                [
                  "TEC-AC-10004975",
                  8443.649890899658,
                  8443.649890899658
                ],
                [
                  "TEC-AC-10001552",
                  10097.920001983643,
                  10097.920001983643
                ],
                [
                  "OFF-LA-10004853",
                  97459.74389648438,
                  97459.74389648438
                ],
                [
                  "OFF-PA-10003845",
                  392962.75842285156,
                  392962.75842285156
                ],
                [
                  "OFF-AP-10002534",
                  2856.5460090637207,
                  2856.5460090637207
                ],
                [
                  "FUR-FU-10002268",
                  179700.48693847656,
                  179700.48693847656
                ],
                [
                  "OFF-EN-10001532",
                  44523.89860534668,
                  44523.89860534668
                ],
                [
                  "OFF-AP-10002945",
                  3066676.3046875,
                  3066676.3046875
                ],
                [
                  "TEC-AC-10003433",
                  201460.18041992188,
                  201460.18041992188
                ],
                [
                  "FUR-FU-10004666",
                  693484.4189453125,
                  693484.4189453125
                ],
                [
                  "FUR-FU-10004020",
                  20018.339294433594,
                  20018.339294433594
                ],
                [
                  "OFF-PA-10001826",
                  32917.024673461914,
                  32917.024673461914
                ],
                [
                  "TEC-AC-10004864",
                  10010,
                  10010
                ],
                [
                  "FUR-CH-10002017",
                  145804.05209350586,
                  145804.05209350586
                ],
                [
                  "TEC-PH-10001644",
                  99405.50756835938,
                  99405.50756835938
                ],
                [
                  "OFF-AR-10000034",
                  19175.471389770508,
                  19175.471389770508
                ],
                [
                  "OFF-PA-10004971",
                  162222.9836730957,
                  162222.9836730957
                ],
                [
                  "TEC-AC-10003280",
                  40109.7607421875,
                  40109.7607421875
                ],
                [
                  "FUR-FU-10001468",
                  7689.119987487793,
                  7689.119987487793
                ],
                [
                  "OFF-AR-10003405",
                  2060.640051841736,
                  2060.640051841736
                ],
                [
                  "FUR-FU-10003142",
                  8316.432292938232,
                  8316.432292938232
                ],
                [
                  "FUR-CH-10003968",
                  40559.70059967041,
                  40559.70059967041
                ],
                [
                  "OFF-BI-10002557",
                  119682.90417480469,
                  119682.90417480469
                ],
                [
                  "OFF-PA-10001295",
                  14655.20030593872,
                  14655.20030593872
                ],
                [
                  "OFF-AR-10004602",
                  2744.2799792289734,
                  2744.2799792289734
                ],
                [
                  "OFF-PA-10003936",
                  662366.8956298828,
                  662366.8956298828
                ],
                [
                  "TEC-MA-10001856",
                  1988.2559785842896,
                  1988.2559785842896
                ],
                [
                  "TEC-MA-10002073",
                  7498.559951782227,
                  7498.559951782227
                ],
                [
                  "FUR-BO-10003433",
                  8716.410186767578,
                  8716.410186767578
                ],
                [
                  "OFF-AR-10002952",
                  13056.119674682617,
                  13056.119674682617
                ],
                [
                  "TEC-AC-10004568",
                  2042.063980102539,
                  2042.063980102539
                ],
                [
                  "FUR-TA-10001857",
                  2948.1599826812744,
                  2948.1599826812744
                ],
                [
                  "FUR-FU-10000206",
                  528978.2661132812,
                  528978.2661132812
                ],
                [
                  "OFF-AP-10003914",
                  79639.06750488281,
                  79639.06750488281
                ],
                [
                  "FUR-TA-10003715",
                  9621.44047164917,
                  9621.44047164917
                ],
                [
                  "OFF-PA-10000289",
                  21240.96060180664,
                  21240.96060180664
                ],
                [
                  "OFF-EN-10001137",
                  203186.54467773438,
                  203186.54467773438
                ],
                [
                  "FUR-TA-10000688",
                  7006.999828338623,
                  7006.999828338623
                ],
                [
                  "OFF-LA-10004559",
                  23290.87890625,
                  23290.87890625
                ],
                [
                  "OFF-AP-10002311",
                  27303.779571533203,
                  27303.779571533203
                ],
                [
                  "OFF-AP-10000027",
                  9136.800270080566,
                  9136.800270080566
                ],
                [
                  "TEC-AC-10004666",
                  7389.888107299805,
                  7389.888107299805
                ],
                [
                  "OFF-AR-10004974",
                  317271.5852050781,
                  317271.5852050781
                ],
                [
                  "OFF-ST-10002406",
                  301242.2431640625,
                  301242.2431640625
                ],
                [
                  "FUR-FU-10004848",
                  35119.55071640015,
                  35119.55071640015
                ],
                [
                  "FUR-TA-10000617",
                  22013.190338134766,
                  22013.190338134766
                ],
                [
                  "OFF-AP-10001947",
                  2602.240122795105,
                  2602.240122795105
                ],
                [
                  "OFF-LA-10000081",
                  6026.999771118164,
                  6026.999771118164
                ],
                [
                  "FUR-FU-10002157",
                  44691.35942077637,
                  44691.35942077637
                ],
                [
                  "OFF-FA-10002988",
                  462594.234375,
                  462594.234375
                ],
                [
                  "TEC-AC-10002647",
                  814778.9760742188,
                  814778.9760742188
                ],
                [
                  "FUR-CH-10000847",
                  6477.299942016602,
                  6477.299942016602
                ],
                [
                  "FUR-FU-10004090",
                  7552.439964294434,
                  7552.439964294434
                ],
                [
                  "OFF-SU-10004115",
                  19119.600555419922,
                  19119.600555419922
                ],
                [
                  "OFF-BI-10001460",
                  1156.3199977874756,
                  1156.3199977874756
                ],
                [
                  "OFF-AP-10002082",
                  8822.520038604736,
                  8822.520038604736
                ],
                [
                  "OFF-AR-10004027",
                  7634.207794189453,
                  7634.207794189453
                ],
                [
                  "FUR-FU-10000755",
                  1934.8799796104431,
                  1934.8799796104431
                ],
                [
                  "TEC-PH-10002103",
                  16433.759643554688,
                  16433.759643554688
                ],
                [
                  "TEC-PH-10002583",
                  2091.689962387085,
                  2091.689962387085
                ],
                [
                  "OFF-AP-10000124",
                  3133.4401245117188,
                  3133.4401245117188
                ],
                [
                  "FUR-CH-10003396",
                  52585.03634643555,
                  52585.03634643555
                ],
                [
                  "TEC-MA-10004458",
                  36461.75917816162,
                  36461.75917816162
                ],
                [
                  "FUR-CH-10002774",
                  52318.49842834473,
                  52318.49842834473
                ],
                [
                  "FUR-FU-10000576",
                  223327.37481689453,
                  223327.37481689453
                ],
                [
                  "OFF-PA-10001215",
                  6645.312246322632,
                  6645.312246322632
                ],
                [
                  "OFF-PA-10004101",
                  5109.552194595337,
                  5109.552194595337
                ],
                [
                  "OFF-AR-10001860",
                  5660.3522872924805,
                  5660.3522872924805
                ],
                [
                  "OFF-BI-10000494",
                  8904.22036933899,
                  8904.22036933899
                ],
                [
                  "FUR-CH-10004983",
                  38329.20181274414,
                  38329.20181274414
                ],
                [
                  "OFF-PA-10003302",
                  309704.21142578125,
                  309704.21142578125
                ],
                [
                  "OFF-AR-10001958",
                  14347.216438293457,
                  14347.216438293457
                ],
                [
                  "FUR-TA-10004289",
                  16071.680419921875,
                  16071.680419921875
                ],
                [
                  "OFF-ST-10002756",
                  2163.83993434906,
                  2163.83993434906
                ],
                [
                  "FUR-BO-10001798",
                  8391.551879882812,
                  8391.551879882812
                ],
                [
                  "OFF-PA-10000675",
                  148167.77294921875,
                  148167.77294921875
                ],
                [
                  "OFF-PA-10003893",
                  331178.4969482422,
                  331178.4969482422
                ],
                [
                  "OFF-ST-10003327",
                  383725.28771972656,
                  383725.28771972656
                ],
                [
                  "OFF-BI-10004519",
                  20524.140090942383,
                  20524.140090942383
                ],
                [
                  "OFF-EN-10003448",
                  4486.920082092285,
                  4486.920082092285
                ],
                [
                  "FUR-FU-10002030",
                  4838.304138183594,
                  4838.304138183594
                ],
                [
                  "FUR-TA-10001539",
                  300086.64709472656,
                  300086.64709472656
                ],
                [
                  "FUR-CH-10001708",
                  8788.288009643555,
                  8788.288009643555
                ],
                [
                  "OFF-EN-10004206",
                  7182.419981002808,
                  7182.419981002808
                ],
                [
                  "FUR-TA-10001086",
                  4506.528064727783,
                  4506.528064727783
                ],
                [
                  "OFF-PA-10004100",
                  22912.816078186035,
                  22912.816078186035
                ],
                [
                  "TEC-PH-10000576",
                  8458.07996749878,
                  8458.07996749878
                ],
                [
                  "OFF-LA-10002271",
                  4273.920169830322,
                  4273.920169830322
                ],
                [
                  "FUR-FU-10001424",
                  35576.40175628662,
                  35576.40175628662
                ],
                [
                  "TEC-AC-10000023",
                  4572.400039672852,
                  4572.400039672852
                ],
                [
                  "FUR-FU-10002364",
                  22740.959274291992,
                  22740.959274291992
                ],
                [
                  "OFF-AR-10000614",
                  4860.47996711731,
                  4860.47996711731
                ],
                [
                  "TEC-AC-10003499",
                  4998.9601039886475,
                  4998.9601039886475
                ],
                [
                  "OFF-PA-10002479",
                  5944.064098358154,
                  5944.064098358154
                ],
                [
                  "OFF-EN-10003001",
                  14288.399490356445,
                  14288.399490356445
                ],
                [
                  "TEC-AC-10002006",
                  160577.5479736328,
                  160577.5479736328
                ],
                [
                  "FUR-FU-10003039",
                  484183.9921875,
                  484183.9921875
                ],
                [
                  "OFF-AR-10004269",
                  10169.27993774414,
                  10169.27993774414
                ],
                [
                  "OFF-BI-10004492",
                  21027.97203063965,
                  21027.97203063965
                ],
                [
                  "OFF-LA-10000262",
                  506736.6358642578,
                  506736.6358642578
                ],
                [
                  "TEC-PH-10001557",
                  147559.00439453125,
                  147559.00439453125
                ],
                [
                  "FUR-FU-10003577",
                  574198.0794677734,
                  574198.0794677734
                ],
                [
                  "OFF-AP-10002518",
                  154056.95904541016,
                  154056.95904541016
                ],
                [
                  "FUR-FU-10003798",
                  3531.0398988723755,
                  3531.0398988723755
                ],
                [
                  "OFF-FA-10000304",
                  1058799.5,
                  1058799.5
                ],
                [
                  "FUR-FU-10003731",
                  22266.432456970215,
                  22266.432456970215
                ],
                [
                  "OFF-ST-10002214",
                  2752.350070953369,
                  2752.350070953369
                ],
                [
                  "OFF-PA-10001972",
                  143879.66452026367,
                  143879.66452026367
                ],
                [
                  "OFF-BI-10002813",
                  304858.5,
                  304858.5
                ],
                [
                  "OFF-BI-10003355",
                  27956.879623413086,
                  27956.879623413086
                ],
                [
                  "OFF-SU-10001218",
                  61158.38578796387,
                  61158.38578796387
                ],
                [
                  "OFF-PA-10000210",
                  155215.8282470703,
                  155215.8282470703
                ],
                [
                  "OFF-BI-10000088",
                  31165.200805664062,
                  31165.200805664062
                ],
                [
                  "TEC-AC-10004469",
                  126139.98767089844,
                  126139.98767089844
                ],
                [
                  "OFF-ST-10002344",
                  3210.2401266098022,
                  3210.2401266098022
                ],
                [
                  "FUR-FU-10004587",
                  11535.103759765625,
                  11535.103759765625
                ],
                [
                  "FUR-CH-10004886",
                  54739.98107910156,
                  54739.98107910156
                ],
                [
                  "OFF-ST-10001228",
                  17956.032041549683,
                  17956.032041549683
                ],
                [
                  "OFF-BI-10000666",
                  22162.80044555664,
                  22162.80044555664
                ],
                [
                  "OFF-AP-10004980",
                  602989.9375,
                  602989.9375
                ],
                [
                  "OFF-AR-10002818",
                  1126.6639852523804,
                  1126.6639852523804
                ],
                [
                  "OFF-BI-10001078",
                  90118.96411132812,
                  90118.96411132812
                ],
                [
                  "OFF-BI-10002072",
                  3803.7300987243652,
                  3803.7300987243652
                ],
                [
                  "FUR-FU-10002240",
                  275943.36053466797,
                  275943.36053466797
                ],
                [
                  "OFF-ST-10001034",
                  15949.9206199646,
                  15949.9206199646
                ],
                [
                  "FUR-CH-10003199",
                  25431.060391235354,
                  24572.88842010498
                ],
                [
                  "TEC-PH-10003442",
                  113136.45373535156,
                  113136.45373535156
                ],
                [
                  "TEC-PH-10003356",
                  9725.855834960938,
                  9725.855834960938
                ],
                [
                  "OFF-SU-10001574",
                  365235.4599609375,
                  365235.4599609375
                ],
                [
                  "OFF-BI-10003669",
                  31478.099563598633,
                  31478.099563598633
                ],
                [
                  "OFF-AR-10000817",
                  81139.68127441406,
                  81139.68127441406
                ],
                [
                  "FUR-FU-10001706",
                  21050.39976501465,
                  21050.39976501465
                ],
                [
                  "OFF-PA-10004609",
                  418115.7727050781,
                  418115.7727050781
                ],
                [
                  "OFF-FA-10001229",
                  11656.175632476807,
                  11656.175632476807
                ],
                [
                  "OFF-LA-10002473",
                  620.9279913902283,
                  620.9279913902283
                ],
                [
                  "FUR-FU-10003919",
                  21732.479248046875,
                  21732.479248046875
                ],
                [
                  "FUR-BO-10003966",
                  391456.494140625,
                  391456.494140625
                ],
                [
                  "OFF-AR-10003896",
                  46315.098693847656,
                  46315.098693847656
                ],
                [
                  "OFF-BI-10000474",
                  5132.160009384155,
                  5132.160009384155
                ],
                [
                  "OFF-SU-10004498",
                  1520.5919380187988,
                  1520.5919380187988
                ],
                [
                  "TEC-MA-10001031",
                  3998.7199886322023,
                  3899.4559869766235
                ],
                [
                  "OFF-ST-10000129",
                  77789.08776855469,
                  77789.08776855469
                ],
                [
                  "FUR-TA-10002228",
                  6484.319686889648,
                  6484.319686889648
                ],
                [
                  "OFF-PA-10000029",
                  8952.660171508789,
                  8952.660171508789
                ],
                [
                  "TEC-AC-10003614",
                  26685.792678833008,
                  26685.792678833008
                ],
                [
                  "OFF-FA-10000621",
                  413270.82177734375,
                  413270.82177734375
                ],
                [
                  "FUR-CH-10003312",
                  31301.080932617188,
                  31301.080932617188
                ],
                [
                  "TEC-PH-10003273",
                  4716.304046630859,
                  4716.304046630859
                ],
                [
                  "OFF-AR-10000422",
                  12275.550384521484,
                  12275.550384521484
                ],
                [
                  "OFF-FA-10001135",
                  23928.000564575195,
                  23928.000564575195
                ],
                [
                  "OFF-AR-10001231",
                  12888.960250854492,
                  12888.960250854492
                ],
                [
                  "TEC-PH-10001949",
                  10799.279518127441,
                  10799.279518127441
                ],
                [
                  "OFF-FA-10004968",
                  2851.0720825195312,
                  2851.0720825195312
                ],
                [
                  "OFF-AR-10000799",
                  24055.920051574707,
                  24055.920051574707
                ],
                [
                  "TEC-AC-10000580",
                  51977.500061035156,
                  51977.500061035156
                ],
                [
                  "TEC-PH-10002624",
                  380.15998339653015,
                  380.15998339653015
                ],
                [
                  "OFF-AR-10002804",
                  4676.600094795227,
                  4676.600094795227
                ],
                [
                  "OFF-PA-10001763",
                  3832.499939918518,
                  3832.499939918518
                ],
                [
                  "OFF-PA-10003205",
                  42576.769454956055,
                  42576.769454956055
                ],
                [
                  "OFF-BI-10000756",
                  10941.120021820068,
                  10941.120021820068
                ],
                [
                  "TEC-MA-10002210",
                  7450.399761199951,
                  7450.399761199951
                ],
                [
                  "OFF-PA-10000605",
                  6959.12025642395,
                  6959.12025642395
                ],
                [
                  "OFF-PA-10002986",
                  5973.239770889282,
                  5973.239770889282
                ],
                [
                  "OFF-PA-10000482",
                  3613.6799745559692,
                  3613.6799745559692
                ],
                [
                  "TEC-PH-10001254",
                  4952.799900054932,
                  4952.799900054932
                ],
                [
                  "OFF-BI-10002852",
                  76715.21047973633,
                  76715.21047973633
                ],
                [
                  "OFF-PA-10003797",
                  33325.247970581055,
                  33325.247970581055
                ],
                [
                  "OFF-ST-10001097",
                  3984.6798095703125,
                  3984.6798095703125
                ],
                [
                  "OFF-PA-10003395",
                  3051.8498821258545,
                  3051.8498821258545
                ],
                [
                  "TEC-AC-10000990",
                  169845.93743896484,
                  169845.93743896484
                ],
                [
                  "FUR-FU-10001487",
                  7576.200183868408,
                  7576.200183868408
                ],
                [
                  "OFF-BI-10001718",
                  85524.01391601562,
                  85524.01391601562
                ],
                [
                  "TEC-AC-10003911",
                  6125.400188446045,
                  6125.400188446045
                ],
                [
                  "OFF-BI-10003196",
                  8190.720191955566,
                  8190.720191955566
                ],
                [
                  "OFF-PA-10001725",
                  19343.520378112793,
                  19343.520378112793
                ],
                [
                  "OFF-PA-10004888",
                  163977.8515625,
                  163977.8515625
                ],
                [
                  "OFF-AP-10004052",
                  11157.21042251587,
                  11157.21042251587
                ],
                [
                  "OFF-FA-10000585",
                  47419.00761413574,
                  47419.00761413574
                ],
                [
                  "FUR-FU-10003192",
                  32026.176712036133,
                  32026.176712036133
                ],
                [
                  "OFF-ST-10002554",
                  46064.63949584961,
                  46064.63949584961
                ],
                [
                  "TEC-PH-10002170",
                  12415.119430541992,
                  12415.119430541992
                ],
                [
                  "OFF-PA-10002586",
                  10985.688102722168,
                  10985.688102722168
                ],
                [
                  "OFF-BI-10004410",
                  8253.072166442871,
                  8253.072166442871
                ],
                [
                  "OFF-BI-10004330",
                  70746.36555480957,
                  70746.36555480957
                ],
                [
                  "OFF-AP-10002578",
                  86635.93676757812,
                  86635.93676757812
                ],
                [
                  "OFF-PA-10004381",
                  79293.83404541016,
                  79293.83404541016
                ],
                [
                  "OFF-AP-10002906",
                  42094.0793762207,
                  42094.0793762207
                ],
                [
                  "OFF-PA-10001307",
                  5360.470039367676,
                  5360.470039367676
                ],
                [
                  "TEC-MA-10000488",
                  6513.980297012329,
                  6445.164291381836
                ],
                [
                  "FUR-BO-10000780",
                  31230.400939941406,
                  31230.400939941406
                ],
                [
                  "OFF-AP-10001391",
                  11319.072105407715,
                  11319.072105407715
                ],
                [
                  "TEC-AC-10001956",
                  255673.19689941406,
                  255673.19689941406
                ],
                [
                  "OFF-AR-10002656",
                  28824.810119628906,
                  28824.810119628906
                ],
                [
                  "OFF-AR-10003179",
                  16953.024074554443,
                  16953.024074554443
                ],
                [
                  "OFF-LA-10003388",
                  48795.117904663086,
                  48795.117904663086
                ],
                [
                  "OFF-LA-10003510",
                  4879.68009185791,
                  4879.68009185791
                ],
                [
                  "TEC-AC-10002473",
                  2324.6000299453735,
                  2324.6000299453735
                ],
                [
                  "OFF-AR-10003481",
                  7824.816265106201,
                  7824.816265106201
                ],
                [
                  "OFF-ST-10003455",
                  8180.280082702637,
                  8180.280082702637
                ],
                [
                  "FUR-FU-10003930",
                  5045.664297103882,
                  5045.664297103882
                ],
                [
                  "TEC-PH-10003875",
                  948.4480223655701,
                  948.4480223655701
                ],
                [
                  "OFF-LA-10002945",
                  567.8399829864502,
                  567.8399829864502
                ],
                [
                  "TEC-PH-10000562",
                  1345746.90234375,
                  1345746.90234375
                ],
                [
                  "TEC-MA-10003329",
                  24283.136741638184,
                  24283.136741638184
                ],
                [
                  "OFF-PA-10001357",
                  3891.999895095825,
                  3891.999895095825
                ],
                [
                  "OFF-AR-10001573",
                  126880.53997802734,
                  126880.53997802734
                ],
                [
                  "TEC-PH-10003931",
                  6032.16032409668,
                  6032.16032409668
                ],
                [
                  "OFF-PA-10001033",
                  7231.680171966553,
                  7231.680171966553
                ],
                [
                  "OFF-AP-10001366",
                  33724.944580078125,
                  33724.944580078125
                ],
                [
                  "OFF-BI-10003305",
                  1120.0000154972076,
                  1120.0000154972076
                ],
                [
                  "OFF-LA-10001771",
                  91493.8775024414,
                  91493.8775024414
                ],
                [
                  "OFF-AR-10002445",
                  27140.3994140625,
                  27140.3994140625
                ],
                [
                  "OFF-ST-10001490",
                  5000.039958000183,
                  5000.039958000183
                ],
                [
                  "OFF-BI-10002824",
                  15085.728038787842,
                  15085.728038787842
                ],
                [
                  "OFF-FA-10004248",
                  5250.8877239227295,
                  5250.8877239227295
                ],
                [
                  "OFF-AP-10003590",
                  6912.880012512207,
                  6912.880012512207
                ],
                [
                  "FUR-FU-10001588",
                  2671.680003643036,
                  2671.680003643036
                ],
                [
                  "OFF-ST-10001370",
                  7831.295692443848,
                  7831.295692443848
                ],
                [
                  "FUR-CH-10002965",
                  27899.874465942383,
                  27899.874465942383
                ],
                [
                  "FUR-FU-10004963",
                  3659.904010772705,
                  3659.904010772705
                ],
                [
                  "OFF-BI-10003712",
                  2799.6960830688477,
                  2799.6960830688477
                ],
                [
                  "FUR-FU-10004188",
                  3364.368118286133,
                  3364.368118286133
                ],
                [
                  "OFF-BI-10004817",
                  14115.95987701416,
                  14115.95987701416
                ],
                [
                  "FUR-CH-10004495",
                  12945.600215911865,
                  12945.600215911865
                ],
                [
                  "OFF-BI-10001294",
                  10481.279510498047,
                  10481.279510498047
                ],
                [
                  "TEC-AC-10001114",
                  1342580.8701171875,
                  1342580.8701171875
                ],
                [
                  "OFF-PA-10001260",
                  87834.14721679688,
                  87834.14721679688
                ],
                [
                  "OFF-AR-10004062",
                  5400.832109451294,
                  5400.832109451294
                ],
                [
                  "OFF-PA-10003036",
                  522628.869140625,
                  522628.869140625
                ],
                [
                  "TEC-PH-10001795",
                  94326.41973114014,
                  94326.41973114014
                ],
                [
                  "TEC-PH-10000895",
                  4586.207897186279,
                  4586.207897186279
                ],
                [
                  "OFF-PA-10001815",
                  305529.00677490234,
                  305529.00677490234
                ],
                [
                  "OFF-EN-10000461",
                  5339.520263671875,
                  5339.520263671875
                ],
                [
                  "OFF-ST-10000604",
                  39322.64168548584,
                  39322.64168548584
                ],
                [
                  "OFF-BI-10003650",
                  3866.5200702667235,
                  3802.480068206787
                ],
                [
                  "TEC-AC-10004659",
                  304242.7431640625,
                  304242.7431640625
                ],
                [
                  "OFF-AR-10001915",
                  17472.000549316406,
                  17472.000549316406
                ],
                [
                  "FUR-CH-10004477",
                  220141.6873779297,
                  220141.6873779297
                ],
                [
                  "OFF-FA-10003112",
                  191092.15380859375,
                  191092.15380859375
                ],
                [
                  "OFF-PA-10004405",
                  12504.959545135498,
                  12504.959545135498
                ],
                [
                  "TEC-PH-10001817",
                  6639.360069274902,
                  6639.360069274902
                ],
                [
                  "FUR-CH-10002331",
                  129379.07705688477,
                  129379.07705688477
                ],
                [
                  "OFF-PA-10004355",
                  253584.66943359375,
                  253584.66943359375
                ],
                [
                  "FUR-BO-10004357",
                  6663.679916381836,
                  6663.679916381836
                ],
                [
                  "TEC-PH-10002922",
                  12710.880516052246,
                  12710.880516052246
                ],
                [
                  "OFF-AP-10001394",
                  24470.24932861328,
                  24470.24932861328
                ],
                [
                  "FUR-FU-10001918",
                  24043.501052856445,
                  24043.501052856445
                ],
                [
                  "FUR-TA-10004534",
                  1232.6400618553162,
                  1232.6400618553162
                ],
                [
                  "OFF-BI-10002160",
                  36164.159255981445,
                  36164.159255981445
                ],
                [
                  "FUR-FU-10000320",
                  269708.0341796875,
                  269708.0341796875
                ],
                [
                  "OFF-PA-10003739",
                  5322.239894866943,
                  5322.239894866943
                ],
                [
                  "TEC-AC-10004227",
                  7400.959972381592,
                  7400.959972381592
                ],
                [
                  "OFF-BI-10004632",
                  31124.376952171326,
                  31124.376952171326
                ],
                [
                  "OFF-PA-10002923",
                  2903992.6811523438,
                  2903992.6811523438
                ],
                [
                  "FUR-FU-10001290",
                  415475.5563964844,
                  415475.5563964844
                ],
                [
                  "TEC-PH-10003601",
                  55995.38311767578,
                  55995.38311767578
                ],
                [
                  "TEC-PH-10001051",
                  3822.7201595306396,
                  3822.7201595306396
                ],
                [
                  "OFF-AR-10001615",
                  271211.12255859375,
                  271211.12255859375
                ],
                [
                  "OFF-BI-10003655",
                  5800.699977874756,
                  5800.699977874756
                ],
                [
                  "OFF-PA-10000418",
                  4447.871799468994,
                  4447.871799468994
                ],
                [
                  "TEC-AC-10002049",
                  22786.903778076172,
                  22786.903778076172
                ],
                [
                  "OFF-AR-10004010",
                  41719.11895751953,
                  41719.11895751953
                ],
                [
                  "FUR-TA-10004607",
                  177120.89727783203,
                  177120.89727783203
                ],
                [
                  "FUR-FU-10003773",
                  118550.88052368164,
                  118550.88052368164
                ],
                [
                  "OFF-AP-10004487",
                  197111.044921875,
                  197111.044921875
                ],
                [
                  "OFF-ST-10002790",
                  110703.60168457031,
                  110703.60168457031
                ],
                [
                  "FUR-FU-10001196",
                  26263.440406799316,
                  26263.440406799316
                ],
                [
                  "OFF-ST-10003058",
                  147719.23107910156,
                  147719.23107910156
                ],
                [
                  "OFF-LA-10002312",
                  7124.199871063232,
                  7124.199871063232
                ],
                [
                  "OFF-AP-10001469",
                  3271.1400213241577,
                  3271.1400213241577
                ],
                [
                  "OFF-BI-10002949",
                  10536.156089782715,
                  10536.156089782715
                ],
                [
                  "TEC-MA-10002109",
                  194352.0083618164,
                  194352.0083618164
                ],
                [
                  "OFF-FA-10001561",
                  15818.400268554688,
                  15818.400268554688
                ],
                [
                  "OFF-AR-10001026",
                  58497.074157714844,
                  58497.074157714844
                ],
                [
                  "OFF-AR-10001427",
                  7157.7600440979,
                  7157.7600440979
                ],
                [
                  "TEC-PH-10001128",
                  22859.12082672119,
                  22859.12082672119
                ],
                [
                  "TEC-MA-10003674",
                  82045.87307739258,
                  82045.87307739258
                ],
                [
                  "FUR-CH-10000155",
                  30285.76026916504,
                  30285.76026916504
                ],
                [
                  "OFF-EN-10001453",
                  3433.3200874328613,
                  3433.3200874328613
                ],
                [
                  "OFF-EN-10002986",
                  29043.899444580078,
                  29043.899444580078
                ],
                [
                  "OFF-SU-10001935",
                  117540.71954345703,
                  117540.71954345703
                ],
                [
                  "FUR-BO-10003034",
                  9497.98462486267,
                  9497.98462486267
                ],
                [
                  "OFF-AP-10002670",
                  27643.199920654297,
                  27643.199920654297
                ],
                [
                  "OFF-PA-10002968",
                  5396.544002532959,
                  5396.544002532959
                ],
                [
                  "TEC-AC-10002402",
                  46347.802017211914,
                  46347.802017211914
                ],
                [
                  "TEC-MA-10003589",
                  77994.79667663574,
                  77994.79667663574
                ],
                [
                  "FUR-FU-10001935",
                  183895.9140625,
                  183895.9140625
                ],
                [
                  "OFF-EN-10004007",
                  14180.399612426758,
                  14180.399612426758
                ],
                [
                  "TEC-AC-10003198",
                  968.7039947509766,
                  968.7039947509766
                ],
                [
                  "FUR-TA-10003473",
                  6227.904121398926,
                  6227.904121398926
                ],
                [
                  "TEC-PH-10003535",
                  5888.736110687256,
                  5888.736110687256
                ],
                [
                  "OFF-AP-10002439",
                  4882.569995193481,
                  4883.75999546051
                ],
                [
                  "FUR-FU-10000308",
                  11875.219535827637,
                  11875.219535827637
                ],
                [
                  "OFF-AR-10001022",
                  16893.71997833252,
                  16893.71997833252
                ],
                [
                  "FUR-CH-10001973",
                  69297.70401000977,
                  69297.70401000977
                ],
                [
                  "FUR-CH-10004675",
                  5809.919773101807,
                  5809.919773101807
                ],
                [
                  "TEC-MA-10001570",
                  7890.767715454102,
                  7890.767715454102
                ],
                [
                  "FUR-FU-10004351",
                  7066.239776611328,
                  7066.239776611328
                ],
                [
                  "TEC-MA-10000984",
                  13205.119617462158,
                  13205.119617462158
                ],
                [
                  "OFF-ST-10004507",
                  169330.5592956543,
                  169330.5592956543
                ],
                [
                  "OFF-AP-10001154",
                  73133.09057617188,
                  73133.09057617188
                ],
                [
                  "OFF-ST-10003442",
                  12549.420181274414,
                  12549.420181274414
                ],
                [
                  "FUR-CH-10004875",
                  1221.9999766349792,
                  1221.9999766349792
                ],
                [
                  "OFF-ST-10000532",
                  72005.98596191406,
                  72005.98596191406
                ],
                [
                  "OFF-SU-10002503",
                  145344.97338867188,
                  145344.97338867188
                ],
                [
                  "OFF-AP-10001626",
                  187594.634765625,
                  187594.634765625
                ],
                [
                  "TEC-PH-10000215",
                  7840.8002853393555,
                  7840.8002853393555
                ],
                [
                  "OFF-AR-10002833",
                  12760.20023727417,
                  12760.20023727417
                ],
                [
                  "OFF-ST-10002205",
                  202306.30639648438,
                  202306.30639648438
                ],
                [
                  "OFF-PA-10002254",
                  8932,
                  8932
                ],
                [
                  "OFF-PA-10000213",
                  6282.379783630371,
                  6282.379783630371
                ],
                [
                  "FUR-FU-10003806",
                  2993.5359411239624,
                  2993.5359411239624
                ],
                [
                  "FUR-FU-10000023",
                  8382.335947036743,
                  8382.335947036743
                ],
                [
                  "TEC-AC-10000844",
                  9206.912384033203,
                  9206.912384033203
                ],
                [
                  "TEC-PH-10000586",
                  5511.808111190796,
                  5511.808111190796
                ],
                [
                  "OFF-BI-10003429",
                  2101.248046875,
                  2101.248046875
                ],
                [
                  "OFF-AR-10003251",
                  13298.207637786865,
                  13298.207637786865
                ],
                [
                  "OFF-AR-10004956",
                  8389.5,
                  8389.5
                ],
                [
                  "OFF-BI-10001132",
                  993849.6274414062,
                  993849.6274414062
                ],
                [
                  "OFF-LA-10003930",
                  2254.2000370025635,
                  2254.2000370025635
                ],
                [
                  "TEC-AC-10000420",
                  42830.943756103516,
                  42830.943756103516
                ],
                [
                  "OFF-ST-10003722",
                  2793.984094619751,
                  2793.984094619751
                ],
                [
                  "OFF-AR-10003770",
                  4075.6318855285645,
                  4075.6318855285645
                ],
                [
                  "FUR-FU-10000277",
                  4021.4400215148926,
                  4021.4400215148926
                ],
                [
                  "OFF-PA-10001954",
                  138775.462890625,
                  138775.462890625
                ],
                [
                  "OFF-AR-10004078",
                  103743.92398071289,
                  103743.92398071289
                ],
                [
                  "OFF-LA-10001074",
                  6559.800243377686,
                  6559.800243377686
                ],
                [
                  "TEC-MA-10004255",
                  7734.288354873657,
                  7734.288354873657
                ],
                [
                  "FUR-FU-10001986",
                  351.26701259613037,
                  351.26701259613037
                ],
                [
                  "OFF-PA-10002558",
                  229022.0453491211,
                  229022.0453491211
                ],
                [
                  "FUR-CH-10002317",
                  19239.312393188477,
                  19239.312393188477
                ],
                [
                  "OFF-AP-10000576",
                  286445.5221118927,
                  286445.5221118927
                ],
                [
                  "FUR-FU-10002759",
                  3737.360020637512,
                  3737.360020637512
                ],
                [
                  "TEC-PH-10003885",
                  268488,
                  268488
                ],
                [
                  "OFF-ST-10000036",
                  118649.12353515625,
                  118649.12353515625
                ],
                [
                  "TEC-MA-10003493",
                  23119.20040512085,
                  23119.20040512085
                ],
                [
                  "OFF-ST-10001418",
                  872768.6569824219,
                  872768.6569824219
                ],
                [
                  "OFF-ST-10002485",
                  8104.799810409546,
                  8104.799810409546
                ],
                [
                  "FUR-BO-10003893",
                  34880.039947509766,
                  34880.039947509766
                ],
                [
                  "TEC-MA-10000752",
                  7935.11994934082,
                  7935.11994934082
                ],
                [
                  "TEC-MA-10001016",
                  16532.23942565918,
                  16532.23942565918
                ],
                [
                  "FUR-CH-10001215",
                  19207.02003097534,
                  19207.02003097534
                ]
              ]
            },
            "text/plain": "<Spark SQL result set with 1000 rows and 3 fields>"
          },
          "metadata": {}
        }
      ],
      "execution_count": 143,
      "metadata": {
        "jupyter": {
          "source_hidden": false,
          "outputs_hidden": false
        },
        "nteract": {
          "transient": {
            "deleting": false
          }
        },
        "microsoft": {
          "language": "sparksql"
        },
        "collapsed": false
      }
    },
    {
      "cell_type": "code",
      "source": [
        "# converting back to dataframe:-\r\n",
        "\r\n",
        "seasonal_non_seasonal_prom = spark.sql(f'''\r\n",
        "WITH cte AS (\r\n",
        "    SELECT \r\n",
        "        t1.product_id,\r\n",
        "        SUM(CASE WHEN t2.discount IS NOT NULL THEN t1.Sales - COALESCE(t2.discount, 0) ELSE t1.Sales END) AS discounted_sales,\r\n",
        "        SUM(CASE WHEN t2.discount IS NULL THEN t1.Sales END) AS sales_without_discount\r\n",
        "    FROM sales_after_promo t1\r\n",
        "    LEFT JOIN promo_data t2 ON t2.exploded_element = t1.product_id\r\n",
        "                            AND MONTH(t1.date) BETWEEN t2.start_date_month AND t2.end_date_month\r\n",
        "                            AND DAY(t1.date) BETWEEN t2.start_date AND t2.end_date\r\n",
        "    GROUP BY t1.product_id\r\n",
        ")\r\n",
        "\r\n",
        "SELECT \r\n",
        "    cte.product_id,\r\n",
        "    cte.discounted_sales,\r\n",
        "    cte.sales_without_discount\r\n",
        "FROM cte;\r\n",
        "''')\r\n",
        "\r\n",
        "\r\n",
        "seasonal_non_seasonal_prom.show() "
      ],
      "outputs": [
        {
          "output_type": "display_data",
          "data": {
            "application/vnd.livy.statement-meta+json": {
              "spark_pool": "taxprocessing",
              "session_id": "9",
              "statement_id": 63,
              "statement_ids": [
                63
              ],
              "state": "finished",
              "livy_statement_state": "available",
              "queued_time": "2024-06-16T05:57:41.7484717Z",
              "session_start_time": null,
              "execution_start_time": "2024-06-16T05:58:52.6955999Z",
              "execution_finish_time": "2024-06-16T05:58:54.5941762Z",
              "spark_jobs": null,
              "parent_msg_id": "3ca93005-7635-44f5-a827-c917ff02b54b"
            },
            "text/plain": "StatementMeta(taxprocessing, 9, 63, Finished, Available)"
          },
          "metadata": {}
        },
        {
          "output_type": "stream",
          "name": "stdout",
          "text": [
            "+---------------+------------------+----------------------+\n|     product_id|  discounted_sales|sales_without_discount|\n+---------------+------------------+----------------------+\n|TEC-MA-10001047|117431.99615478516|    117431.99615478516|\n|OFF-PA-10002615| 7654.500104904175|     7654.500104904175|\n|OFF-EN-10002600| 11281.58946609497|     11281.58946609497|\n|OFF-AR-10003504| 48703.20068359375|     48703.20068359375|\n|FUR-FU-10000409|1810.5600490570068|    1810.5600490570068|\n|FUR-CH-10003833|131359.83758544922|    131359.83758544922|\n|OFF-AP-10002495| 376902.3908691406|     376902.3908691406|\n|OFF-PA-10004735| 2998.270025253296|     2998.270025253296|\n|FUR-CH-10000863| 2198.016058444977|     2198.016058444977|\n|OFF-PA-10000575|174746.60717773438|    174746.60717773438|\n|OFF-LA-10004008| 9774.383605957031|     9774.383605957031|\n|OFF-PA-10001457|42946.078216552734|    42946.078216552734|\n|FUR-TA-10004086|  14201.1801071167|      14201.1801071167|\n|OFF-AR-10003876|  74852.1893157959|      74852.1893157959|\n|FUR-TA-10000849| 6653.280303955078|     6653.280303955078|\n|OFF-PA-10004243| 92419.11114501953|     92419.11114501953|\n|OFF-PA-10001639| 7490.880266189575|     7490.880266189575|\n|OFF-BI-10001636|2791.8598642349243|    2791.8598642349243|\n|OFF-ST-10003641|3692.4159259796143|    3692.4159259796143|\n|TEC-PH-10001527| 31300.31874847412|     31300.31874847412|\n+---------------+------------------+----------------------+\nonly showing top 20 rows\n\n"
          ]
        }
      ],
      "execution_count": 144,
      "metadata": {
        "jupyter": {
          "source_hidden": false,
          "outputs_hidden": false
        },
        "nteract": {
          "transient": {
            "deleting": false
          }
        },
        "microsoft": {},
        "collapsed": false
      }
    },
    {
      "cell_type": "markdown",
      "source": [
        "##### customers_segmentation"
      ],
      "metadata": {
        "nteract": {
          "transient": {
            "deleting": false
          }
        }
      }
    },
    {
      "cell_type": "code",
      "source": [
        "tax_per_transaction.show()"
      ],
      "outputs": [
        {
          "output_type": "display_data",
          "data": {
            "application/vnd.livy.statement-meta+json": {
              "spark_pool": "taxprocessing",
              "session_id": "9",
              "statement_id": 64,
              "statement_ids": [
                64
              ],
              "state": "finished",
              "livy_statement_state": "available",
              "queued_time": "2024-06-16T05:57:42.1763708Z",
              "session_start_time": null,
              "execution_start_time": "2024-06-16T05:58:54.7661501Z",
              "execution_finish_time": "2024-06-16T05:58:55.3554024Z",
              "spark_jobs": null,
              "parent_msg_id": "6f7ed57c-430e-44e6-8355-d5d4df89398f"
            },
            "text/plain": "StatementMeta(taxprocessing, 9, 64, Finished, Available)"
          },
          "metadata": {}
        },
        {
          "output_type": "stream",
          "name": "stdout",
          "text": [
            "+--------------------+-----------+----------+---------------+--------+-------+---------+---------------+--------------------+--------------------+-------+-------------------+------------------+\n|      transaction_id|customer_id|      date|    product_id_|quantity|  price|    Sales|     product_id|         description|          attributes|  price|     tax_percentage|  total_tax_amount|\n+--------------------+-----------+----------+---------------+--------+-------+---------+---------------+--------------------+--------------------+-------+-------------------+------------------+\n|K-12722-FUR-FU-10...|    K-12722|2022-07-30|FUR-FU-10004665|       3|   94.2|282.59998|FUR-FU-10004665|3M Polarizing Tas...|{'product_categor...|   94.2|  0.736568189408735| 2.209704568226205|\n|K-12722-OFF-AR-10...|    K-12722|2022-09-26|OFF-AR-10002053|       2|  16.02|    32.04|OFF-AR-10002053|Premium Writing P...|{'product_categor...|  16.02| 5.5961898935971215|11.192379787194243|\n|K-12722-TEC-PH-10...|    K-12722|2023-06-20|TEC-PH-10001459|       2| 164.88|   329.76|TEC-PH-10001459|Samsung Galaxy Me...|{'product_categor...| 164.88| 2.0375681203024065| 4.075136240604813|\n|WB-64368-OFF-BI-1...|   WB-64368|2022-10-21|OFF-BI-10003655|       5|  16.34|     81.7|OFF-BI-10003655|Durable Pressboar...|{'product_categor...|  16.34|  4.395477959732918| 21.97738979866459|\n|WB-64368-OFF-LA-1...|   WB-64368|2024-04-23|OFF-LA-10002381|       3| 242.94|   728.82|OFF-LA-10002381|           Avery 497|{'product_categor...| 242.94|  5.202636777053115|15.607910331159346|\n|WB-64368-OFF-PA-1...|   WB-64368|2022-08-11|OFF-PA-10003129|       2|   32.4|     64.8|OFF-PA-10003129|Tops White Comput...|{'product_categor...|   32.4| 2.2446352135331136| 4.489270427066227|\n|J-14825-FUR-BO-10...|    J-14825|2023-06-18|FUR-BO-10000468|       1| 13.494|   13.494|FUR-BO-10000468|O'Sullivan 2-Shel...|{'product_categor...| 13.494|  2.267389661472281| 2.267389661472281|\n|J-14825-TEC-MA-10...|    J-14825|2023-04-20|TEC-MA-10001031|       3| 12.224|   36.672|TEC-MA-10001031|Socket Bluetooth ...|{'product_categor...| 12.224| 0.8796561075553009|2.6389683226659026|\n|J-14825-OFF-PA-10...|    J-14825|2022-09-10|OFF-PA-10002230|       2|  191.6|    383.2|OFF-PA-10002230|          Xerox 1897|{'product_categor...|  191.6|  6.552620870719358|13.105241741438716|\n|J-14825-OFF-AR-10...|    J-14825|2021-09-17|OFF-AR-10003958|       4| 54.368|  217.472|OFF-AR-10003958|          Newell 337|{'product_categor...| 54.368| 6.0972537021348305|24.389014808539322|\n|J-14825-FUR-FU-10...|    J-14825|2021-12-03|FUR-FU-10001588|       3|   7.36|    22.08|FUR-FU-10001588|Deflect-o SuperTr...|{'product_categor...|   7.36|  4.667553297175813|14.002659891527438|\n|A-30388-FUR-CH-10...|    A-30388|2024-05-01|FUR-CH-10004997|       3|  9.408|28.223999|FUR-CH-10004997|Hon Every-Day Ser...|{'product_categor...|  9.408| 2.9054442449345057| 8.716332734803517|\n|A-30388-OFF-BI-10...|    A-30388|2021-09-03|OFF-BI-10003718|       5|225.296|  1126.48|OFF-BI-10003718|GBC Therma-A-Bind...|{'product_categor...|225.296|  6.361919441641152|31.809597208205762|\n|A-30388-FUR-BO-10...|    A-30388|2023-12-28|FUR-BO-10003034|       5| 30.345|151.72499|FUR-BO-10003034|O'Sullivan Elevat...|{'product_categor...| 30.345|0.29982929890528115|1.4991464945264057|\n|AP-31244-FUR-TA-1...|   AP-31244|2023-01-07|FUR-TA-10000577|       5|  19.76|     98.8|FUR-TA-10000577|Bretford CR4500 S...|{'product_categor...|  19.76| 2.3825612474807505|11.912806237403753|\n|AP-31244-TEC-PH-1...|   AP-31244|2022-09-07|TEC-PH-10002200|       4|    7.7|     30.8|TEC-PH-10002200|Aastra 6757i CT W...|{'product_categor...|    7.7|  4.691454385561527|18.765817542246108|\n|AP-31244-TEC-AC-1...|   AP-31244|2022-01-25|TEC-AC-10003289|       2| 731.94|  1463.88|TEC-AC-10003289|Anker Ultra-Slim ...|{'product_categor...| 731.94|  1.846276201615175|  3.69255240323035|\n|AP-31244-TEC-MA-1...|   AP-31244|2024-04-01|TEC-MA-10001148|       4| 839.43|  3357.72|TEC-MA-10001148|Okidata MB491 Mul...|{'product_categor...| 839.43|  5.097103512897334|20.388414051589336|\n|K-79252-OFF-BI-10...|    K-79252|2022-12-26|OFF-BI-10003694|       3| 161.94|   485.82|OFF-BI-10003694|Avery 3 1/2' Disk...|{'product_categor...| 161.94|  0.737899964777291| 2.213699894331873|\n|K-79252-TEC-PH-10...|    K-79252|2022-04-28|TEC-PH-10002817|       3|206.991|  620.973|TEC-PH-10002817|RCA ViSYS 25425RE...|{'product_categor...|206.991|  5.618133378814403| 16.85440013644321|\n+--------------------+-----------+----------+---------------+--------+-------+---------+---------------+--------------------+--------------------+-------+-------------------+------------------+\nonly showing top 20 rows\n\n"
          ]
        }
      ],
      "execution_count": 145,
      "metadata": {
        "jupyter": {
          "source_hidden": false,
          "outputs_hidden": false
        },
        "nteract": {
          "transient": {
            "deleting": false
          }
        }
      }
    },
    {
      "cell_type": "code",
      "source": [
        "tax_per_transaction_r = tax_per_transaction.select(\"customer_id\",\"Sales\",\"attributes\")"
      ],
      "outputs": [
        {
          "output_type": "display_data",
          "data": {
            "application/vnd.livy.statement-meta+json": {
              "spark_pool": "taxprocessing",
              "session_id": "9",
              "statement_id": 65,
              "statement_ids": [
                65
              ],
              "state": "finished",
              "livy_statement_state": "available",
              "queued_time": "2024-06-16T05:57:42.56283Z",
              "session_start_time": null,
              "execution_start_time": "2024-06-16T05:58:55.4950251Z",
              "execution_finish_time": "2024-06-16T05:58:55.6674458Z",
              "spark_jobs": null,
              "parent_msg_id": "280edc61-d8eb-45a5-8637-25fbb24c837e"
            },
            "text/plain": "StatementMeta(taxprocessing, 9, 65, Finished, Available)"
          },
          "metadata": {}
        }
      ],
      "execution_count": 146,
      "metadata": {
        "jupyter": {
          "source_hidden": false,
          "outputs_hidden": false
        },
        "nteract": {
          "transient": {
            "deleting": false
          }
        }
      }
    },
    {
      "cell_type": "code",
      "source": [
        "tax_per_transaction_r.printSchema() "
      ],
      "outputs": [
        {
          "output_type": "display_data",
          "data": {
            "application/vnd.livy.statement-meta+json": {
              "spark_pool": "taxprocessing",
              "session_id": "9",
              "statement_id": 66,
              "statement_ids": [
                66
              ],
              "state": "finished",
              "livy_statement_state": "available",
              "queued_time": "2024-06-16T05:57:42.8473762Z",
              "session_start_time": null,
              "execution_start_time": "2024-06-16T05:58:55.8070506Z",
              "execution_finish_time": "2024-06-16T05:58:55.9813855Z",
              "spark_jobs": null,
              "parent_msg_id": "0afe57d8-fcb3-4735-9434-943cbfb4bd04"
            },
            "text/plain": "StatementMeta(taxprocessing, 9, 66, Finished, Available)"
          },
          "metadata": {}
        },
        {
          "output_type": "stream",
          "name": "stdout",
          "text": [
            "root\n |-- customer_id: string (nullable = true)\n |-- Sales: float (nullable = true)\n |-- attributes: string (nullable = true)\n\n"
          ]
        }
      ],
      "execution_count": 147,
      "metadata": {
        "jupyter": {
          "source_hidden": false,
          "outputs_hidden": false
        },
        "nteract": {
          "transient": {
            "deleting": false
          }
        }
      }
    },
    {
      "cell_type": "code",
      "source": [
        "tax_per_transaction_r.show(truncate=False) "
      ],
      "outputs": [
        {
          "output_type": "display_data",
          "data": {
            "application/vnd.livy.statement-meta+json": {
              "spark_pool": "taxprocessing",
              "session_id": "9",
              "statement_id": 67,
              "statement_ids": [
                67
              ],
              "state": "finished",
              "livy_statement_state": "available",
              "queued_time": "2024-06-16T05:57:43.1308438Z",
              "session_start_time": null,
              "execution_start_time": "2024-06-16T05:58:56.1343603Z",
              "execution_finish_time": "2024-06-16T05:58:56.7019644Z",
              "spark_jobs": null,
              "parent_msg_id": "f4670d51-b927-4e27-b27b-a70b3ecf6c2a"
            },
            "text/plain": "StatementMeta(taxprocessing, 9, 67, Finished, Available)"
          },
          "metadata": {}
        },
        {
          "output_type": "stream",
          "name": "stdout",
          "text": [
            "+-----------+---------+------------------------------------------------------------------+\n|customer_id|Sales    |attributes                                                        |\n+-----------+---------+------------------------------------------------------------------+\n|K-12722    |282.59998|{'product_category': 'Furniture', 'sub_category': 'Furnishings'}  |\n|K-12722    |32.04    |{'product_category': 'Office Supplies', 'sub_category': 'Art'}    |\n|K-12722    |329.76   |{'product_category': 'Technology', 'sub_category': 'Phones'}      |\n|WB-64368   |81.7     |{'product_category': 'Office Supplies', 'sub_category': 'Binders'}|\n|WB-64368   |728.82   |{'product_category': 'Office Supplies', 'sub_category': 'Labels'} |\n|WB-64368   |64.8     |{'product_category': 'Office Supplies', 'sub_category': 'Paper'}  |\n|J-14825    |13.494   |{'product_category': 'Furniture', 'sub_category': 'Bookcases'}    |\n|J-14825    |36.672   |{'product_category': 'Technology', 'sub_category': 'Machines'}    |\n|J-14825    |383.2    |{'product_category': 'Office Supplies', 'sub_category': 'Paper'}  |\n|J-14825    |217.472  |{'product_category': 'Office Supplies', 'sub_category': 'Art'}    |\n|J-14825    |22.08    |{'product_category': 'Furniture', 'sub_category': 'Furnishings'}  |\n|A-30388    |28.223999|{'product_category': 'Furniture', 'sub_category': 'Chairs'}       |\n|A-30388    |1126.48  |{'product_category': 'Office Supplies', 'sub_category': 'Binders'}|\n|A-30388    |151.72499|{'product_category': 'Furniture', 'sub_category': 'Bookcases'}    |\n|AP-31244   |98.8     |{'product_category': 'Furniture', 'sub_category': 'Tables'}       |\n|AP-31244   |30.8     |{'product_category': 'Technology', 'sub_category': 'Phones'}      |\n|AP-31244   |1463.88  |{'product_category': 'Technology', 'sub_category': 'Accessories'} |\n|AP-31244   |3357.72  |{'product_category': 'Technology', 'sub_category': 'Machines'}    |\n|K-79252    |485.82   |{'product_category': 'Office Supplies', 'sub_category': 'Binders'}|\n|K-79252    |620.973  |{'product_category': 'Technology', 'sub_category': 'Phones'}      |\n+-----------+---------+------------------------------------------------------------------+\nonly showing top 20 rows\n\n"
          ]
        }
      ],
      "execution_count": 148,
      "metadata": {
        "jupyter": {
          "source_hidden": false,
          "outputs_hidden": false
        },
        "nteract": {
          "transient": {
            "deleting": false
          }
        }
      }
    },
    {
      "cell_type": "code",
      "source": [
        "StructTypeSchema_r = StructType([\r\n",
        "    StructField(\"product_category\", StringType(), True),  # Optional field\r\n",
        "    StructField(\"sub_category\", StringType(), True)      # Optional field\r\n",
        "])\r\n",
        "tax_per_transaction_r = tax_per_transaction_r.withColumn('propStruct', from_json(tax_per_transaction_r.attributes,StructTypeSchema_r))\r\n",
        "\r\n",
        "tax_per_transaction_r = tax_per_transaction_r.select(\"customer_id\",\"Sales\",\"propStruct.product_category\",\"propStruct.sub_category\")\r\n",
        "\r\n",
        "tax_per_transaction_r.show() "
      ],
      "outputs": [
        {
          "output_type": "display_data",
          "data": {
            "application/vnd.livy.statement-meta+json": {
              "spark_pool": "taxprocessing",
              "session_id": "9",
              "statement_id": 68,
              "statement_ids": [
                68
              ],
              "state": "finished",
              "livy_statement_state": "available",
              "queued_time": "2024-06-16T05:57:44.0972908Z",
              "session_start_time": null,
              "execution_start_time": "2024-06-16T05:58:56.8821207Z",
              "execution_finish_time": "2024-06-16T05:58:57.513741Z",
              "spark_jobs": null,
              "parent_msg_id": "6cec4f06-9086-47d7-9712-556f93ae9304"
            },
            "text/plain": "StatementMeta(taxprocessing, 9, 68, Finished, Available)"
          },
          "metadata": {}
        },
        {
          "output_type": "stream",
          "name": "stdout",
          "text": [
            "+-----------+---------+----------------+------------+\n|customer_id|    Sales|product_category|sub_category|\n+-----------+---------+----------------+------------+\n|    K-12722|282.59998|       Furniture| Furnishings|\n|    K-12722|    32.04| Office Supplies|         Art|\n|    K-12722|   329.76|      Technology|      Phones|\n|   WB-64368|     81.7| Office Supplies|     Binders|\n|   WB-64368|   728.82| Office Supplies|      Labels|\n|   WB-64368|     64.8| Office Supplies|       Paper|\n|    J-14825|   13.494|       Furniture|   Bookcases|\n|    J-14825|   36.672|      Technology|    Machines|\n|    J-14825|    383.2| Office Supplies|       Paper|\n|    J-14825|  217.472| Office Supplies|         Art|\n|    J-14825|    22.08|       Furniture| Furnishings|\n|    A-30388|28.223999|       Furniture|      Chairs|\n|    A-30388|  1126.48| Office Supplies|     Binders|\n|    A-30388|151.72499|       Furniture|   Bookcases|\n|   AP-31244|     98.8|       Furniture|      Tables|\n|   AP-31244|     30.8|      Technology|      Phones|\n|   AP-31244|  1463.88|      Technology| Accessories|\n|   AP-31244|  3357.72|      Technology|    Machines|\n|    K-79252|   485.82| Office Supplies|     Binders|\n|    K-79252|  620.973|      Technology|      Phones|\n+-----------+---------+----------------+------------+\nonly showing top 20 rows\n\n"
          ]
        }
      ],
      "execution_count": 149,
      "metadata": {
        "jupyter": {
          "source_hidden": false,
          "outputs_hidden": false
        },
        "nteract": {
          "transient": {
            "deleting": false
          }
        }
      }
    },
    {
      "cell_type": "code",
      "source": [
        "tax_per_transaction_r = tax_per_transaction_r.groupBy(col('customer_id'),col('product_category')).agg(sum(col('Sales')).alias(\"Total Sales per category\")).orderBy(col('customer_id'))\r\n",
        "\r\n",
        "tax_per_transaction_r.show()"
      ],
      "outputs": [
        {
          "output_type": "display_data",
          "data": {
            "application/vnd.livy.statement-meta+json": {
              "spark_pool": "taxprocessing",
              "session_id": "9",
              "statement_id": 69,
              "statement_ids": [
                69
              ],
              "state": "finished",
              "livy_statement_state": "available",
              "queued_time": "2024-06-16T05:57:45.0816285Z",
              "session_start_time": null,
              "execution_start_time": "2024-06-16T05:58:57.6608354Z",
              "execution_finish_time": "2024-06-16T05:58:59.6193641Z",
              "spark_jobs": null,
              "parent_msg_id": "554c2236-7ce6-4bb3-a141-a9c1b5017c86"
            },
            "text/plain": "StatementMeta(taxprocessing, 9, 69, Finished, Available)"
          },
          "metadata": {}
        },
        {
          "output_type": "stream",
          "name": "stdout",
          "text": [
            "+-----------+----------------+------------------------+\n|customer_id|product_category|Total Sales per category|\n+-----------+----------------+------------------------+\n|    A-10042|       Furniture|      1967.9759826660156|\n|    A-10054| Office Supplies|      1766.5380601882935|\n|    A-10110|      Technology|       47.20800018310547|\n|    A-10110| Office Supplies|      2754.0660400390625|\n|    A-10110|       Furniture|      297.40802001953125|\n|    A-10238| Office Supplies|       437.8879985809326|\n|    A-10238|       Furniture|       627.2640218734741|\n|    A-10281| Office Supplies|       72.03000354766846|\n|    A-10329|       Furniture|      238.72000122070312|\n|    A-10329| Office Supplies|      1121.8600788116455|\n|    A-10330|       Furniture|      19.440000534057617|\n|    A-10330| Office Supplies|       1703.531979560852|\n|    A-10369|       Furniture|       459.6000061035156|\n|    A-10369| Office Supplies|      3348.1079711914062|\n|    A-10415| Office Supplies|      1032.9600296020508|\n|    A-10421| Office Supplies|      59.256004333496094|\n|    A-10421|       Furniture|        1526.56005859375|\n|    A-10449| Office Supplies|       28.54400062561035|\n|    A-10449|      Technology|       825.0520172119141|\n|    A-10449|       Furniture|                  1599.5|\n+-----------+----------------+------------------------+\nonly showing top 20 rows\n\n"
          ]
        }
      ],
      "execution_count": 150,
      "metadata": {
        "jupyter": {
          "source_hidden": false,
          "outputs_hidden": false
        },
        "nteract": {
          "transient": {
            "deleting": false
          }
        }
      }
    },
    {
      "cell_type": "code",
      "source": [
        "pivot_df = tax_per_transaction_r.groupBy(\"customer_id\") \\\r\n",
        "    .pivot(\"product_category\") \\\r\n",
        "    .agg(sum(col(\"Total Sales per category\"))).fillna(0).withColumn(\"Total Sales\", expr('`Furniture` + `Office Supplies` + `Technology`'))\r\n",
        "\r\n",
        "pivot_df.show() "
      ],
      "outputs": [
        {
          "output_type": "display_data",
          "data": {
            "application/vnd.livy.statement-meta+json": {
              "spark_pool": "taxprocessing",
              "session_id": "9",
              "statement_id": 70,
              "statement_ids": [
                70
              ],
              "state": "finished",
              "livy_statement_state": "available",
              "queued_time": "2024-06-16T05:57:46.0907219Z",
              "session_start_time": null,
              "execution_start_time": "2024-06-16T05:58:59.7640052Z",
              "execution_finish_time": "2024-06-16T05:59:05.6666847Z",
              "spark_jobs": null,
              "parent_msg_id": "65c445eb-0e5f-49a0-8a8e-3edc711221ae"
            },
            "text/plain": "StatementMeta(taxprocessing, 9, 70, Finished, Available)"
          },
          "metadata": {}
        },
        {
          "output_type": "stream",
          "name": "stdout",
          "text": [
            "+-----------+------------------+------------------+------------------+------------------+\n|customer_id|         Furniture|   Office Supplies|        Technology|       Total Sales|\n+-----------+------------------+------------------+------------------+------------------+\n|    A-10042|1967.9759826660156|               0.0|               0.0|1967.9759826660156|\n|    A-10054|               0.0|1766.5380601882935|               0.0|1766.5380601882935|\n|    A-10110|297.40802001953125|2754.0660400390625| 47.20800018310547| 3098.682060241699|\n|    A-10238| 627.2640218734741| 437.8879985809326|               0.0|1065.1520204544067|\n|    A-10281|               0.0| 72.03000354766846|               0.0| 72.03000354766846|\n|    A-10329|238.72000122070312|1121.8600788116455|               0.0|1360.5800800323486|\n|    A-10330|19.440000534057617| 1703.531979560852|               0.0|1722.9719800949097|\n|    A-10369| 459.6000061035156|3348.1079711914062|               0.0| 3807.707977294922|\n|    A-10415|               0.0|1032.9600296020508|               0.0|1032.9600296020508|\n|    A-10421|  1526.56005859375|59.256004333496094|               0.0| 1585.816062927246|\n|    A-10449|            1599.5| 28.54400062561035| 825.0520172119141|2453.0960178375244|\n|    A-10758| 79.04000091552734| 707.7699890136719| 538.8919944763184|1325.7019844055176|\n|    A-10828|             756.0|               0.0|   2518.2900390625|   3274.2900390625|\n|    A-10832| 549.7999877929688|1059.5819854736328|               0.0|1609.3819732666016|\n|    A-10834| 275.8800048828125|  481.403995513916|               0.0| 757.2840003967285|\n|    A-10851|  2079.98388671875|               0.0|10.272000312805176| 2090.255887031555|\n|    A-10888|1037.4000244140625| 1134.711992263794|               0.0|2172.1120166778564|\n|    A-10923|  631.552001953125|      18199.859375|               0.0|18831.411376953125|\n|    A-10927|               0.0| 494.3760070800781|  774.432014465332|1268.8080215454102|\n|    A-10930| 967.7000122070312|               0.0|18.496000289916992| 986.1960124969482|\n+-----------+------------------+------------------+------------------+------------------+\nonly showing top 20 rows\n\n"
          ]
        }
      ],
      "execution_count": 151,
      "metadata": {
        "jupyter": {
          "source_hidden": false,
          "outputs_hidden": false
        },
        "nteract": {
          "transient": {
            "deleting": false
          }
        }
      }
    },
    {
      "cell_type": "code",
      "source": [
        "pivot_df.printSchema()"
      ],
      "outputs": [
        {
          "output_type": "display_data",
          "data": {
            "application/vnd.livy.statement-meta+json": {
              "spark_pool": "taxprocessing",
              "session_id": "9",
              "statement_id": 71,
              "statement_ids": [
                71
              ],
              "state": "finished",
              "livy_statement_state": "available",
              "queued_time": "2024-06-16T05:57:47.0835875Z",
              "session_start_time": null,
              "execution_start_time": "2024-06-16T05:59:05.8025827Z",
              "execution_finish_time": "2024-06-16T05:59:05.9816052Z",
              "spark_jobs": null,
              "parent_msg_id": "ad733aff-fea7-4f2b-9b76-c9bff0961718"
            },
            "text/plain": "StatementMeta(taxprocessing, 9, 71, Finished, Available)"
          },
          "metadata": {}
        },
        {
          "output_type": "stream",
          "name": "stdout",
          "text": [
            "root\n |-- customer_id: string (nullable = true)\n |-- Furniture: double (nullable = false)\n |-- Office Supplies: double (nullable = false)\n |-- Technology: double (nullable = false)\n |-- Total Sales: double (nullable = false)\n\n"
          ]
        }
      ],
      "execution_count": 152,
      "metadata": {
        "jupyter": {
          "source_hidden": false,
          "outputs_hidden": false
        },
        "nteract": {
          "transient": {
            "deleting": false
          }
        }
      }
    },
    {
      "cell_type": "markdown",
      "source": [
        "#### highperforming vs lowperforming demographics"
      ],
      "metadata": {
        "nteract": {
          "transient": {
            "deleting": false
          }
        }
      }
    },
    {
      "cell_type": "code",
      "source": [
        "data1 = tax_per_transaction.select(\"customer_id\",\"Sales\",\"total_tax_amount\")"
      ],
      "outputs": [
        {
          "output_type": "display_data",
          "data": {
            "application/vnd.livy.statement-meta+json": {
              "spark_pool": "taxprocessing",
              "session_id": "9",
              "statement_id": 72,
              "statement_ids": [
                72
              ],
              "state": "finished",
              "livy_statement_state": "available",
              "queued_time": "2024-06-16T05:57:49.9152619Z",
              "session_start_time": null,
              "execution_start_time": "2024-06-16T05:59:06.1231963Z",
              "execution_finish_time": "2024-06-16T05:59:06.2963089Z",
              "spark_jobs": null,
              "parent_msg_id": "7260fd7b-27e9-4ada-8e1a-b17ecadc7ca5"
            },
            "text/plain": "StatementMeta(taxprocessing, 9, 72, Finished, Available)"
          },
          "metadata": {}
        }
      ],
      "execution_count": 153,
      "metadata": {
        "jupyter": {
          "source_hidden": false,
          "outputs_hidden": false
        },
        "nteract": {
          "transient": {
            "deleting": false
          }
        }
      }
    },
    {
      "cell_type": "code",
      "source": [
        "data2 = customers_df.select(\"customer_id\",\"geographic_region\")"
      ],
      "outputs": [
        {
          "output_type": "display_data",
          "data": {
            "application/vnd.livy.statement-meta+json": {
              "spark_pool": "taxprocessing",
              "session_id": "9",
              "statement_id": 73,
              "statement_ids": [
                73
              ],
              "state": "finished",
              "livy_statement_state": "available",
              "queued_time": "2024-06-16T05:58:03.4451456Z",
              "session_start_time": null,
              "execution_start_time": "2024-06-16T05:59:06.4429034Z",
              "execution_finish_time": "2024-06-16T05:59:06.6171862Z",
              "spark_jobs": null,
              "parent_msg_id": "c93c27ae-66de-4600-9c29-3e95e43ef08b"
            },
            "text/plain": "StatementMeta(taxprocessing, 9, 73, Finished, Available)"
          },
          "metadata": {}
        }
      ],
      "execution_count": 154,
      "metadata": {
        "jupyter": {
          "source_hidden": false,
          "outputs_hidden": false
        },
        "nteract": {
          "transient": {
            "deleting": false
          }
        }
      }
    },
    {
      "cell_type": "code",
      "source": [
        "demographics_sales = data1.join(data2, how=\"inner\", on=[\"customer_id\"]).select(data1[\"*\"], data2[\"geographic_region\"])\r\n",
        "\r\n",
        "demographics_sales = demographics_sales.groupBy(\"customer_id\",\"geographic_region\").agg(sum('Sales').alias('Total Sales'), sum('total_tax_amount').alias('Total tax collected'))\r\n",
        "demographics_sales.drop(\"customer_id\")\r\n",
        "demographics_sales.show(50)"
      ],
      "outputs": [
        {
          "output_type": "display_data",
          "data": {
            "application/vnd.livy.statement-meta+json": {
              "spark_pool": "taxprocessing",
              "session_id": "9",
              "statement_id": 74,
              "statement_ids": [
                74
              ],
              "state": "finished",
              "livy_statement_state": "available",
              "queued_time": "2024-06-16T05:58:06.6757363Z",
              "session_start_time": null,
              "execution_start_time": "2024-06-16T05:59:06.7874789Z",
              "execution_finish_time": "2024-06-16T05:59:08.7385073Z",
              "spark_jobs": null,
              "parent_msg_id": "00fb2a90-6d99-41ae-adbe-59f296bebf56"
            },
            "text/plain": "StatementMeta(taxprocessing, 9, 74, Finished, Available)"
          },
          "metadata": {}
        },
        {
          "output_type": "stream",
          "name": "stdout",
          "text": [
            "+-----------+-----------------+------------------+-------------------+\n|customer_id|geographic_region|       Total Sales|Total tax collected|\n+-----------+-----------------+------------------+-------------------+\n|    M-72432|        Rajasthan| 63.35999870300293|  33.11345924713181|\n|    R-53585|            Assam| 3299.672128677368| 40.635079408158276|\n|    J-55369|        Telangana|   1652.5439453125| 100.44100867579893|\n|    R-72093| Himachal Pradesh| 586.1354942321777| 24.827707497535037|\n|    K-56609|     Chhattisgarh| 127.0719985961914| 14.351543573377088|\n|    S-79120| Himachal Pradesh| 9833.162036895752|  57.67152744558103|\n|   TN-40501|        Rajasthan|  13157.3638215065|   74.5063380871759|\n|   AP-20963|      Maharashtra| 584.3720264434814| 26.671191259163088|\n|    K-36818|    Uttar Pradesh|3535.6358394622803|  56.80041557675721|\n|    C-53437|         Nagaland| 7229.258033752441|  37.51268749332313|\n|    O-20893|        Karnataka|2627.2899436950684| 106.61434420029298|\n|    O-14099|           Punjab|120.79399490356445|  9.299536389404798|\n|    T-58790|        Rajasthan| 3030.703971862793|  45.12898802029322|\n|    R-17908|        Jharkhand| 42.86000108718872| 16.920592280182696|\n|    M-88230|           Kerala|5207.9100914001465| 113.87797271306627|\n|   HP-12628|            Assam| 1450.479995727539|  44.40794968769019|\n|    M-59719|         Nagaland|  9545.15990447998|  64.21133383449336|\n|   UP-38992|   Andhra Pradesh| 930.9199905395508| 16.121294827132967|\n|   UP-37729|      West Bengal|1159.3979759216309| 49.509045373823994|\n|   AP-51255|        Karnataka| 972.7359757423401|  27.48584490009617|\n|    K-44117|        Rajasthan| 1609.471975326538|  60.84254406538388|\n|   AP-96031|        Rajasthan|1109.6739902496338|  45.68932186973375|\n|    A-78310|        Rajasthan| 574.7840118408203| 34.683796669018626|\n|    U-45760|           Sikkim| 716.0499839782715|  53.14161800552738|\n|    M-35958|        Telangana| 829.9899854660034|  56.78955306978847|\n|    P-83483|      West Bengal| 354.8560085296631| 18.727955026614463|\n|    H-28214|      West Bengal| 1747.480037689209|  37.00798374514726|\n|    J-43492|      Uttarakhand|1117.8399810791016|  34.74324558141433|\n|   TN-17021|              Goa| 441.6000061035156|  31.57655176945746|\n|    A-22608|        Meghalaya|5276.1159591674805|  92.41222668653523|\n|    M-19302|          Gujarat|1998.6559715270996| 43.300311301734624|\n|    J-42129|        Karnataka|1373.4600105285645|  82.18071019320193|\n|   AP-38714|        Telangana| 595.7800064086914| 52.060200027292844|\n|    N-28916|    Uttar Pradesh|2060.4481263160706|  18.01216942002836|\n|    T-86385|            Bihar|2044.4060344696045|  80.82416342272577|\n|    M-86143|           Odisha| 2719.300037384033| 52.989369909703925|\n|    M-92816|    Uttar Pradesh| 70.58399963378906| 2.7126021470053177|\n|    M-58009|            Assam| 461.9760208129883|  8.064752484832027|\n|    K-75683|    Uttar Pradesh|492.10398864746094| 36.456686552908856|\n|    R-13291|      Maharashtra|131.59199380874634| 41.310062419723934|\n|   WB-83150|        Rajasthan|272.69600677490234| 17.363643964409892|\n|    C-25424|        Meghalaya| 4188.599884033203|  86.86651147482034|\n|   AP-72926|        Meghalaya| 6081.956003189087| 62.921408135234415|\n|    N-27939|          Gujarat| 1861.768051147461| 52.970259903758915|\n|    T-88690|        Telangana|1162.7680015563965| 59.600800203103475|\n|    M-52866|       Tamil Nadu|1886.5659475326538| 34.855407338911604|\n|    G-29345|        Rajasthan|1167.8099975585938|  6.361887534841362|\n|    A-77742|    Uttar Pradesh| 670.8500137329102| 22.852589048194375|\n|    C-28802|          Haryana|506.56199836730957|  45.19304451540752|\n|    U-43686|        Rajasthan|186.90199661254883| 57.685402278816056|\n+-----------+-----------------+------------------+-------------------+\nonly showing top 50 rows\n\n"
          ]
        }
      ],
      "execution_count": 155,
      "metadata": {
        "jupyter": {
          "source_hidden": false,
          "outputs_hidden": false
        },
        "nteract": {
          "transient": {
            "deleting": false
          }
        }
      }
    },
    {
      "cell_type": "code",
      "source": [
        "# demographics_sales.drop('customer_id')\r\n",
        "high_performing_region = demographics_sales.orderBy(desc(\"Total Sales\"),desc(\"Total tax collected\")).limit(5).withColumn(\"Performance\", lit(\"High Performing\")).select(\"geographic_region\",\"Performance\")\r\n",
        "low_performing_region = demographics_sales.orderBy(asc(\"Total Sales\"),asc(\"Total tax collected\")).limit(5).withColumn(\"Performance\", lit(\"Low Performing\")).select(\"geographic_region\",\"Performance\") "
      ],
      "outputs": [
        {
          "output_type": "display_data",
          "data": {
            "application/vnd.livy.statement-meta+json": {
              "spark_pool": "taxprocessing",
              "session_id": "9",
              "statement_id": 75,
              "statement_ids": [
                75
              ],
              "state": "finished",
              "livy_statement_state": "available",
              "queued_time": "2024-06-16T05:58:08.0508434Z",
              "session_start_time": null,
              "execution_start_time": "2024-06-16T05:59:08.8866161Z",
              "execution_finish_time": "2024-06-16T05:59:09.0697974Z",
              "spark_jobs": null,
              "parent_msg_id": "b97bf048-e6af-475d-a136-1af63c8b3a2d"
            },
            "text/plain": "StatementMeta(taxprocessing, 9, 75, Finished, Available)"
          },
          "metadata": {}
        }
      ],
      "execution_count": 156,
      "metadata": {
        "jupyter": {
          "source_hidden": false,
          "outputs_hidden": false
        },
        "nteract": {
          "transient": {
            "deleting": false
          }
        }
      }
    },
    {
      "cell_type": "code",
      "source": [
        "high_performing_region.show()\r\n",
        "low_performing_region.show() "
      ],
      "outputs": [
        {
          "output_type": "display_data",
          "data": {
            "application/vnd.livy.statement-meta+json": {
              "spark_pool": "taxprocessing",
              "session_id": "9",
              "statement_id": 76,
              "statement_ids": [
                76
              ],
              "state": "finished",
              "livy_statement_state": "available",
              "queued_time": "2024-06-16T05:58:08.5818593Z",
              "session_start_time": null,
              "execution_start_time": "2024-06-16T05:59:09.2073952Z",
              "execution_finish_time": "2024-06-16T05:59:13.3086069Z",
              "spark_jobs": null,
              "parent_msg_id": "a41274fb-3962-42be-b5a0-6736ac864691"
            },
            "text/plain": "StatementMeta(taxprocessing, 9, 76, Finished, Available)"
          },
          "metadata": {}
        },
        {
          "output_type": "stream",
          "name": "stdout",
          "text": [
            "+-----------------+---------------+\n|geographic_region|    Performance|\n+-----------------+---------------+\n|      Maharashtra|High Performing|\n|        Telangana|High Performing|\n|          Haryana|High Performing|\n|   Andhra Pradesh|High Performing|\n|      Uttarakhand|High Performing|\n+-----------------+---------------+\n\n+-----------------+--------------+\n|geographic_region|   Performance|\n+-----------------+--------------+\n|           Kerala|Low Performing|\n|        Rajasthan|Low Performing|\n|        Rajasthan|Low Performing|\n|           Odisha|Low Performing|\n|    Uttar Pradesh|Low Performing|\n+-----------------+--------------+\n\n"
          ]
        }
      ],
      "execution_count": 157,
      "metadata": {
        "jupyter": {
          "source_hidden": false,
          "outputs_hidden": false
        },
        "nteract": {
          "transient": {
            "deleting": false
          }
        }
      }
    },
    {
      "cell_type": "code",
      "source": [
        "# products_df\r\n",
        "# transactions_df\r\n",
        "# customers_df\r\n",
        "# tax_per_transaction\r\n",
        "# tax_sales_per_day\r\n",
        "# CLV\r\n",
        "# products_performance\r\n",
        "# pp_wrt_category\r\n",
        "# discounted_df \r\n",
        "# Refunds_data_adjust\r\n",
        "# Tax_bracket_analysis\r\n",
        "# seasonal_non_seasonal_prom\r\n",
        "# pivot_df\r\n",
        "\r\n",
        "# Example for transactions_df\r\n",
        "# transactions_df.write.csv('abfss://mycontainer@adlsgen21507.dfs.core.windows.net/Final_Output/transactions_df.csv', header=True)\r\n",
        "\r\n",
        "# Example for customers_df\r\n",
        "# customers_df.write.csv('abfss://mycontainer@adlsgen21507.dfs.core.windows.net/Final_Output/customers_df.csv', header=True)\r\n",
        "\r\n"
      ],
      "outputs": [
        {
          "output_type": "display_data",
          "data": {
            "application/vnd.livy.statement-meta+json": {
              "spark_pool": "taxprocessing",
              "session_id": "9",
              "statement_id": 77,
              "statement_ids": [
                77
              ],
              "state": "finished",
              "livy_statement_state": "available",
              "queued_time": "2024-06-16T05:58:09.7093179Z",
              "session_start_time": null,
              "execution_start_time": "2024-06-16T05:59:13.4382595Z",
              "execution_finish_time": "2024-06-16T05:59:13.6035291Z",
              "spark_jobs": null,
              "parent_msg_id": "5899e328-3a9b-49bf-afcd-99ba7924dea9"
            },
            "text/plain": "StatementMeta(taxprocessing, 9, 77, Finished, Available)"
          },
          "metadata": {}
        }
      ],
      "execution_count": 158,
      "metadata": {
        "jupyter": {
          "source_hidden": false,
          "outputs_hidden": false
        },
        "nteract": {
          "transient": {
            "deleting": false
          }
        }
      }
    },
    {
      "cell_type": "code",
      "source": [
        "# # Example for tax_per_transaction\r\n",
        "# tax_per_transaction.write.csv('abfss://mycontainer@adlsgen21507.dfs.core.windows.net/Final_Output/tax_per_transaction.csv', header=True)\r\n",
        "\r\n",
        "# Example for tax_sales_per_day\r\n",
        "# tax_sales_per_day.write.csv('abfss://mycontainer@adlsgen21507.dfs.core.windows.net/Final_Output/tax_sales_per_day.csv', header=True)\r\n",
        "\r\n"
      ],
      "outputs": [
        {
          "output_type": "display_data",
          "data": {
            "application/vnd.livy.statement-meta+json": {
              "spark_pool": "taxprocessing",
              "session_id": "9",
              "statement_id": 78,
              "statement_ids": [
                78
              ],
              "state": "finished",
              "livy_statement_state": "available",
              "queued_time": "2024-06-16T05:58:10.9929675Z",
              "session_start_time": null,
              "execution_start_time": "2024-06-16T05:59:13.7694127Z",
              "execution_finish_time": "2024-06-16T05:59:13.9487909Z",
              "spark_jobs": null,
              "parent_msg_id": "b4fb2939-ac88-4015-9b6b-8f4be96c479d"
            },
            "text/plain": "StatementMeta(taxprocessing, 9, 78, Finished, Available)"
          },
          "metadata": {}
        }
      ],
      "execution_count": 159,
      "metadata": {
        "jupyter": {
          "source_hidden": false,
          "outputs_hidden": false
        },
        "nteract": {
          "transient": {
            "deleting": false
          }
        }
      }
    },
    {
      "cell_type": "code",
      "source": [
        "# # Example for CLV\r\n",
        "# CLV.write.csv('abfss://mycontainer@adlsgen21507.dfs.core.windows.net/Final_Output/CLV.csv', header=True)\r\n",
        "\r\n"
      ],
      "outputs": [
        {
          "output_type": "display_data",
          "data": {
            "application/vnd.livy.statement-meta+json": {
              "spark_pool": "taxprocessing",
              "session_id": "9",
              "statement_id": 79,
              "statement_ids": [
                79
              ],
              "state": "finished",
              "livy_statement_state": "available",
              "queued_time": "2024-06-16T05:58:11.5239522Z",
              "session_start_time": null,
              "execution_start_time": "2024-06-16T05:59:14.0880267Z",
              "execution_finish_time": "2024-06-16T05:59:14.2710918Z",
              "spark_jobs": null,
              "parent_msg_id": "634007dc-40bb-4b86-8309-8c5a90b56fc1"
            },
            "text/plain": "StatementMeta(taxprocessing, 9, 79, Finished, Available)"
          },
          "metadata": {}
        }
      ],
      "execution_count": 160,
      "metadata": {
        "jupyter": {
          "source_hidden": false,
          "outputs_hidden": false
        },
        "nteract": {
          "transient": {
            "deleting": false
          }
        }
      }
    },
    {
      "cell_type": "code",
      "source": [
        "# # Example for products_performance\r\n",
        "# products_performance.write.csv('abfss://mycontainer@adlsgen21507.dfs.core.windows.net/Final_Output/products_performance.csv', header=True)\r\n",
        "\r\n",
        "# # Example for pp_wrt_category\r\n",
        "# pp_wrt_category.write.csv('abfss://mycontainer@adlsgen21507.dfs.core.windows.net/Final_Output/pp_wrt_category.csv', header=True)\r\n",
        "\r\n",
        "# # Example for discounted_df\r\n",
        "# discounted_df.write.csv('abfss://mycontainer@adlsgen21507.dfs.core.windows.net/Final_Output/discounted_df.csv', header=True)\r\n",
        "\r\n",
        "# # Example for Refunds_data_adjust\r\n",
        "# Refunds_data_adjust.write.csv('abfss://mycontainer@adlsgen21507.dfs.core.windows.net/Final_Output/Refunds_data_adjust.csv', header=True)\r\n",
        "\r\n",
        "# # Example for Tax_bracket_analysis\r\n",
        "# Tax_bracket_analysis.write.csv('abfss://mycontainer@adlsgen21507.dfs.core.windows.net/Final_Output/Tax_bracket_analysis.csv', header=True)\r\n",
        "\r\n",
        "# # Example for seasonal_non_seasonal_prom\r\n",
        "# seasonal_non_seasonal_prom.write.csv('abfss://mycontainer@adlsgen21507.dfs.core.windows.net/Final_Output/seasonal_non_seasonal_prom.csv', header=True)\r\n",
        "\r\n",
        "# # Example for pivot_df\r\n",
        "# pivot_df.write.csv('abfss://mycontainer@adlsgen21507.dfs.core.windows.net/Final_Output/pivot_df.csv', header=True)"
      ],
      "outputs": [
        {
          "output_type": "display_data",
          "data": {
            "application/vnd.livy.statement-meta+json": {
              "spark_pool": "taxprocessing",
              "session_id": "9",
              "statement_id": 80,
              "statement_ids": [
                80
              ],
              "state": "finished",
              "livy_statement_state": "available",
              "queued_time": "2024-06-16T05:58:11.9475943Z",
              "session_start_time": null,
              "execution_start_time": "2024-06-16T05:59:14.4089166Z",
              "execution_finish_time": "2024-06-16T05:59:14.5907724Z",
              "spark_jobs": null,
              "parent_msg_id": "7a547dc7-36e2-4235-82ec-0ba2b8eb9fac"
            },
            "text/plain": "StatementMeta(taxprocessing, 9, 80, Finished, Available)"
          },
          "metadata": {}
        }
      ],
      "execution_count": 161,
      "metadata": {
        "jupyter": {
          "source_hidden": false,
          "outputs_hidden": false
        },
        "nteract": {
          "transient": {
            "deleting": false
          }
        }
      }
    },
    {
      "cell_type": "code",
      "source": [
        "tax_sales_per_day.coalesce(1).write.csv('abfss://mycontainer@adlsgen21507.dfs.core.windows.net/Final_Output/tax_sales_per_day', header=True)\r\n",
        "CLV.coalesce(1).write.csv('abfss://mycontainer@adlsgen21507.dfs.core.windows.net/Final_Output/CLV', header=True)\r\n",
        "products_performance.coalesce(1).write.csv('abfss://mycontainer@adlsgen21507.dfs.core.windows.net/Final_Output/products_performance', header=True)\r\n",
        "pp_wrt_category.coalesce(1).write.csv('abfss://mycontainer@adlsgen21507.dfs.core.windows.net/Final_Output/pp_wrt_category', header=True)\r\n",
        "discounted_df.coalesce(1).write.csv('abfss://mycontainer@adlsgen21507.dfs.core.windows.net/Final_Output/discounted_df', header=True)\r\n",
        "Refunds_data_adjust.coalesce(1).write.csv('abfss://mycontainer@adlsgen21507.dfs.core.windows.net/Final_Output/Refunds_data_adjust', header=True)\r\n",
        "Tax_bracket_analysis.coalesce(1).write.csv('abfss://mycontainer@adlsgen21507.dfs.core.windows.net/Final_Output/Tax_bracket_analysis', header=True)\r\n",
        "seasonal_non_seasonal_prom.coalesce(1).write.csv('abfss://mycontainer@adlsgen21507.dfs.core.windows.net/Final_Output/seasonal_non_seasonal_prom', header=True)\r\n",
        "pivot_df.coalesce(1).write.csv('abfss://mycontainer@adlsgen21507.dfs.core.windows.net/Final_Output/pivot_df', header=True)"
      ],
      "outputs": [
        {
          "output_type": "display_data",
          "data": {
            "application/vnd.livy.statement-meta+json": {
              "spark_pool": "taxprocessing",
              "session_id": "9",
              "statement_id": 81,
              "statement_ids": [
                81
              ],
              "state": "finished",
              "livy_statement_state": "available",
              "queued_time": "2024-06-16T05:58:13.0096095Z",
              "session_start_time": null,
              "execution_start_time": "2024-06-16T05:59:14.7308636Z",
              "execution_finish_time": "2024-06-16T05:59:42.2269759Z",
              "spark_jobs": null,
              "parent_msg_id": "43bd7a58-81b5-47ee-afeb-713cb9ffc800"
            },
            "text/plain": "StatementMeta(taxprocessing, 9, 81, Finished, Available)"
          },
          "metadata": {}
        }
      ],
      "execution_count": 162,
      "metadata": {
        "jupyter": {
          "source_hidden": false,
          "outputs_hidden": false
        },
        "nteract": {
          "transient": {
            "deleting": false
          }
        }
      }
    },
    {
      "cell_type": "code",
      "source": [
        "jdbc_url = \"jdbc:sqlserver://ASUS-A15\\GOLD:1433;databaseName=tax_processing_data;\"\r\n",
        "table_name1 = \"tax_sales_per_day_tbl\"\r\n",
        "table_name2 = \"CLV_tbl\"\r\n",
        "table_name3 = \"products_performance_tbl\"\r\n",
        "connection_properties = {\r\n",
        "    \"user\": \"sa\",\r\n",
        "    \"password\": \"Aadil111\",\r\n",
        "    \"driver\": \"com.microsoft.sqlserver.jdbc.SQLServerDriver\"\r\n",
        "}\r\n",
        "\r\n",
        "# Write DataFrame df1 to SQL Server table\r\n",
        "tax_sales_per_day.write.jdbc(url=jdbc_url, table=table_name1, mode=\"overwrite\", properties=connection_properties)\r\n",
        "\r\n",
        "# Write DataFrame df2 to SQL Server table\r\n",
        "CLV.write.jdbc(url=jdbc_url, table=table_name2, mode=\"overwrite\", properties=connection_properties)\r\n",
        "\r\n",
        "# Write DataFrame df3 to SQL Server table\r\n",
        "products_performance.write.jdbc(url=jdbc_url, table=table_name3, mode=\"overwrite\", properties=connection_properties)"
      ],
      "outputs": [
        {
          "output_type": "display_data",
          "data": {
            "application/vnd.livy.statement-meta+json": {
              "spark_pool": "taxprocessing",
              "session_id": "9",
              "statement_id": 90,
              "statement_ids": [
                90
              ],
              "state": "finished",
              "livy_statement_state": "available",
              "queued_time": "2024-06-16T06:54:56.6643483Z",
              "session_start_time": null,
              "execution_start_time": "2024-06-16T06:54:56.860226Z",
              "execution_finish_time": "2024-06-16T06:55:11.8512308Z",
              "spark_jobs": null,
              "parent_msg_id": "cad34f12-4afb-460b-aea6-4af4b68e710e"
            },
            "text/plain": "StatementMeta(taxprocessing, 9, 90, Finished, Available)"
          },
          "metadata": {}
        },
        {
          "output_type": "error",
          "ename": "Py4JJavaError",
          "evalue": "An error occurred while calling o11647.jdbc.\n: com.microsoft.sqlserver.jdbc.SQLServerException: The TCP/IP connection to the host ASUS-A15, port 1433 has failed. Error: \"ASUS-A15. Verify the connection properties. Make sure that an instance of SQL Server is running on the host and accepting TCP/IP connections at the port. Make sure that TCP connections to the port are not blocked by a firewall.\".\n\tat com.microsoft.sqlserver.jdbc.SQLServerException.makeFromDriverError(SQLServerException.java:234)\n\tat com.microsoft.sqlserver.jdbc.SQLServerException.ConvertConnectExceptionToSQLServerException(SQLServerException.java:285)\n\tat com.microsoft.sqlserver.jdbc.SocketFinder.findSocket(IOBuffer.java:2462)\n\tat com.microsoft.sqlserver.jdbc.TDSChannel.open(IOBuffer.java:668)\n\tat com.microsoft.sqlserver.jdbc.SQLServerConnection.connectHelper(SQLServerConnection.java:2695)\n\tat com.microsoft.sqlserver.jdbc.SQLServerConnection.login(SQLServerConnection.java:2362)\n\tat com.microsoft.sqlserver.jdbc.SQLServerConnection.connectInternal(SQLServerConnection.java:2213)\n\tat com.microsoft.sqlserver.jdbc.SQLServerConnection.connect(SQLServerConnection.java:1276)\n\tat com.microsoft.sqlserver.jdbc.SQLServerDriver.connect(SQLServerDriver.java:861)\n\tat org.apache.spark.sql.execution.datasources.jdbc.connection.BasicConnectionProvider.getConnection(BasicConnectionProvider.scala:49)\n\tat org.apache.spark.sql.execution.datasources.jdbc.connection.ConnectionProviderBase.create(ConnectionProvider.scala:102)\n\tat org.apache.spark.sql.jdbc.JdbcDialect.$anonfun$createConnectionFactory$1(JdbcDialects.scala:123)\n\tat org.apache.spark.sql.jdbc.JdbcDialect.$anonfun$createConnectionFactory$1$adapted(JdbcDialects.scala:119)\n\tat org.apache.spark.sql.execution.datasources.jdbc.JdbcRelationProvider.createRelation(JdbcRelationProvider.scala:50)\n\tat org.apache.spark.sql.execution.datasources.SaveIntoDataSourceCommand.run(SaveIntoDataSourceCommand.scala:47)\n\tat org.apache.spark.sql.execution.command.ExecutedCommandExec.sideEffectResult$lzycompute(commands.scala:75)\n\tat org.apache.spark.sql.execution.command.ExecutedCommandExec.sideEffectResult(commands.scala:73)\n\tat org.apache.spark.sql.execution.command.ExecutedCommandExec.executeCollect(commands.scala:84)\n\tat org.apache.spark.sql.execution.QueryExecution$$anonfun$eagerlyExecuteCommands$1.$anonfun$applyOrElse$1(QueryExecution.scala:152)\n\tat org.apache.spark.sql.execution.SQLExecution$.$anonfun$withNewExecutionId$5(SQLExecution.scala:125)\n\tat org.apache.spark.sql.execution.SQLExecution$.withSQLConfPropagated(SQLExecution.scala:214)\n\tat org.apache.spark.sql.execution.SQLExecution$.$anonfun$withNewExecutionId$1(SQLExecution.scala:100)\n\tat org.apache.spark.sql.SparkSession.withActive(SparkSession.scala:827)\n\tat org.apache.spark.sql.execution.SQLExecution$.withNewExecutionId(SQLExecution.scala:67)\n\tat org.apache.spark.sql.execution.QueryExecution$$anonfun$eagerlyExecuteCommands$1.applyOrElse(QueryExecution.scala:152)\n\tat org.apache.spark.sql.execution.QueryExecution$$anonfun$eagerlyExecuteCommands$1.applyOrElse(QueryExecution.scala:145)\n\tat org.apache.spark.sql.catalyst.trees.TreeNode.$anonfun$transformDownWithPruning$1(TreeNode.scala:512)\n\tat org.apache.spark.sql.catalyst.trees.CurrentOrigin$.withOrigin(TreeNode.scala:104)\n\tat org.apache.spark.sql.catalyst.trees.TreeNode.transformDownWithPruning(TreeNode.scala:512)\n\tat org.apache.spark.sql.catalyst.plans.logical.LogicalPlan.org$apache$spark$sql$catalyst$plans$logical$AnalysisHelper$$super$transformDownWithPruning(LogicalPlan.scala:32)\n\tat org.apache.spark.sql.catalyst.plans.logical.AnalysisHelper.transformDownWithPruning(AnalysisHelper.scala:267)\n\tat org.apache.spark.sql.catalyst.plans.logical.AnalysisHelper.transformDownWithPruning$(AnalysisHelper.scala:263)\n\tat org.apache.spark.sql.catalyst.plans.logical.LogicalPlan.transformDownWithPruning(LogicalPlan.scala:32)\n\tat org.apache.spark.sql.catalyst.plans.logical.LogicalPlan.transformDownWithPruning(LogicalPlan.scala:32)\n\tat org.apache.spark.sql.catalyst.trees.TreeNode.transformDown(TreeNode.scala:488)\n\tat org.apache.spark.sql.execution.QueryExecution.eagerlyExecuteCommands(QueryExecution.scala:145)\n\tat org.apache.spark.sql.execution.QueryExecution.commandExecuted$lzycompute(QueryExecution.scala:129)\n\tat org.apache.spark.sql.execution.QueryExecution.commandExecuted(QueryExecution.scala:123)\n\tat org.apache.spark.sql.execution.QueryExecution.assertCommandExecuted(QueryExecution.scala:200)\n\tat org.apache.spark.sql.DataFrameWriter.runCommand(DataFrameWriter.scala:897)\n\tat org.apache.spark.sql.DataFrameWriter.saveToV1Source(DataFrameWriter.scala:412)\n\tat org.apache.spark.sql.DataFrameWriter.saveInternal(DataFrameWriter.scala:379)\n\tat org.apache.spark.sql.DataFrameWriter.save(DataFrameWriter.scala:249)\n\tat org.apache.spark.sql.DataFrameWriter.jdbc(DataFrameWriter.scala:794)\n\tat java.base/jdk.internal.reflect.NativeMethodAccessorImpl.invoke0(Native Method)\n\tat java.base/jdk.internal.reflect.NativeMethodAccessorImpl.invoke(NativeMethodAccessorImpl.java:62)\n\tat java.base/jdk.internal.reflect.DelegatingMethodAccessorImpl.invoke(DelegatingMethodAccessorImpl.java:43)\n\tat java.base/java.lang.reflect.Method.invoke(Method.java:566)\n\tat py4j.reflection.MethodInvoker.invoke(MethodInvoker.java:244)\n\tat py4j.reflection.ReflectionEngine.invoke(ReflectionEngine.java:374)\n\tat py4j.Gateway.invoke(Gateway.java:282)\n\tat py4j.commands.AbstractCommand.invokeMethod(AbstractCommand.java:132)\n\tat py4j.commands.CallCommand.execute(CallCommand.java:79)\n\tat py4j.GatewayConnection.run(GatewayConnection.java:238)\n\tat java.base/java.lang.Thread.run(Thread.java:829)\n",
          "traceback": [
            "\u001b[0;31m---------------------------------------------------------------------------\u001b[0m",
            "\u001b[0;31mPy4JJavaError\u001b[0m                             Traceback (most recent call last)",
            "Cell \u001b[0;32mIn[175], line 12\u001b[0m\n\u001b[1;32m      5\u001b[0m connection_properties \u001b[38;5;241m=\u001b[39m {\n\u001b[1;32m      6\u001b[0m     \u001b[38;5;124m\"\u001b[39m\u001b[38;5;124muser\u001b[39m\u001b[38;5;124m\"\u001b[39m: \u001b[38;5;124m\"\u001b[39m\u001b[38;5;124msa\u001b[39m\u001b[38;5;124m\"\u001b[39m,\n\u001b[1;32m      7\u001b[0m     \u001b[38;5;124m\"\u001b[39m\u001b[38;5;124mpassword\u001b[39m\u001b[38;5;124m\"\u001b[39m: \u001b[38;5;124m\"\u001b[39m\u001b[38;5;124mAadil111\u001b[39m\u001b[38;5;124m\"\u001b[39m,\n\u001b[1;32m      8\u001b[0m     \u001b[38;5;124m\"\u001b[39m\u001b[38;5;124mdriver\u001b[39m\u001b[38;5;124m\"\u001b[39m: \u001b[38;5;124m\"\u001b[39m\u001b[38;5;124mcom.microsoft.sqlserver.jdbc.SQLServerDriver\u001b[39m\u001b[38;5;124m\"\u001b[39m\n\u001b[1;32m      9\u001b[0m }\n\u001b[1;32m     11\u001b[0m \u001b[38;5;66;03m# Write DataFrame df1 to SQL Server table\u001b[39;00m\n\u001b[0;32m---> 12\u001b[0m \u001b[43mtax_sales_per_day\u001b[49m\u001b[38;5;241;43m.\u001b[39;49m\u001b[43mwrite\u001b[49m\u001b[38;5;241;43m.\u001b[39;49m\u001b[43mjdbc\u001b[49m\u001b[43m(\u001b[49m\u001b[43murl\u001b[49m\u001b[38;5;241;43m=\u001b[39;49m\u001b[43mjdbc_url\u001b[49m\u001b[43m,\u001b[49m\u001b[43m \u001b[49m\u001b[43mtable\u001b[49m\u001b[38;5;241;43m=\u001b[39;49m\u001b[43mtable_name1\u001b[49m\u001b[43m,\u001b[49m\u001b[43m \u001b[49m\u001b[43mmode\u001b[49m\u001b[38;5;241;43m=\u001b[39;49m\u001b[38;5;124;43m\"\u001b[39;49m\u001b[38;5;124;43moverwrite\u001b[39;49m\u001b[38;5;124;43m\"\u001b[39;49m\u001b[43m,\u001b[49m\u001b[43m \u001b[49m\u001b[43mproperties\u001b[49m\u001b[38;5;241;43m=\u001b[39;49m\u001b[43mconnection_properties\u001b[49m\u001b[43m)\u001b[49m\n\u001b[1;32m     14\u001b[0m \u001b[38;5;66;03m# Write DataFrame df2 to SQL Server table\u001b[39;00m\n\u001b[1;32m     15\u001b[0m CLV\u001b[38;5;241m.\u001b[39mwrite\u001b[38;5;241m.\u001b[39mjdbc(url\u001b[38;5;241m=\u001b[39mjdbc_url, table\u001b[38;5;241m=\u001b[39mtable_name2, mode\u001b[38;5;241m=\u001b[39m\u001b[38;5;124m\"\u001b[39m\u001b[38;5;124moverwrite\u001b[39m\u001b[38;5;124m\"\u001b[39m, properties\u001b[38;5;241m=\u001b[39mconnection_properties)\n",
            "File \u001b[0;32m/opt/spark/python/lib/pyspark.zip/pyspark/sql/readwriter.py:1919\u001b[0m, in \u001b[0;36mDataFrameWriter.jdbc\u001b[0;34m(self, url, table, mode, properties)\u001b[0m\n\u001b[1;32m   1917\u001b[0m \u001b[38;5;28;01mfor\u001b[39;00m k \u001b[38;5;129;01min\u001b[39;00m properties:\n\u001b[1;32m   1918\u001b[0m     jprop\u001b[38;5;241m.\u001b[39msetProperty(k, properties[k])\n\u001b[0;32m-> 1919\u001b[0m \u001b[38;5;28;43mself\u001b[39;49m\u001b[38;5;241;43m.\u001b[39;49m\u001b[43mmode\u001b[49m\u001b[43m(\u001b[49m\u001b[43mmode\u001b[49m\u001b[43m)\u001b[49m\u001b[38;5;241;43m.\u001b[39;49m\u001b[43m_jwrite\u001b[49m\u001b[38;5;241;43m.\u001b[39;49m\u001b[43mjdbc\u001b[49m\u001b[43m(\u001b[49m\u001b[43murl\u001b[49m\u001b[43m,\u001b[49m\u001b[43m \u001b[49m\u001b[43mtable\u001b[49m\u001b[43m,\u001b[49m\u001b[43m \u001b[49m\u001b[43mjprop\u001b[49m\u001b[43m)\u001b[49m\n",
            "File \u001b[0;32m~/cluster-env/env/lib/python3.10/site-packages/py4j/java_gateway.py:1322\u001b[0m, in \u001b[0;36mJavaMember.__call__\u001b[0;34m(self, *args)\u001b[0m\n\u001b[1;32m   1316\u001b[0m command \u001b[38;5;241m=\u001b[39m proto\u001b[38;5;241m.\u001b[39mCALL_COMMAND_NAME \u001b[38;5;241m+\u001b[39m\\\n\u001b[1;32m   1317\u001b[0m     \u001b[38;5;28mself\u001b[39m\u001b[38;5;241m.\u001b[39mcommand_header \u001b[38;5;241m+\u001b[39m\\\n\u001b[1;32m   1318\u001b[0m     args_command \u001b[38;5;241m+\u001b[39m\\\n\u001b[1;32m   1319\u001b[0m     proto\u001b[38;5;241m.\u001b[39mEND_COMMAND_PART\n\u001b[1;32m   1321\u001b[0m answer \u001b[38;5;241m=\u001b[39m \u001b[38;5;28mself\u001b[39m\u001b[38;5;241m.\u001b[39mgateway_client\u001b[38;5;241m.\u001b[39msend_command(command)\n\u001b[0;32m-> 1322\u001b[0m return_value \u001b[38;5;241m=\u001b[39m \u001b[43mget_return_value\u001b[49m\u001b[43m(\u001b[49m\n\u001b[1;32m   1323\u001b[0m \u001b[43m    \u001b[49m\u001b[43manswer\u001b[49m\u001b[43m,\u001b[49m\u001b[43m \u001b[49m\u001b[38;5;28;43mself\u001b[39;49m\u001b[38;5;241;43m.\u001b[39;49m\u001b[43mgateway_client\u001b[49m\u001b[43m,\u001b[49m\u001b[43m \u001b[49m\u001b[38;5;28;43mself\u001b[39;49m\u001b[38;5;241;43m.\u001b[39;49m\u001b[43mtarget_id\u001b[49m\u001b[43m,\u001b[49m\u001b[43m \u001b[49m\u001b[38;5;28;43mself\u001b[39;49m\u001b[38;5;241;43m.\u001b[39;49m\u001b[43mname\u001b[49m\u001b[43m)\u001b[49m\n\u001b[1;32m   1325\u001b[0m \u001b[38;5;28;01mfor\u001b[39;00m temp_arg \u001b[38;5;129;01min\u001b[39;00m temp_args:\n\u001b[1;32m   1326\u001b[0m     \u001b[38;5;28;01mif\u001b[39;00m \u001b[38;5;28mhasattr\u001b[39m(temp_arg, \u001b[38;5;124m\"\u001b[39m\u001b[38;5;124m_detach\u001b[39m\u001b[38;5;124m\"\u001b[39m):\n",
            "File \u001b[0;32m/opt/spark/python/lib/pyspark.zip/pyspark/errors/exceptions/captured.py:169\u001b[0m, in \u001b[0;36mcapture_sql_exception.<locals>.deco\u001b[0;34m(*a, **kw)\u001b[0m\n\u001b[1;32m    167\u001b[0m \u001b[38;5;28;01mdef\u001b[39;00m \u001b[38;5;21mdeco\u001b[39m(\u001b[38;5;241m*\u001b[39ma: Any, \u001b[38;5;241m*\u001b[39m\u001b[38;5;241m*\u001b[39mkw: Any) \u001b[38;5;241m-\u001b[39m\u001b[38;5;241m>\u001b[39m Any:\n\u001b[1;32m    168\u001b[0m     \u001b[38;5;28;01mtry\u001b[39;00m:\n\u001b[0;32m--> 169\u001b[0m         \u001b[38;5;28;01mreturn\u001b[39;00m \u001b[43mf\u001b[49m\u001b[43m(\u001b[49m\u001b[38;5;241;43m*\u001b[39;49m\u001b[43ma\u001b[49m\u001b[43m,\u001b[49m\u001b[43m \u001b[49m\u001b[38;5;241;43m*\u001b[39;49m\u001b[38;5;241;43m*\u001b[39;49m\u001b[43mkw\u001b[49m\u001b[43m)\u001b[49m\n\u001b[1;32m    170\u001b[0m     \u001b[38;5;28;01mexcept\u001b[39;00m Py4JJavaError \u001b[38;5;28;01mas\u001b[39;00m e:\n\u001b[1;32m    171\u001b[0m         converted \u001b[38;5;241m=\u001b[39m convert_exception(e\u001b[38;5;241m.\u001b[39mjava_exception)\n",
            "File \u001b[0;32m~/cluster-env/env/lib/python3.10/site-packages/py4j/protocol.py:326\u001b[0m, in \u001b[0;36mget_return_value\u001b[0;34m(answer, gateway_client, target_id, name)\u001b[0m\n\u001b[1;32m    324\u001b[0m value \u001b[38;5;241m=\u001b[39m OUTPUT_CONVERTER[\u001b[38;5;28mtype\u001b[39m](answer[\u001b[38;5;241m2\u001b[39m:], gateway_client)\n\u001b[1;32m    325\u001b[0m \u001b[38;5;28;01mif\u001b[39;00m answer[\u001b[38;5;241m1\u001b[39m] \u001b[38;5;241m==\u001b[39m REFERENCE_TYPE:\n\u001b[0;32m--> 326\u001b[0m     \u001b[38;5;28;01mraise\u001b[39;00m Py4JJavaError(\n\u001b[1;32m    327\u001b[0m         \u001b[38;5;124m\"\u001b[39m\u001b[38;5;124mAn error occurred while calling \u001b[39m\u001b[38;5;132;01m{0}\u001b[39;00m\u001b[38;5;132;01m{1}\u001b[39;00m\u001b[38;5;132;01m{2}\u001b[39;00m\u001b[38;5;124m.\u001b[39m\u001b[38;5;130;01m\\n\u001b[39;00m\u001b[38;5;124m\"\u001b[39m\u001b[38;5;241m.\u001b[39m\n\u001b[1;32m    328\u001b[0m         \u001b[38;5;28mformat\u001b[39m(target_id, \u001b[38;5;124m\"\u001b[39m\u001b[38;5;124m.\u001b[39m\u001b[38;5;124m\"\u001b[39m, name), value)\n\u001b[1;32m    329\u001b[0m \u001b[38;5;28;01melse\u001b[39;00m:\n\u001b[1;32m    330\u001b[0m     \u001b[38;5;28;01mraise\u001b[39;00m Py4JError(\n\u001b[1;32m    331\u001b[0m         \u001b[38;5;124m\"\u001b[39m\u001b[38;5;124mAn error occurred while calling \u001b[39m\u001b[38;5;132;01m{0}\u001b[39;00m\u001b[38;5;132;01m{1}\u001b[39;00m\u001b[38;5;132;01m{2}\u001b[39;00m\u001b[38;5;124m. Trace:\u001b[39m\u001b[38;5;130;01m\\n\u001b[39;00m\u001b[38;5;132;01m{3}\u001b[39;00m\u001b[38;5;130;01m\\n\u001b[39;00m\u001b[38;5;124m\"\u001b[39m\u001b[38;5;241m.\u001b[39m\n\u001b[1;32m    332\u001b[0m         \u001b[38;5;28mformat\u001b[39m(target_id, \u001b[38;5;124m\"\u001b[39m\u001b[38;5;124m.\u001b[39m\u001b[38;5;124m\"\u001b[39m, name, value))\n",
            "\u001b[0;31mPy4JJavaError\u001b[0m: An error occurred while calling o11647.jdbc.\n: com.microsoft.sqlserver.jdbc.SQLServerException: The TCP/IP connection to the host ASUS-A15, port 1433 has failed. Error: \"ASUS-A15. Verify the connection properties. Make sure that an instance of SQL Server is running on the host and accepting TCP/IP connections at the port. Make sure that TCP connections to the port are not blocked by a firewall.\".\n\tat com.microsoft.sqlserver.jdbc.SQLServerException.makeFromDriverError(SQLServerException.java:234)\n\tat com.microsoft.sqlserver.jdbc.SQLServerException.ConvertConnectExceptionToSQLServerException(SQLServerException.java:285)\n\tat com.microsoft.sqlserver.jdbc.SocketFinder.findSocket(IOBuffer.java:2462)\n\tat com.microsoft.sqlserver.jdbc.TDSChannel.open(IOBuffer.java:668)\n\tat com.microsoft.sqlserver.jdbc.SQLServerConnection.connectHelper(SQLServerConnection.java:2695)\n\tat com.microsoft.sqlserver.jdbc.SQLServerConnection.login(SQLServerConnection.java:2362)\n\tat com.microsoft.sqlserver.jdbc.SQLServerConnection.connectInternal(SQLServerConnection.java:2213)\n\tat com.microsoft.sqlserver.jdbc.SQLServerConnection.connect(SQLServerConnection.java:1276)\n\tat com.microsoft.sqlserver.jdbc.SQLServerDriver.connect(SQLServerDriver.java:861)\n\tat org.apache.spark.sql.execution.datasources.jdbc.connection.BasicConnectionProvider.getConnection(BasicConnectionProvider.scala:49)\n\tat org.apache.spark.sql.execution.datasources.jdbc.connection.ConnectionProviderBase.create(ConnectionProvider.scala:102)\n\tat org.apache.spark.sql.jdbc.JdbcDialect.$anonfun$createConnectionFactory$1(JdbcDialects.scala:123)\n\tat org.apache.spark.sql.jdbc.JdbcDialect.$anonfun$createConnectionFactory$1$adapted(JdbcDialects.scala:119)\n\tat org.apache.spark.sql.execution.datasources.jdbc.JdbcRelationProvider.createRelation(JdbcRelationProvider.scala:50)\n\tat org.apache.spark.sql.execution.datasources.SaveIntoDataSourceCommand.run(SaveIntoDataSourceCommand.scala:47)\n\tat org.apache.spark.sql.execution.command.ExecutedCommandExec.sideEffectResult$lzycompute(commands.scala:75)\n\tat org.apache.spark.sql.execution.command.ExecutedCommandExec.sideEffectResult(commands.scala:73)\n\tat org.apache.spark.sql.execution.command.ExecutedCommandExec.executeCollect(commands.scala:84)\n\tat org.apache.spark.sql.execution.QueryExecution$$anonfun$eagerlyExecuteCommands$1.$anonfun$applyOrElse$1(QueryExecution.scala:152)\n\tat org.apache.spark.sql.execution.SQLExecution$.$anonfun$withNewExecutionId$5(SQLExecution.scala:125)\n\tat org.apache.spark.sql.execution.SQLExecution$.withSQLConfPropagated(SQLExecution.scala:214)\n\tat org.apache.spark.sql.execution.SQLExecution$.$anonfun$withNewExecutionId$1(SQLExecution.scala:100)\n\tat org.apache.spark.sql.SparkSession.withActive(SparkSession.scala:827)\n\tat org.apache.spark.sql.execution.SQLExecution$.withNewExecutionId(SQLExecution.scala:67)\n\tat org.apache.spark.sql.execution.QueryExecution$$anonfun$eagerlyExecuteCommands$1.applyOrElse(QueryExecution.scala:152)\n\tat org.apache.spark.sql.execution.QueryExecution$$anonfun$eagerlyExecuteCommands$1.applyOrElse(QueryExecution.scala:145)\n\tat org.apache.spark.sql.catalyst.trees.TreeNode.$anonfun$transformDownWithPruning$1(TreeNode.scala:512)\n\tat org.apache.spark.sql.catalyst.trees.CurrentOrigin$.withOrigin(TreeNode.scala:104)\n\tat org.apache.spark.sql.catalyst.trees.TreeNode.transformDownWithPruning(TreeNode.scala:512)\n\tat org.apache.spark.sql.catalyst.plans.logical.LogicalPlan.org$apache$spark$sql$catalyst$plans$logical$AnalysisHelper$$super$transformDownWithPruning(LogicalPlan.scala:32)\n\tat org.apache.spark.sql.catalyst.plans.logical.AnalysisHelper.transformDownWithPruning(AnalysisHelper.scala:267)\n\tat org.apache.spark.sql.catalyst.plans.logical.AnalysisHelper.transformDownWithPruning$(AnalysisHelper.scala:263)\n\tat org.apache.spark.sql.catalyst.plans.logical.LogicalPlan.transformDownWithPruning(LogicalPlan.scala:32)\n\tat org.apache.spark.sql.catalyst.plans.logical.LogicalPlan.transformDownWithPruning(LogicalPlan.scala:32)\n\tat org.apache.spark.sql.catalyst.trees.TreeNode.transformDown(TreeNode.scala:488)\n\tat org.apache.spark.sql.execution.QueryExecution.eagerlyExecuteCommands(QueryExecution.scala:145)\n\tat org.apache.spark.sql.execution.QueryExecution.commandExecuted$lzycompute(QueryExecution.scala:129)\n\tat org.apache.spark.sql.execution.QueryExecution.commandExecuted(QueryExecution.scala:123)\n\tat org.apache.spark.sql.execution.QueryExecution.assertCommandExecuted(QueryExecution.scala:200)\n\tat org.apache.spark.sql.DataFrameWriter.runCommand(DataFrameWriter.scala:897)\n\tat org.apache.spark.sql.DataFrameWriter.saveToV1Source(DataFrameWriter.scala:412)\n\tat org.apache.spark.sql.DataFrameWriter.saveInternal(DataFrameWriter.scala:379)\n\tat org.apache.spark.sql.DataFrameWriter.save(DataFrameWriter.scala:249)\n\tat org.apache.spark.sql.DataFrameWriter.jdbc(DataFrameWriter.scala:794)\n\tat java.base/jdk.internal.reflect.NativeMethodAccessorImpl.invoke0(Native Method)\n\tat java.base/jdk.internal.reflect.NativeMethodAccessorImpl.invoke(NativeMethodAccessorImpl.java:62)\n\tat java.base/jdk.internal.reflect.DelegatingMethodAccessorImpl.invoke(DelegatingMethodAccessorImpl.java:43)\n\tat java.base/java.lang.reflect.Method.invoke(Method.java:566)\n\tat py4j.reflection.MethodInvoker.invoke(MethodInvoker.java:244)\n\tat py4j.reflection.ReflectionEngine.invoke(ReflectionEngine.java:374)\n\tat py4j.Gateway.invoke(Gateway.java:282)\n\tat py4j.commands.AbstractCommand.invokeMethod(AbstractCommand.java:132)\n\tat py4j.commands.CallCommand.execute(CallCommand.java:79)\n\tat py4j.GatewayConnection.run(GatewayConnection.java:238)\n\tat java.base/java.lang.Thread.run(Thread.java:829)\n"
          ]
        }
      ],
      "execution_count": 171,
      "metadata": {
        "jupyter": {
          "source_hidden": false,
          "outputs_hidden": false
        },
        "nteract": {
          "transient": {
            "deleting": false
          }
        }
      }
    },
    {
      "cell_type": "code",
      "source": [],
      "outputs": [],
      "execution_count": null,
      "metadata": {
        "jupyter": {
          "source_hidden": false,
          "outputs_hidden": false
        },
        "nteract": {
          "transient": {
            "deleting": false
          }
        }
      }
    },
    {
      "cell_type": "code",
      "source": [],
      "outputs": [],
      "execution_count": null,
      "metadata": {
        "jupyter": {
          "source_hidden": false,
          "outputs_hidden": false
        },
        "nteract": {
          "transient": {
            "deleting": false
          }
        }
      }
    }
  ],
  "metadata": {
    "language_info": {
      "name": "python"
    },
    "kernelspec": {
      "name": "synapse_pyspark",
      "language": "Python",
      "display_name": "Synapse PySpark"
    },
    "kernel_info": {
      "name": "synapse_pyspark"
    },
    "description": null,
    "save_output": true,
    "synapse_widget": {
      "version": "0.1",
      "state": {
        "1ae371c2-833f-4b36-b2bc-ca88fd6dee63": {
          "type": "Synapse.DataFrame",
          "sync_state": {
            "table": {
              "rows": [
                {
                  "0": "K-12722-FUR-FU-10004665-5859",
                  "1": "K-12722",
                  "2": "2022-07-30",
                  "3": "{'product_id': 'FUR-FU-10004665', 'quantity': 3, 'price': '$94.2'}"
                },
                {
                  "0": "K-12722-OFF-AR-10002053-0013",
                  "1": "K-12722",
                  "2": "2022-09-26",
                  "3": "{'product_id': 'OFF-AR-10002053', 'quantity': 2, 'price': '$16.02'}"
                },
                {
                  "0": "K-12722-TEC-PH-10001459-5611",
                  "1": "K-12722",
                  "2": "2023-06-20",
                  "3": "{'product_id': 'TEC-PH-10001459', 'quantity': 2, 'price': '$164.88'}"
                },
                {
                  "0": "WB-64368-OFF-BI-10003655-4331",
                  "1": "WB-64368",
                  "2": "2022-10-21",
                  "3": "{'product_id': 'OFF-BI-10003655', 'quantity': 5, 'price': '$16.34'}"
                },
                {
                  "0": "WB-64368-OFF-LA-10002381-4602",
                  "1": "WB-64368",
                  "2": "2024-04-23",
                  "3": "{'product_id': 'OFF-LA-10002381', 'quantity': 3, 'price': '$242.94'}"
                },
                {
                  "0": "WB-64368-OFF-PA-10003129-2410",
                  "1": "WB-64368",
                  "2": "2022-08-11",
                  "3": "{'product_id': 'OFF-PA-10003129', 'quantity': 2, 'price': '$32.4'}"
                },
                {
                  "0": "J-14825-FUR-BO-10000468-4538",
                  "1": "J-14825",
                  "2": "2023-06-18",
                  "3": "{'product_id': 'FUR-BO-10000468', 'quantity': 1, 'price': '$13.494'}"
                },
                {
                  "0": "J-14825-TEC-MA-10001031-4742",
                  "1": "J-14825",
                  "2": "2023-04-20",
                  "3": "{'product_id': 'TEC-MA-10001031', 'quantity': 3, 'price': '$12.224'}"
                },
                {
                  "0": "J-14825-OFF-PA-10002230-2210",
                  "1": "J-14825",
                  "2": "2022-09-10",
                  "3": "{'product_id': 'OFF-PA-10002230', 'quantity': 2, 'price': '$191.6'}"
                },
                {
                  "0": "J-14825-OFF-AR-10003958-1241",
                  "1": "J-14825",
                  "2": "2021-09-17",
                  "3": "{'product_id': 'OFF-AR-10003958', 'quantity': 4, 'price': '$54.368'}"
                }
              ],
              "schema": [
                {
                  "key": "0",
                  "name": "transaction_id",
                  "type": "string"
                },
                {
                  "key": "1",
                  "name": "customer_id",
                  "type": "string"
                },
                {
                  "key": "2",
                  "name": "date",
                  "type": "string"
                },
                {
                  "key": "3",
                  "name": "items",
                  "type": "string"
                }
              ],
              "truncated": false
            },
            "isSummary": false,
            "language": "scala"
          },
          "persist_state": {
            "view": {
              "type": "details",
              "tableOptions": {},
              "chartOptions": {
                "chartType": "bar",
                "aggregationType": "count",
                "categoryFieldKeys": [
                  "0"
                ],
                "seriesFieldKeys": [
                  "0"
                ],
                "isStacked": false
              }
            }
          }
        },
        "220df194-420e-47e5-bf40-29fae4504a25": {
          "type": "Synapse.DataFrame",
          "sync_state": {
            "table": {
              "rows": [
                {
                  "0": "FUR-BO-10000112",
                  "1": "Bush Birmingham Collection Bookcase, Dark Cherry",
                  "2": "{'product_category': 'Furniture', 'sub_category': 'Bookcases'}",
                  "3": "$46.0"
                },
                {
                  "0": "FUR-BO-10000330",
                  "1": "Sauder Camden County Barrister Bookcase, Planked Cherry Finish",
                  "2": "{'product_category': 'Furniture', 'sub_category': 'Bookcases'}",
                  "3": "$1024.38"
                },
                {
                  "0": "FUR-BO-10000362",
                  "1": "Sauder Inglewood Library Bookcases",
                  "2": "{'product_category': 'Furniture', 'sub_category': 'Bookcases'}",
                  "3": "$17.216"
                },
                {
                  "0": "FUR-BO-10000468",
                  "1": "O'Sullivan 2-Shelf Heavy-Duty Bookcases",
                  "2": "{'product_category': 'Furniture', 'sub_category': 'Bookcases'}",
                  "3": "$13.494"
                },
                {
                  "0": "FUR-BO-10000711",
                  "1": "Hon Metal Bookcases, Gray",
                  "2": "{'product_category': 'Furniture', 'sub_category': 'Bookcases'}",
                  "3": "$91.36"
                },
                {
                  "0": "FUR-BO-10000780",
                  "1": "O'Sullivan Plantations 2-Door Library in Landvery Oak",
                  "2": "{'product_category': 'Furniture', 'sub_category': 'Bookcases'}",
                  "3": "$104.8"
                },
                {
                  "0": "FUR-BO-10001337",
                  "1": "O'Sullivan Living Dimensions 2-Shelf Bookcases",
                  "2": "{'product_category': 'Furniture', 'sub_category': 'Bookcases'}",
                  "3": "$14.94"
                },
                {
                  "0": "FUR-BO-10001519",
                  "1": "O'Sullivan 3-Shelf Heavy-Duty Bookcases",
                  "2": "{'product_category': 'Furniture', 'sub_category': 'Bookcases'}",
                  "3": "$263.88"
                },
                {
                  "0": "FUR-BO-10001567",
                  "1": "Bush Westfield Collection Bookcases, Dark Cherry Finish, Fully Assembled",
                  "2": "{'product_category': 'Furniture', 'sub_category': 'Bookcases'}",
                  "3": "$28.4"
                },
                {
                  "0": "FUR-BO-10001601",
                  "1": "Sauder Mission Library with Doors, Fruitwood Finish",
                  "2": "{'product_category': 'Furniture', 'sub_category': 'Bookcases'}",
                  "3": "$60.984"
                }
              ],
              "schema": [
                {
                  "key": "0",
                  "name": "product_id",
                  "type": "string"
                },
                {
                  "key": "1",
                  "name": "description",
                  "type": "string"
                },
                {
                  "key": "2",
                  "name": "attributes",
                  "type": "string"
                },
                {
                  "key": "3",
                  "name": "price",
                  "type": "string"
                }
              ],
              "truncated": false
            },
            "isSummary": false,
            "language": "scala"
          },
          "persist_state": {
            "view": {
              "type": "details",
              "tableOptions": {},
              "chartOptions": {
                "chartType": "bar",
                "aggregationType": "count",
                "categoryFieldKeys": [
                  "0"
                ],
                "seriesFieldKeys": [
                  "0"
                ],
                "isStacked": false
              }
            }
          }
        },
        "f2f4a4ec-e8b6-489e-a67c-d4f6d7e7e7ec": {
          "type": "Synapse.DataFrame",
          "sync_state": {
            "table": {
              "rows": [
                {
                  "0": "K-12722",
                  "1": "Piya Lad",
                  "2": "Gold",
                  "3": "West Bengal",
                  "4": "\"[\"\"K-12722-FUR-FU-10004665-5859\"\""
                },
                {
                  "0": "WB-64368",
                  "1": "Biju Raj",
                  "2": "Gold",
                  "3": "Manipur",
                  "4": "\"[\"\"WB-64368-OFF-BI-10003655-4331\"\""
                },
                {
                  "0": "J-14825",
                  "1": "Priyansh Dugar",
                  "2": "Platinum",
                  "3": "Rajasthan",
                  "4": "\"[\"\"J-14825-FUR-BO-10000468-4538\"\""
                },
                {
                  "0": "A-30388",
                  "1": "Dharmajan Wadhwa",
                  "2": "Silver",
                  "3": "Kerala",
                  "4": "\"[\"\"A-30388-FUR-CH-10004997-2220\"\""
                },
                {
                  "0": "AP-31244",
                  "1": "Adah Choudhury",
                  "2": "Gold",
                  "3": "Meghalaya",
                  "4": "\"[\"\"AP-31244-FUR-TA-10000577-0057\"\""
                },
                {
                  "0": "K-79252",
                  "1": "Vedika Keer",
                  "2": "Gold",
                  "3": "Rajasthan",
                  "4": "\"[\"\"K-79252-OFF-BI-10003694-5814\"\""
                },
                {
                  "0": "K-34317",
                  "1": "Pihu Uppal",
                  "2": "Gold",
                  "3": "Bihar",
                  "4": "\"[\"\"K-34317-OFF-AR-10003903-3510\"\""
                },
                {
                  "0": "M-87710",
                  "1": "Shlok Baral",
                  "2": "Silver",
                  "3": "Jharkhand",
                  "4": "\"[\"\"M-87710-TEC-MA-10001695-2418\"\""
                },
                {
                  "0": "MP-54574",
                  "1": "Arhaan Sinha",
                  "2": "Silver",
                  "3": "Goa",
                  "4": "\"[\"\"MP-54574-TEC-PH-10003885-1742\"\""
                },
                {
                  "0": "B-24292",
                  "1": "Oorja Tata",
                  "2": "Gold",
                  "3": "Kerala",
                  "4": "\"[\"\"B-24292-OFF-PA-10002377-3328\"\""
                }
              ],
              "schema": [
                {
                  "key": "0",
                  "name": "customer_id",
                  "type": "string"
                },
                {
                  "key": "1",
                  "name": "name",
                  "type": "string"
                },
                {
                  "key": "2",
                  "name": "membership_level",
                  "type": "string"
                },
                {
                  "key": "3",
                  "name": "geographic_region",
                  "type": "string"
                },
                {
                  "key": "4",
                  "name": "purchase_history",
                  "type": "string"
                }
              ],
              "truncated": false
            },
            "isSummary": false,
            "language": "scala"
          },
          "persist_state": {
            "view": {
              "type": "details",
              "tableOptions": {},
              "chartOptions": {
                "chartType": "bar",
                "aggregationType": "count",
                "categoryFieldKeys": [
                  "0"
                ],
                "seriesFieldKeys": [
                  "0"
                ],
                "isStacked": false
              }
            }
          }
        },
        "1f98b2bc-c855-4fe0-a103-b3d066c40f27": {
          "type": "Synapse.DataFrame",
          "sync_state": {
            "table": {
              "rows": [
                {
                  "0": "WB-64368-OFF-BI-10003655-4331",
                  "1": "WB-64368",
                  "2": "81.7",
                  "4": "0.0"
                },
                {
                  "0": "WB-64368-OFF-LA-10002381-4602",
                  "1": "WB-64368",
                  "2": "728.82",
                  "4": "0.0"
                },
                {
                  "0": "WB-64368-OFF-PA-10003129-2410",
                  "1": "WB-64368",
                  "2": "64.8",
                  "4": "0.0"
                },
                {
                  "0": "K-12722-FUR-FU-10004665-5859",
                  "1": "K-12722",
                  "2": "282.59998",
                  "4": "0.0"
                },
                {
                  "0": "K-12722-OFF-AR-10002053-0013",
                  "1": "K-12722",
                  "2": "32.04",
                  "4": "0.0"
                },
                {
                  "0": "K-12722-TEC-PH-10001459-5611",
                  "1": "K-12722",
                  "2": "329.76",
                  "4": "0.0"
                },
                {
                  "0": "J-14825-FUR-BO-10000468-4538",
                  "1": "J-14825",
                  "2": "13.494",
                  "4": "0.0"
                },
                {
                  "0": "J-14825-TEC-MA-10001031-4742",
                  "1": "J-14825",
                  "2": "36.672",
                  "4": "0.0"
                },
                {
                  "0": "J-14825-OFF-PA-10002230-2210",
                  "1": "J-14825",
                  "2": "383.2",
                  "4": "0.0"
                },
                {
                  "0": "J-14825-OFF-AR-10003958-1241",
                  "1": "J-14825",
                  "2": "217.472",
                  "4": "0.0"
                }
              ],
              "schema": [
                {
                  "key": "0",
                  "name": "transaction_id",
                  "type": "string"
                },
                {
                  "key": "1",
                  "name": "customer_id",
                  "type": "string"
                },
                {
                  "key": "2",
                  "name": "sales",
                  "type": "float"
                },
                {
                  "key": "3",
                  "name": "cnt_of_transaction",
                  "type": "bigint"
                },
                {
                  "key": "4",
                  "name": "Price Discount",
                  "type": "double"
                }
              ],
              "truncated": false
            },
            "isSummary": false,
            "language": "scala"
          },
          "persist_state": {
            "view": {
              "type": "details",
              "tableOptions": {},
              "chartOptions": {
                "chartType": "bar",
                "aggregationType": "sum",
                "categoryFieldKeys": [
                  "0"
                ],
                "seriesFieldKeys": [
                  "2"
                ],
                "isStacked": false
              }
            }
          }
        },
        "b4d103d1-acae-464c-a65e-2ef054138916": {
          "type": "Synapse.DataFrame",
          "sync_state": {
            "table": {
              "rows": [
                {
                  "0": "B-46832-B-46832-OFF-PA-10002741-4017",
                  "1": "B-46832-OFF-PA-10002741-4017",
                  "2": "B-46832",
                  "3": "OFF-PA-10002741",
                  "4": "2024-02-17",
                  "5": "4",
                  "6": "$163.88",
                  "7": "$16.39"
                },
                {
                  "0": "C-87776-C-87776-OFF-EN-10000781-1914",
                  "1": "C-87776-OFF-EN-10000781-1914",
                  "2": "C-87776",
                  "3": "OFF-EN-10000781",
                  "4": "2021-06-20",
                  "5": "1",
                  "6": "$213.12",
                  "7": "$21.31"
                },
                {
                  "0": "AP-38866-AP-38866-FUR-FU-10003930-0707",
                  "1": "AP-38866-FUR-FU-10003930-0707",
                  "2": "AP-38866",
                  "3": "FUR-FU-10003930",
                  "4": "2021-11-10",
                  "5": "1",
                  "6": "$16.22",
                  "7": "$1.62"
                },
                {
                  "0": "H-69793-H-69793-OFF-AR-10002445-0604",
                  "1": "H-69793-OFF-AR-10002445-0604",
                  "2": "H-69793",
                  "3": "OFF-AR-10002445",
                  "4": "2022-05-19",
                  "5": "1",
                  "6": "$75.6",
                  "7": "$7.56"
                },
                {
                  "0": "B-98981-B-98981-TEC-PH-10000148-0559",
                  "1": "B-98981-TEC-PH-10000148-0559",
                  "2": "B-98981",
                  "3": "TEC-PH-10000148",
                  "4": "2023-07-23",
                  "5": "3",
                  "6": "$441.5",
                  "7": "$44.15"
                },
                {
                  "0": "M-71343-M-71343-OFF-PA-10001526-4024",
                  "1": "M-71343-OFF-PA-10001526-4024",
                  "2": "M-71343",
                  "3": "OFF-PA-10001526",
                  "4": "2024-06-15",
                  "5": "3",
                  "6": "$23.7",
                  "7": "$2.37"
                },
                {
                  "0": "B-86111-B-86111-OFF-AR-10000716-4135",
                  "1": "B-86111-OFF-AR-10000716-4135",
                  "2": "B-86111",
                  "3": "OFF-AR-10000716",
                  "4": "2023-11-21",
                  "5": "1",
                  "6": "$26.38",
                  "7": "$2.64"
                },
                {
                  "0": "M-27753-M-27753-FUR-FU-10001986-1002",
                  "1": "M-27753-FUR-FU-10001986-1002",
                  "2": "M-27753",
                  "3": "FUR-FU-10001986",
                  "4": "2022-08-26",
                  "5": "4",
                  "6": "$4.67",
                  "7": "$0.47"
                },
                {
                  "0": "AP-86470-AP-86470-FUR-CH-10004675-0034",
                  "1": "AP-86470-FUR-CH-10004675-0034",
                  "2": "AP-86470",
                  "3": "FUR-CH-10004675",
                  "4": "2023-12-08",
                  "5": "3",
                  "6": "$51.26",
                  "7": "$5.13"
                },
                {
                  "0": "K-58243-K-58243-TEC-MA-10002210-4319",
                  "1": "K-58243-TEC-MA-10002210-4319",
                  "2": "K-58243",
                  "3": "TEC-MA-10002210",
                  "4": "2022-04-28",
                  "5": "2",
                  "6": "$53.6",
                  "7": "$5.36"
                }
              ],
              "schema": [
                {
                  "key": "0",
                  "name": "refund_id",
                  "type": "string"
                },
                {
                  "key": "1",
                  "name": "transaction_id",
                  "type": "string"
                },
                {
                  "key": "2",
                  "name": "customer_id",
                  "type": "string"
                },
                {
                  "key": "3",
                  "name": "product_id",
                  "type": "string"
                },
                {
                  "key": "4",
                  "name": "date",
                  "type": "date"
                },
                {
                  "key": "5",
                  "name": "quantity",
                  "type": "int"
                },
                {
                  "key": "6",
                  "name": "refund_amount",
                  "type": "string"
                },
                {
                  "key": "7",
                  "name": "tax_refund_amount",
                  "type": "string"
                }
              ],
              "truncated": false
            },
            "isSummary": false,
            "language": "scala"
          },
          "persist_state": {
            "view": {
              "type": "details",
              "tableOptions": {},
              "chartOptions": {
                "chartType": "bar",
                "aggregationType": "sum",
                "categoryFieldKeys": [
                  "0"
                ],
                "seriesFieldKeys": [
                  "5"
                ],
                "isStacked": false
              }
            }
          }
        },
        "5781cff6-cf8c-4323-8b6c-383557e5902f": {
          "type": "Synapse.DataFrame",
          "sync_state": {
            "table": {
              "rows": [
                {
                  "0": "82a124c2-283d-45b2-9e2b-2a4c8ffb06c3",
                  "1": "Diwali Sale",
                  "2": "13.57",
                  "3": "[OFF-BI-10001072]",
                  "4": "15",
                  "5": "10",
                  "6": "15",
                  "7": "11"
                },
                {
                  "0": "87e92b81-64b1-4a53-a211-a5830e109bd2",
                  "1": "Holi Special",
                  "2": "11.86",
                  "3": "[FUR-FU-10003268, OFF-PA-10000743, TEC-AC-10001445, OFF-ST-10002615, OFF-AP-10000326, OFF-EN-10001535]",
                  "4": "10",
                  "5": "3",
                  "6": "20",
                  "7": "3"
                },
                {
                  "0": "25cb4323-cbf3-49c9-9fc1-642f1cc8dacb",
                  "1": "Eid Discount",
                  "2": "16.43",
                  "3": "[OFF-BI-10004506, TEC-MA-10004552, OFF-BI-10000494, OFF-PA-10002764]",
                  "4": "20",
                  "5": "5",
                  "6": "20",
                  "7": "6"
                },
                {
                  "0": "c9ce8ad9-afb4-4672-8c2d-cb66fc25d723",
                  "1": "Christmas Offer",
                  "2": "7.04",
                  "3": "[TEC-MA-10000488, TEC-AC-10001553, OFF-ST-10003692, TEC-MA-10001031]",
                  "4": "15",
                  "5": "12",
                  "6": "25",
                  "7": "12"
                },
                {
                  "0": "2ed8964c-76f8-46c9-98cd-3c95f3d273c9",
                  "1": "Independence Day Sale",
                  "2": "16.58",
                  "3": "[OFF-PA-10004092, TEC-MA-10004086, OFF-FA-10000134, OFF-ST-10001526, OFF-AR-10004817, OFF-ST-10004180, FUR-FU-10003664]",
                  "4": "10",
                  "5": "8",
                  "6": "20",
                  "7": "8"
                },
                {
                  "0": "93297e47-e2dd-438c-8b53-1d84f3f5fafe",
                  "1": "Republic Day Special",
                  "2": "13.87",
                  "3": "[OFF-AR-10003477]",
                  "4": "20",
                  "5": "1",
                  "6": "30",
                  "7": "1"
                },
                {
                  "0": "4e3e6130-4e1b-4991-b93a-018133615c94",
                  "1": "Ganesh Chaturthi Sale",
                  "2": "12.7",
                  "3": "[OFF-ST-10003996, TEC-AC-10001266, OFF-ST-10002276, TEC-AC-10004877, OFF-PA-10002195, OFF-AR-10000255, FUR-BO-10002268, TEC-PH-10003655, OFF-BI-10003650, TEC-PH-10000193]",
                  "4": "5",
                  "5": "9",
                  "6": "15",
                  "7": "9"
                },
                {
                  "0": "f0a4fbc6-bcf9-4d58-b2e2-633f2464a416",
                  "1": "Navratri Discount",
                  "2": "17.58",
                  "3": "[FUR-BO-10004467, OFF-ST-10000025, FUR-FU-10003535, TEC-PH-10002200, TEC-PH-10002275, OFF-PA-10000312]",
                  "4": "20",
                  "5": "9",
                  "6": "10",
                  "7": "10"
                },
                {
                  "0": "8961fec0-a90e-4e84-a61e-83548be3ecaf",
                  "1": "Raksha Bandhan Offer",
                  "2": "15.47",
                  "3": "[OFF-AR-10000390, OFF-AP-10002439, OFF-PA-10000176]",
                  "4": "1",
                  "5": "8",
                  "6": "10",
                  "7": "8"
                },
                {
                  "0": "3dc2444a-c3cf-4e40-b8ab-2f0e9ecfe662",
                  "1": "New Year Sale",
                  "2": "13.24",
                  "3": "[TEC-AC-10001606, FUR-CH-10004997, FUR-CH-10003199]",
                  "4": "1",
                  "5": "1",
                  "6": "10",
                  "7": "1"
                }
              ],
              "schema": [
                {
                  "key": "0",
                  "name": "promo_id",
                  "type": "string"
                },
                {
                  "key": "1",
                  "name": "description",
                  "type": "string"
                },
                {
                  "key": "2",
                  "name": "discount",
                  "type": "double"
                },
                {
                  "key": "3",
                  "name": "applicable_products",
                  "type": "string"
                },
                {
                  "key": "4",
                  "name": "start_date",
                  "type": "int"
                },
                {
                  "key": "5",
                  "name": "start_date_month",
                  "type": "int"
                },
                {
                  "key": "6",
                  "name": "end_date",
                  "type": "int"
                },
                {
                  "key": "7",
                  "name": "end_date_month",
                  "type": "int"
                }
              ],
              "truncated": false
            },
            "isSummary": false,
            "language": "scala"
          },
          "persist_state": {
            "view": {
              "type": "details",
              "tableOptions": {},
              "chartOptions": {
                "chartType": "bar",
                "aggregationType": "sum",
                "categoryFieldKeys": [
                  "0"
                ],
                "seriesFieldKeys": [
                  "2"
                ],
                "isStacked": false
              }
            }
          }
        }
      }
    }
  },
  "nbformat": 4,
  "nbformat_minor": 2
}